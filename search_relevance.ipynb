{
 "cells": [
  {
   "cell_type": "markdown",
   "metadata": {},
   "source": [
    "# Search relevancy"
   ]
  },
  {
   "cell_type": "markdown",
   "metadata": {},
   "source": [
    "We will analyze an hour of anonymized search data from 14/10/2020, for the Android client platform. We aim to evaluate search relevancy from the data provided."
   ]
  },
  {
   "cell_type": "markdown",
   "metadata": {},
   "source": [
    "## Load and explore data"
   ]
  },
  {
   "cell_type": "code",
   "execution_count": 1,
   "metadata": {},
   "outputs": [],
   "source": [
    "import pandas as pd\n",
    "import seaborn as sns\n",
    "\n",
    "initiate_search = pd.read_csv('initiate_search.csv')\n",
    "search_result = pd.read_csv('search_result.csv')\n",
    "search_query = pd.read_csv('search_query.csv')\n",
    "click_search = pd.read_csv('click_search.csv')"
   ]
  },
  {
   "cell_type": "code",
   "execution_count": 2,
   "metadata": {},
   "outputs": [
    {
     "data": {
      "text/html": [
       "<div>\n",
       "<style scoped>\n",
       "    .dataframe tbody tr th:only-of-type {\n",
       "        vertical-align: middle;\n",
       "    }\n",
       "\n",
       "    .dataframe tbody tr th {\n",
       "        vertical-align: top;\n",
       "    }\n",
       "\n",
       "    .dataframe thead th {\n",
       "        text-align: right;\n",
       "    }\n",
       "</style>\n",
       "<table border=\"1\" class=\"dataframe\">\n",
       "  <thead>\n",
       "    <tr style=\"text-align: right;\">\n",
       "      <th></th>\n",
       "      <th>event_name</th>\n",
       "      <th>searchUuid</th>\n",
       "      <th>method</th>\n",
       "      <th>event_ts</th>\n",
       "      <th>dt</th>\n",
       "      <th>user_id</th>\n",
       "    </tr>\n",
       "  </thead>\n",
       "  <tbody>\n",
       "    <tr>\n",
       "      <th>0</th>\n",
       "      <td>initiate_search</td>\n",
       "      <td>13332dd0-848e-40ad-9427-c57f5b8d7fe0</td>\n",
       "      <td>clickInBar</td>\n",
       "      <td>1602638935065</td>\n",
       "      <td>2020-10-14</td>\n",
       "      <td>377</td>\n",
       "    </tr>\n",
       "    <tr>\n",
       "      <th>1</th>\n",
       "      <td>initiate_search</td>\n",
       "      <td>7c7044b0-bc2c-440a-a016-40196dcc1fed</td>\n",
       "      <td>clickInBar</td>\n",
       "      <td>1602640121219</td>\n",
       "      <td>2020-10-14</td>\n",
       "      <td>249</td>\n",
       "    </tr>\n",
       "  </tbody>\n",
       "</table>\n",
       "</div>"
      ],
      "text/plain": [
       "        event_name                            searchUuid      method  \\\n",
       "0  initiate_search  13332dd0-848e-40ad-9427-c57f5b8d7fe0  clickInBar   \n",
       "1  initiate_search  7c7044b0-bc2c-440a-a016-40196dcc1fed  clickInBar   \n",
       "\n",
       "        event_ts          dt  user_id  \n",
       "0  1602638935065  2020-10-14      377  \n",
       "1  1602640121219  2020-10-14      249  "
      ]
     },
     "execution_count": 2,
     "metadata": {},
     "output_type": "execute_result"
    }
   ],
   "source": [
    "initiate_search.head(2)"
   ]
  },
  {
   "cell_type": "code",
   "execution_count": 3,
   "metadata": {},
   "outputs": [
    {
     "data": {
      "text/html": [
       "<div>\n",
       "<style scoped>\n",
       "    .dataframe tbody tr th:only-of-type {\n",
       "        vertical-align: middle;\n",
       "    }\n",
       "\n",
       "    .dataframe tbody tr th {\n",
       "        vertical-align: top;\n",
       "    }\n",
       "\n",
       "    .dataframe thead th {\n",
       "        text-align: right;\n",
       "    }\n",
       "</style>\n",
       "<table border=\"1\" class=\"dataframe\">\n",
       "  <thead>\n",
       "    <tr style=\"text-align: right;\">\n",
       "      <th></th>\n",
       "      <th>event_name</th>\n",
       "      <th>query</th>\n",
       "      <th>searchUuid</th>\n",
       "      <th>queryUuid</th>\n",
       "      <th>event_ts</th>\n",
       "      <th>dt</th>\n",
       "      <th>user_id</th>\n",
       "    </tr>\n",
       "  </thead>\n",
       "  <tbody>\n",
       "    <tr>\n",
       "      <th>0</th>\n",
       "      <td>search_result</td>\n",
       "      <td>ill bomb</td>\n",
       "      <td>048cb5b1-e39e-4fb8-819d-10f27aafe614</td>\n",
       "      <td>b51b2cbf-d801-4717-b78f-f964d80ca35c</td>\n",
       "      <td>1602638441881</td>\n",
       "      <td>2020-10-14</td>\n",
       "      <td>212</td>\n",
       "    </tr>\n",
       "    <tr>\n",
       "      <th>1</th>\n",
       "      <td>search_result</td>\n",
       "      <td>cut w</td>\n",
       "      <td>a4bee6f3-1d3b-4894-b45c-b694011cedfe</td>\n",
       "      <td>f284f6ad-72aa-467c-ae8d-a0396983d68e</td>\n",
       "      <td>1602639204167</td>\n",
       "      <td>2020-10-14</td>\n",
       "      <td>25</td>\n",
       "    </tr>\n",
       "  </tbody>\n",
       "</table>\n",
       "</div>"
      ],
      "text/plain": [
       "      event_name     query                            searchUuid  \\\n",
       "0  search_result  ill bomb  048cb5b1-e39e-4fb8-819d-10f27aafe614   \n",
       "1  search_result     cut w  a4bee6f3-1d3b-4894-b45c-b694011cedfe   \n",
       "\n",
       "                              queryUuid       event_ts          dt  user_id  \n",
       "0  b51b2cbf-d801-4717-b78f-f964d80ca35c  1602638441881  2020-10-14      212  \n",
       "1  f284f6ad-72aa-467c-ae8d-a0396983d68e  1602639204167  2020-10-14       25  "
      ]
     },
     "execution_count": 3,
     "metadata": {},
     "output_type": "execute_result"
    }
   ],
   "source": [
    "search_result.head(2)"
   ]
  },
  {
   "cell_type": "code",
   "execution_count": 4,
   "metadata": {},
   "outputs": [
    {
     "data": {
      "text/html": [
       "<div>\n",
       "<style scoped>\n",
       "    .dataframe tbody tr th:only-of-type {\n",
       "        vertical-align: middle;\n",
       "    }\n",
       "\n",
       "    .dataframe tbody tr th {\n",
       "        vertical-align: top;\n",
       "    }\n",
       "\n",
       "    .dataframe thead th {\n",
       "        text-align: right;\n",
       "    }\n",
       "</style>\n",
       "<table border=\"1\" class=\"dataframe\">\n",
       "  <thead>\n",
       "    <tr style=\"text-align: right;\">\n",
       "      <th></th>\n",
       "      <th>event_name</th>\n",
       "      <th>query</th>\n",
       "      <th>queryId</th>\n",
       "      <th>topresults</th>\n",
       "      <th>trackresults</th>\n",
       "      <th>artistresults</th>\n",
       "      <th>albumresults</th>\n",
       "      <th>videoresults</th>\n",
       "      <th>playlistresults</th>\n",
       "      <th>responseTime</th>\n",
       "      <th>dt</th>\n",
       "      <th>user_id</th>\n",
       "    </tr>\n",
       "  </thead>\n",
       "  <tbody>\n",
       "    <tr>\n",
       "      <th>0</th>\n",
       "      <td>search_query</td>\n",
       "      <td>art of story telling pt</td>\n",
       "      <td>00db2706-a334-41f1-aeb5-bac027618ff3</td>\n",
       "      <td>[]</td>\n",
       "      <td>[]</td>\n",
       "      <td>[]</td>\n",
       "      <td>[]</td>\n",
       "      <td>[]</td>\n",
       "      <td>[]</td>\n",
       "      <td>{track=19, video=7, artist=17, album=19, playl...</td>\n",
       "      <td>2020-10-14</td>\n",
       "      <td>258</td>\n",
       "    </tr>\n",
       "    <tr>\n",
       "      <th>1</th>\n",
       "      <td>search_query</td>\n",
       "      <td>Rick</td>\n",
       "      <td>0a98a77d-270c-44f0-a7a7-d7c39a45fd86</td>\n",
       "      <td>[{id=24995, contenttype=Artist}]</td>\n",
       "      <td>[{id=99796344, popularityww=82, popularitycoun...</td>\n",
       "      <td>[{id=24995, popularityww=99, popularitycountry...</td>\n",
       "      <td>[{id=4167836, popularityww=96, popularitycount...</td>\n",
       "      <td>[{id=65646214, popularityww=53, popularitycoun...</td>\n",
       "      <td>[{id=198350027, popularityww=86, popularitycou...</td>\n",
       "      <td>{track=41, video=7, artist=53, album=25, playl...</td>\n",
       "      <td>2020-10-14</td>\n",
       "      <td>351</td>\n",
       "    </tr>\n",
       "  </tbody>\n",
       "</table>\n",
       "</div>"
      ],
      "text/plain": [
       "     event_name                    query  \\\n",
       "0  search_query  art of story telling pt   \n",
       "1  search_query                     Rick   \n",
       "\n",
       "                                queryId                        topresults  \\\n",
       "0  00db2706-a334-41f1-aeb5-bac027618ff3                                []   \n",
       "1  0a98a77d-270c-44f0-a7a7-d7c39a45fd86  [{id=24995, contenttype=Artist}]   \n",
       "\n",
       "                                        trackresults  \\\n",
       "0                                                 []   \n",
       "1  [{id=99796344, popularityww=82, popularitycoun...   \n",
       "\n",
       "                                       artistresults  \\\n",
       "0                                                 []   \n",
       "1  [{id=24995, popularityww=99, popularitycountry...   \n",
       "\n",
       "                                        albumresults  \\\n",
       "0                                                 []   \n",
       "1  [{id=4167836, popularityww=96, popularitycount...   \n",
       "\n",
       "                                        videoresults  \\\n",
       "0                                                 []   \n",
       "1  [{id=65646214, popularityww=53, popularitycoun...   \n",
       "\n",
       "                                     playlistresults  \\\n",
       "0                                                 []   \n",
       "1  [{id=198350027, popularityww=86, popularitycou...   \n",
       "\n",
       "                                        responseTime          dt  user_id  \n",
       "0  {track=19, video=7, artist=17, album=19, playl...  2020-10-14      258  \n",
       "1  {track=41, video=7, artist=53, album=25, playl...  2020-10-14      351  "
      ]
     },
     "execution_count": 4,
     "metadata": {},
     "output_type": "execute_result"
    }
   ],
   "source": [
    "search_query.head(2)"
   ]
  },
  {
   "cell_type": "code",
   "execution_count": 5,
   "metadata": {},
   "outputs": [
    {
     "data": {
      "text/html": [
       "<div>\n",
       "<style scoped>\n",
       "    .dataframe tbody tr th:only-of-type {\n",
       "        vertical-align: middle;\n",
       "    }\n",
       "\n",
       "    .dataframe tbody tr th {\n",
       "        vertical-align: top;\n",
       "    }\n",
       "\n",
       "    .dataframe thead th {\n",
       "        text-align: right;\n",
       "    }\n",
       "</style>\n",
       "<table border=\"1\" class=\"dataframe\">\n",
       "  <thead>\n",
       "    <tr style=\"text-align: right;\">\n",
       "      <th></th>\n",
       "      <th>event_name</th>\n",
       "      <th>queryUuid</th>\n",
       "      <th>pageId</th>\n",
       "      <th>endResult</th>\n",
       "      <th>contentType</th>\n",
       "      <th>contentId</th>\n",
       "      <th>contentPlacement</th>\n",
       "      <th>searchUuid</th>\n",
       "      <th>event_ts</th>\n",
       "      <th>dt</th>\n",
       "      <th>user_id</th>\n",
       "    </tr>\n",
       "  </thead>\n",
       "  <tbody>\n",
       "    <tr>\n",
       "      <th>0</th>\n",
       "      <td>click_search</td>\n",
       "      <td>329f9073-60ae-4819-b5fe-c6a6f340f74c</td>\n",
       "      <td>search</td>\n",
       "      <td>navigation</td>\n",
       "      <td>artist</td>\n",
       "      <td>3619453</td>\n",
       "      <td>0</td>\n",
       "      <td>1eddb4fd-829c-4971-bdc8-6af380a98626</td>\n",
       "      <td>1602640556158</td>\n",
       "      <td>2020-10-14</td>\n",
       "      <td>194</td>\n",
       "    </tr>\n",
       "    <tr>\n",
       "      <th>1</th>\n",
       "      <td>click_search</td>\n",
       "      <td>f01bed2f-ea3e-430b-a691-b4241324d9a8</td>\n",
       "      <td>search</td>\n",
       "      <td>navigation</td>\n",
       "      <td>artist</td>\n",
       "      <td>3646659</td>\n",
       "      <td>0</td>\n",
       "      <td>6b2cdbd1-bb13-44ba-97d9-84e76c8a18b4</td>\n",
       "      <td>1602471803424</td>\n",
       "      <td>2020-10-14</td>\n",
       "      <td>56</td>\n",
       "    </tr>\n",
       "  </tbody>\n",
       "</table>\n",
       "</div>"
      ],
      "text/plain": [
       "     event_name                             queryUuid  pageId   endResult  \\\n",
       "0  click_search  329f9073-60ae-4819-b5fe-c6a6f340f74c  search  navigation   \n",
       "1  click_search  f01bed2f-ea3e-430b-a691-b4241324d9a8  search  navigation   \n",
       "\n",
       "  contentType contentId  contentPlacement  \\\n",
       "0      artist   3619453                 0   \n",
       "1      artist   3646659                 0   \n",
       "\n",
       "                             searchUuid       event_ts          dt  user_id  \n",
       "0  1eddb4fd-829c-4971-bdc8-6af380a98626  1602640556158  2020-10-14      194  \n",
       "1  6b2cdbd1-bb13-44ba-97d9-84e76c8a18b4  1602471803424  2020-10-14       56  "
      ]
     },
     "execution_count": 5,
     "metadata": {},
     "output_type": "execute_result"
    }
   ],
   "source": [
    "click_search.head(2)"
   ]
  },
  {
   "cell_type": "code",
   "execution_count": 6,
   "metadata": {},
   "outputs": [
    {
     "name": "stdout",
     "output_type": "stream",
     "text": [
      "<class 'pandas.core.frame.DataFrame'>\n",
      "RangeIndex: 611 entries, 0 to 610\n",
      "Data columns (total 6 columns):\n",
      " #   Column      Non-Null Count  Dtype \n",
      "---  ------      --------------  ----- \n",
      " 0   event_name  611 non-null    object\n",
      " 1   searchUuid  611 non-null    object\n",
      " 2   method      611 non-null    object\n",
      " 3   event_ts    611 non-null    int64 \n",
      " 4   dt          611 non-null    object\n",
      " 5   user_id     611 non-null    int64 \n",
      "dtypes: int64(2), object(4)\n",
      "memory usage: 28.8+ KB\n"
     ]
    }
   ],
   "source": [
    "initiate_search.info()"
   ]
  },
  {
   "cell_type": "code",
   "execution_count": 7,
   "metadata": {},
   "outputs": [
    {
     "name": "stdout",
     "output_type": "stream",
     "text": [
      "<class 'pandas.core.frame.DataFrame'>\n",
      "RangeIndex: 1320 entries, 0 to 1319\n",
      "Data columns (total 7 columns):\n",
      " #   Column      Non-Null Count  Dtype \n",
      "---  ------      --------------  ----- \n",
      " 0   event_name  1320 non-null   object\n",
      " 1   query       1320 non-null   object\n",
      " 2   searchUuid  1320 non-null   object\n",
      " 3   queryUuid   1320 non-null   object\n",
      " 4   event_ts    1320 non-null   int64 \n",
      " 5   dt          1320 non-null   object\n",
      " 6   user_id     1320 non-null   int64 \n",
      "dtypes: int64(2), object(5)\n",
      "memory usage: 72.3+ KB\n"
     ]
    }
   ],
   "source": [
    "search_result.info()"
   ]
  },
  {
   "cell_type": "code",
   "execution_count": 8,
   "metadata": {},
   "outputs": [
    {
     "name": "stdout",
     "output_type": "stream",
     "text": [
      "<class 'pandas.core.frame.DataFrame'>\n",
      "RangeIndex: 1065 entries, 0 to 1064\n",
      "Data columns (total 12 columns):\n",
      " #   Column           Non-Null Count  Dtype \n",
      "---  ------           --------------  ----- \n",
      " 0   event_name       1065 non-null   object\n",
      " 1   query            1065 non-null   object\n",
      " 2   queryId          1065 non-null   object\n",
      " 3   topresults       1065 non-null   object\n",
      " 4   trackresults     1065 non-null   object\n",
      " 5   artistresults    1065 non-null   object\n",
      " 6   albumresults     1065 non-null   object\n",
      " 7   videoresults     1065 non-null   object\n",
      " 8   playlistresults  1065 non-null   object\n",
      " 9   responseTime     1065 non-null   object\n",
      " 10  dt               1065 non-null   object\n",
      " 11  user_id          1065 non-null   int64 \n",
      "dtypes: int64(1), object(11)\n",
      "memory usage: 100.0+ KB\n"
     ]
    }
   ],
   "source": [
    "search_query.info()"
   ]
  },
  {
   "cell_type": "code",
   "execution_count": 9,
   "metadata": {},
   "outputs": [
    {
     "name": "stdout",
     "output_type": "stream",
     "text": [
      "<class 'pandas.core.frame.DataFrame'>\n",
      "RangeIndex: 422 entries, 0 to 421\n",
      "Data columns (total 11 columns):\n",
      " #   Column            Non-Null Count  Dtype \n",
      "---  ------            --------------  ----- \n",
      " 0   event_name        422 non-null    object\n",
      " 1   queryUuid         422 non-null    object\n",
      " 2   pageId            422 non-null    object\n",
      " 3   endResult         422 non-null    object\n",
      " 4   contentType       422 non-null    object\n",
      " 5   contentId         422 non-null    object\n",
      " 6   contentPlacement  422 non-null    int64 \n",
      " 7   searchUuid        422 non-null    object\n",
      " 8   event_ts          422 non-null    int64 \n",
      " 9   dt                422 non-null    object\n",
      " 10  user_id           422 non-null    int64 \n",
      "dtypes: int64(3), object(8)\n",
      "memory usage: 36.4+ KB\n"
     ]
    }
   ],
   "source": [
    "click_search.info()"
   ]
  },
  {
   "cell_type": "markdown",
   "metadata": {},
   "source": [
    "We find no obvious null values in any of the dataframes that we should worry about for now (although 'object'/string types might contain entries that are equivalent to null when parsed)."
   ]
  },
  {
   "cell_type": "markdown",
   "metadata": {},
   "source": [
    "## Number of search sessions"
   ]
  },
  {
   "cell_type": "markdown",
   "metadata": {},
   "source": [
    "We are going to start with a bit exploration of the 4 data frames to get a sense of how they are related, how many unique IDs for searches and queries they contain and how that is related to their size."
   ]
  },
  {
   "cell_type": "code",
   "execution_count": 10,
   "metadata": {},
   "outputs": [
    {
     "data": {
      "text/plain": [
       "array(['initiate_search'], dtype=object)"
      ]
     },
     "execution_count": 10,
     "metadata": {},
     "output_type": "execute_result"
    }
   ],
   "source": [
    "initiate_search['event_name'].unique()"
   ]
  },
  {
   "cell_type": "code",
   "execution_count": 11,
   "metadata": {},
   "outputs": [
    {
     "data": {
      "text/plain": [
       "array(['clickInBar', 'deleteSearch', 'searchButton'], dtype=object)"
      ]
     },
     "execution_count": 11,
     "metadata": {},
     "output_type": "execute_result"
    }
   ],
   "source": [
    "initiate_search['method'].unique()"
   ]
  },
  {
   "cell_type": "code",
   "execution_count": 12,
   "metadata": {},
   "outputs": [
    {
     "data": {
      "text/plain": [
       "611"
      ]
     },
     "execution_count": 12,
     "metadata": {},
     "output_type": "execute_result"
    }
   ],
   "source": [
    "initiate_search['searchUuid'].unique().size"
   ]
  },
  {
   "cell_type": "code",
   "execution_count": 13,
   "metadata": {},
   "outputs": [
    {
     "data": {
      "text/plain": [
       "434"
      ]
     },
     "execution_count": 13,
     "metadata": {},
     "output_type": "execute_result"
    }
   ],
   "source": [
    "search_result['searchUuid'].unique().size"
   ]
  },
  {
   "cell_type": "code",
   "execution_count": 14,
   "metadata": {},
   "outputs": [
    {
     "data": {
      "text/plain": [
       "1286"
      ]
     },
     "execution_count": 14,
     "metadata": {},
     "output_type": "execute_result"
    }
   ],
   "source": [
    "search_result['queryUuid'].unique().size"
   ]
  },
  {
   "cell_type": "code",
   "execution_count": 15,
   "metadata": {},
   "outputs": [
    {
     "data": {
      "text/plain": [
       "offline                                 5\n",
       "6cdb62fb-3b2d-4e0b-9490-48dcb969a622    3\n",
       "8d72f1c4-b0da-4d24-8dff-a9de333cd0bf    3\n",
       "eb1cf852-38e7-4769-8361-3ce45e58755a    3\n",
       "8b5f57fa-244a-45d6-93f9-177b451a2677    2\n",
       "277e1285-1c3b-460d-b946-0fc8535ac30b    2\n",
       "bc809275-bac9-4526-b197-36a087566c3f    2\n",
       "73c75fe1-a5d5-4430-8da6-cb8d77729fa1    2\n",
       "ad16ae12-3939-4be8-b485-a8f84bcba256    2\n",
       "25cdd1f3-c964-4623-b827-16a154a1a589    2\n",
       "fede9b26-084d-4b18-93b3-6f2fd893fe7a    2\n",
       "7c957c7f-6edd-462c-b18c-0b784929698e    2\n",
       "5f2dbcfa-22aa-4672-9e8e-27d3a8a3ee64    2\n",
       "7c9d6c26-3092-454b-9a56-f46ff495ade2    2\n",
       "1eb1f753-f0ed-4e3e-ba75-ace4dc118166    2\n",
       "497d55ad-b4b1-4f1c-a8c9-45223d32f86d    2\n",
       "35321f46-fa67-4e0b-bf49-a5d403ec53c8    2\n",
       "c8582156-76a1-4430-b672-0d0290226446    2\n",
       "f1df0192-732d-4631-8c63-57b3e5684475    2\n",
       "576afd27-ca81-4286-acf9-200a46ea738e    2\n",
       "1d1c205f-4967-4cd0-99a7-38746100cc0c    2\n",
       "6667cd1a-ccd5-4092-9ed1-52b4ac711e3d    2\n",
       "5eae8704-4fdd-4037-a834-56e2f948f584    2\n",
       "7d9bb6c3-776b-42f3-87eb-660d78e64b34    2\n",
       "91936044-99cc-4788-b898-72296ecb72da    2\n",
       "0ae1b3c2-42b4-4359-9d8d-3bc5b524cb05    2\n",
       "791996f1-318e-4e71-9149-adccb52ef5c7    2\n",
       "e5af1e68-8574-46bc-ad99-ac9ae796587b    2\n",
       "4bae6d57-1eca-4fde-8a80-543db8873420    1\n",
       "4322771e-04a0-419a-b0d8-c794b44d30c7    1\n",
       "2b40f93b-8006-45a2-9a93-808ca15e5e43    1\n",
       "11c73c12-aebe-48d5-a9bf-99bf5b7891e2    1\n",
       "26c4f03e-81d1-408f-89dd-4c56a8faec18    1\n",
       "f2032520-13ec-401b-8502-e72586e7dbd2    1\n",
       "cbe1f28b-1f8a-4310-8f3e-4985ff7aae13    1\n",
       "Name: queryUuid, dtype: int64"
      ]
     },
     "execution_count": 15,
     "metadata": {},
     "output_type": "execute_result"
    }
   ],
   "source": [
    "search_result['queryUuid'].value_counts()[:35]"
   ]
  },
  {
   "cell_type": "markdown",
   "metadata": {},
   "source": [
    "We can see that 5 of the queries were performed while offline, then there are a few query ids that appear 3 or 2 times in the data frame, and all the rest of the entries have unique query ids."
   ]
  },
  {
   "cell_type": "code",
   "execution_count": 16,
   "metadata": {},
   "outputs": [
    {
     "data": {
      "text/html": [
       "<div>\n",
       "<style scoped>\n",
       "    .dataframe tbody tr th:only-of-type {\n",
       "        vertical-align: middle;\n",
       "    }\n",
       "\n",
       "    .dataframe tbody tr th {\n",
       "        vertical-align: top;\n",
       "    }\n",
       "\n",
       "    .dataframe thead th {\n",
       "        text-align: right;\n",
       "    }\n",
       "</style>\n",
       "<table border=\"1\" class=\"dataframe\">\n",
       "  <thead>\n",
       "    <tr style=\"text-align: right;\">\n",
       "      <th></th>\n",
       "      <th>event_name</th>\n",
       "      <th>query</th>\n",
       "      <th>searchUuid</th>\n",
       "      <th>queryUuid</th>\n",
       "      <th>event_ts</th>\n",
       "      <th>dt</th>\n",
       "      <th>user_id</th>\n",
       "    </tr>\n",
       "  </thead>\n",
       "  <tbody>\n",
       "    <tr>\n",
       "      <th>1006</th>\n",
       "      <td>search_result</td>\n",
       "      <td>nr</td>\n",
       "      <td>fe76177e-9c5d-4e14-baed-ce7f1922c901</td>\n",
       "      <td>8d72f1c4-b0da-4d24-8dff-a9de333cd0bf</td>\n",
       "      <td>1602639623691</td>\n",
       "      <td>2020-10-14</td>\n",
       "      <td>32</td>\n",
       "    </tr>\n",
       "    <tr>\n",
       "      <th>1100</th>\n",
       "      <td>search_result</td>\n",
       "      <td>nr</td>\n",
       "      <td>fe76177e-9c5d-4e14-baed-ce7f1922c901</td>\n",
       "      <td>8d72f1c4-b0da-4d24-8dff-a9de333cd0bf</td>\n",
       "      <td>1602639617986</td>\n",
       "      <td>2020-10-14</td>\n",
       "      <td>32</td>\n",
       "    </tr>\n",
       "    <tr>\n",
       "      <th>1190</th>\n",
       "      <td>search_result</td>\n",
       "      <td>nr</td>\n",
       "      <td>fe76177e-9c5d-4e14-baed-ce7f1922c901</td>\n",
       "      <td>8d72f1c4-b0da-4d24-8dff-a9de333cd0bf</td>\n",
       "      <td>1602639626118</td>\n",
       "      <td>2020-10-14</td>\n",
       "      <td>32</td>\n",
       "    </tr>\n",
       "  </tbody>\n",
       "</table>\n",
       "</div>"
      ],
      "text/plain": [
       "         event_name query                            searchUuid  \\\n",
       "1006  search_result    nr  fe76177e-9c5d-4e14-baed-ce7f1922c901   \n",
       "1100  search_result    nr  fe76177e-9c5d-4e14-baed-ce7f1922c901   \n",
       "1190  search_result    nr  fe76177e-9c5d-4e14-baed-ce7f1922c901   \n",
       "\n",
       "                                 queryUuid       event_ts          dt  user_id  \n",
       "1006  8d72f1c4-b0da-4d24-8dff-a9de333cd0bf  1602639623691  2020-10-14       32  \n",
       "1100  8d72f1c4-b0da-4d24-8dff-a9de333cd0bf  1602639617986  2020-10-14       32  \n",
       "1190  8d72f1c4-b0da-4d24-8dff-a9de333cd0bf  1602639626118  2020-10-14       32  "
      ]
     },
     "execution_count": 16,
     "metadata": {},
     "output_type": "execute_result"
    }
   ],
   "source": [
    "search_result[search_result['queryUuid'] == '8d72f1c4-b0da-4d24-8dff-a9de333cd0bf']"
   ]
  },
  {
   "cell_type": "code",
   "execution_count": 17,
   "metadata": {},
   "outputs": [
    {
     "data": {
      "text/html": [
       "<div>\n",
       "<style scoped>\n",
       "    .dataframe tbody tr th:only-of-type {\n",
       "        vertical-align: middle;\n",
       "    }\n",
       "\n",
       "    .dataframe tbody tr th {\n",
       "        vertical-align: top;\n",
       "    }\n",
       "\n",
       "    .dataframe thead th {\n",
       "        text-align: right;\n",
       "    }\n",
       "</style>\n",
       "<table border=\"1\" class=\"dataframe\">\n",
       "  <thead>\n",
       "    <tr style=\"text-align: right;\">\n",
       "      <th></th>\n",
       "      <th>event_name</th>\n",
       "      <th>query</th>\n",
       "      <th>searchUuid</th>\n",
       "      <th>queryUuid</th>\n",
       "      <th>event_ts</th>\n",
       "      <th>dt</th>\n",
       "      <th>user_id</th>\n",
       "    </tr>\n",
       "  </thead>\n",
       "  <tbody>\n",
       "    <tr>\n",
       "      <th>1051</th>\n",
       "      <td>search_result</td>\n",
       "      <td>n</td>\n",
       "      <td>fe76177e-9c5d-4e14-baed-ce7f1922c901</td>\n",
       "      <td>eb1cf852-38e7-4769-8361-3ce45e58755a</td>\n",
       "      <td>1602639615014</td>\n",
       "      <td>2020-10-14</td>\n",
       "      <td>32</td>\n",
       "    </tr>\n",
       "    <tr>\n",
       "      <th>1140</th>\n",
       "      <td>search_result</td>\n",
       "      <td>n</td>\n",
       "      <td>fe76177e-9c5d-4e14-baed-ce7f1922c901</td>\n",
       "      <td>eb1cf852-38e7-4769-8361-3ce45e58755a</td>\n",
       "      <td>1602639627759</td>\n",
       "      <td>2020-10-14</td>\n",
       "      <td>32</td>\n",
       "    </tr>\n",
       "    <tr>\n",
       "      <th>1151</th>\n",
       "      <td>search_result</td>\n",
       "      <td>n</td>\n",
       "      <td>fe76177e-9c5d-4e14-baed-ce7f1922c901</td>\n",
       "      <td>eb1cf852-38e7-4769-8361-3ce45e58755a</td>\n",
       "      <td>1602639624234</td>\n",
       "      <td>2020-10-14</td>\n",
       "      <td>32</td>\n",
       "    </tr>\n",
       "  </tbody>\n",
       "</table>\n",
       "</div>"
      ],
      "text/plain": [
       "         event_name query                            searchUuid  \\\n",
       "1051  search_result     n  fe76177e-9c5d-4e14-baed-ce7f1922c901   \n",
       "1140  search_result     n  fe76177e-9c5d-4e14-baed-ce7f1922c901   \n",
       "1151  search_result     n  fe76177e-9c5d-4e14-baed-ce7f1922c901   \n",
       "\n",
       "                                 queryUuid       event_ts          dt  user_id  \n",
       "1051  eb1cf852-38e7-4769-8361-3ce45e58755a  1602639615014  2020-10-14       32  \n",
       "1140  eb1cf852-38e7-4769-8361-3ce45e58755a  1602639627759  2020-10-14       32  \n",
       "1151  eb1cf852-38e7-4769-8361-3ce45e58755a  1602639624234  2020-10-14       32  "
      ]
     },
     "execution_count": 17,
     "metadata": {},
     "output_type": "execute_result"
    }
   ],
   "source": [
    "search_result[search_result['queryUuid'] == 'eb1cf852-38e7-4769-8361-3ce45e58755a']"
   ]
  },
  {
   "cell_type": "markdown",
   "metadata": {},
   "source": [
    "It looks like the duplicate entries have the same query text by the same user and correspond to the same respective search ids, but were just performed at different times."
   ]
  },
  {
   "cell_type": "markdown",
   "metadata": {},
   "source": [
    "Users initiated a search (as defined) 611 times, but only performed at least a query in 434 of those initiated searches."
   ]
  },
  {
   "cell_type": "code",
   "execution_count": 18,
   "metadata": {},
   "outputs": [
    {
     "data": {
      "text/plain": [
       "(1065,)"
      ]
     },
     "execution_count": 18,
     "metadata": {},
     "output_type": "execute_result"
    }
   ],
   "source": [
    "search_query['queryId'].shape"
   ]
  },
  {
   "cell_type": "code",
   "execution_count": 19,
   "metadata": {},
   "outputs": [
    {
     "data": {
      "text/plain": [
       "1065"
      ]
     },
     "execution_count": 19,
     "metadata": {},
     "output_type": "execute_result"
    }
   ],
   "source": [
    "search_query['queryId'].unique().size"
   ]
  },
  {
   "cell_type": "code",
   "execution_count": 20,
   "metadata": {},
   "outputs": [
    {
     "data": {
      "text/plain": [
       "(422, 11)"
      ]
     },
     "execution_count": 20,
     "metadata": {},
     "output_type": "execute_result"
    }
   ],
   "source": [
    "click_search.shape"
   ]
  },
  {
   "cell_type": "code",
   "execution_count": 21,
   "metadata": {},
   "outputs": [
    {
     "data": {
      "text/plain": [
       "353"
      ]
     },
     "execution_count": 21,
     "metadata": {},
     "output_type": "execute_result"
    }
   ],
   "source": [
    "click_search['searchUuid'].unique().size"
   ]
  },
  {
   "cell_type": "code",
   "execution_count": 22,
   "metadata": {},
   "outputs": [
    {
     "data": {
      "text/plain": [
       "359"
      ]
     },
     "execution_count": 22,
     "metadata": {},
     "output_type": "execute_result"
    }
   ],
   "source": [
    "click_search['queryUuid'].unique().size"
   ]
  },
  {
   "cell_type": "code",
   "execution_count": 23,
   "metadata": {},
   "outputs": [
    {
     "data": {
      "text/plain": [
       "b96e7967-a8bf-47d1-a2e2-2d67b1e8d0a8    11\n",
       "8053acbd-1d4e-4551-96bf-238b8337bdcd     7\n",
       "11bd110a-826d-4648-9b5f-d0233093de32     4\n",
       "7b2e510f-49d5-4c45-8284-de4aa4aff60e     4\n",
       "76c6a4ab-75e1-45c1-a303-f983c81ae22b     3\n",
       "                                        ..\n",
       "027b7728-813c-4d3c-9c3a-e66da2430e07     1\n",
       "65ce435f-5e3d-431b-8540-74f191dfe715     1\n",
       "ef35bc49-d043-426e-a11d-ebfa0905d751     1\n",
       "cbaccf8e-4d4c-401f-90fe-8dca48147fcd     1\n",
       "8984f7d2-110a-49de-a609-82220d1b5902     1\n",
       "Name: queryUuid, Length: 359, dtype: int64"
      ]
     },
     "execution_count": 23,
     "metadata": {},
     "output_type": "execute_result"
    }
   ],
   "source": [
    "click_search['queryUuid'].value_counts()"
   ]
  },
  {
   "cell_type": "code",
   "execution_count": 24,
   "metadata": {},
   "outputs": [
    {
     "data": {
      "text/plain": [
       "array(['navigation', 'playback'], dtype=object)"
      ]
     },
     "execution_count": 24,
     "metadata": {},
     "output_type": "execute_result"
    }
   ],
   "source": [
    "click_search['endResult'].unique()"
   ]
  },
  {
   "cell_type": "markdown",
   "metadata": {},
   "source": [
    "If we consider a click on content the successful completion of a search session, then there were 353 search sessions that completed successfully, and 359 total queries that resulted in a click."
   ]
  },
  {
   "cell_type": "markdown",
   "metadata": {},
   "source": [
    "611 searches were initiated by users. Of these, 434 had queries performed.\n",
    "\n",
    "We can say that the total number of searche sessions initiated was 611.\n",
    "\n",
    "If we want to consider only search sessions for which some query was actually performed (as opposed to accidentaly clicking the search bar or button, abandoning the search after clicking, or deleting the search bar content without typing in a new search), then there were 434 attempted searches."
   ]
  },
  {
   "cell_type": "markdown",
   "metadata": {},
   "source": [
    "## Distribution of clicks by content type"
   ]
  },
  {
   "cell_type": "markdown",
   "metadata": {},
   "source": [
    "We will look at the number of clicks per type of content clicked."
   ]
  },
  {
   "cell_type": "code",
   "execution_count": 25,
   "metadata": {},
   "outputs": [
    {
     "data": {
      "text/plain": [
       "array(['artist', 'track', 'playlist', 'album', 'video'], dtype=object)"
      ]
     },
     "execution_count": 25,
     "metadata": {},
     "output_type": "execute_result"
    }
   ],
   "source": [
    "click_search['contentType'].unique()"
   ]
  },
  {
   "cell_type": "code",
   "execution_count": 26,
   "metadata": {},
   "outputs": [
    {
     "data": {
      "text/plain": [
       "artist      234\n",
       "track       141\n",
       "album        35\n",
       "playlist     11\n",
       "video         1\n",
       "Name: contentType, dtype: int64"
      ]
     },
     "execution_count": 26,
     "metadata": {},
     "output_type": "execute_result"
    }
   ],
   "source": [
    "click_search['contentType'].value_counts()"
   ]
  },
  {
   "cell_type": "code",
   "execution_count": 27,
   "metadata": {},
   "outputs": [
    {
     "data": {
      "text/plain": [
       "<matplotlib.axes._subplots.AxesSubplot at 0x7fe02e647730>"
      ]
     },
     "execution_count": 27,
     "metadata": {},
     "output_type": "execute_result"
    },
    {
     "data": {
      "image/png": "[encoded data removed]",
      "text/plain": [
       "<Figure size 432x288 with 1 Axes>"
      ]
     },
     "metadata": {
      "needs_background": "light"
     },
     "output_type": "display_data"
    }
   ],
   "source": [
    "click_search['contentType'].value_counts(ascending=True).plot.barh(title='Distribution of clicks by content type (number)')"
   ]
  },
  {
   "cell_type": "code",
   "execution_count": 28,
   "metadata": {},
   "outputs": [
    {
     "data": {
      "text/plain": [
       "artist      55.450237\n",
       "track       33.412322\n",
       "album        8.293839\n",
       "playlist     2.606635\n",
       "video        0.236967\n",
       "Name: contentType, dtype: float64"
      ]
     },
     "execution_count": 28,
     "metadata": {},
     "output_type": "execute_result"
    }
   ],
   "source": [
    "click_search['contentType'].value_counts(normalize=True)*100."
   ]
  },
  {
   "cell_type": "markdown",
   "metadata": {},
   "source": [
    "A pie chart can be not the best type of plot for assessing magnitude ratios, but it's a different way to look at it."
   ]
  },
  {
   "cell_type": "code",
   "execution_count": 29,
   "metadata": {},
   "outputs": [
    {
     "data": {
      "text/plain": [
       "<matplotlib.axes._subplots.AxesSubplot at 0x7fe02dd46700>"
      ]
     },
     "execution_count": 29,
     "metadata": {},
     "output_type": "execute_result"
    },
    {
     "data": {
      "image/png": "[encoded data removed]",
      "text/plain": [
       "<Figure size 432x432 with 1 Axes>"
      ]
     },
     "metadata": {},
     "output_type": "display_data"
    }
   ],
   "source": [
    "click_search['contentType'].value_counts(normalize=True).plot.pie(title='Distribution of clicks by content type', figsize=(6,6))"
   ]
  },
  {
   "cell_type": "markdown",
   "metadata": {},
   "source": [
    "We will return to bar plots and check the fractional distribution of content type clicked."
   ]
  },
  {
   "cell_type": "code",
   "execution_count": 30,
   "metadata": {},
   "outputs": [
    {
     "data": {
      "text/plain": [
       "<matplotlib.axes._subplots.AxesSubplot at 0x7fe02bc4ed90>"
      ]
     },
     "execution_count": 30,
     "metadata": {},
     "output_type": "execute_result"
    },
    {
     "data": {
      "image/png": "[encoded data removed]",
      "text/plain": [
       "<Figure size 432x288 with 1 Axes>"
      ]
     },
     "metadata": {
      "needs_background": "light"
     },
     "output_type": "display_data"
    }
   ],
   "source": [
    "click_search['contentType'].value_counts(normalize=True, ascending=True).plot.barh(title='Distribution of clicks by content type (fractional)')"
   ]
  },
  {
   "cell_type": "markdown",
   "metadata": {},
   "source": [
    "Of the search result clicks, 55.45% are on an artist, 33.31% are on a track, 8.29% are on an album, 2.61% are on a playlist, and 0.24% are on a video."
   ]
  },
  {
   "cell_type": "markdown",
   "metadata": {},
   "source": [
    "## Average length of queries"
   ]
  },
  {
   "cell_type": "markdown",
   "metadata": {},
   "source": [
    "Wel will consider all queries registered in the `search_result` table."
   ]
  },
  {
   "cell_type": "code",
   "execution_count": 31,
   "metadata": {},
   "outputs": [
    {
     "data": {
      "text/plain": [
       "0          ill bomb\n",
       "1             cut w\n",
       "2       the dialogu\n",
       "3                 I\n",
       "4            u remi\n",
       "           ...     \n",
       "1315           oh ñ\n",
       "1316           joji\n",
       "1317            slo\n",
       "1318         lift e\n",
       "1319         boohle\n",
       "Name: query, Length: 1320, dtype: object"
      ]
     },
     "execution_count": 31,
     "metadata": {},
     "output_type": "execute_result"
    }
   ],
   "source": [
    "search_result['query']"
   ]
  },
  {
   "cell_type": "code",
   "execution_count": 32,
   "metadata": {},
   "outputs": [
    {
     "data": {
      "text/plain": [
       "0        8\n",
       "1        5\n",
       "2       11\n",
       "3        1\n",
       "4        6\n",
       "        ..\n",
       "1315     4\n",
       "1316     4\n",
       "1317     3\n",
       "1318     6\n",
       "1319     6\n",
       "Name: query, Length: 1320, dtype: int64"
      ]
     },
     "execution_count": 32,
     "metadata": {},
     "output_type": "execute_result"
    }
   ],
   "source": [
    "search_result['query'].apply(len)"
   ]
  },
  {
   "cell_type": "code",
   "execution_count": 33,
   "metadata": {},
   "outputs": [
    {
     "data": {
      "text/plain": [
       "6.721212121212122"
      ]
     },
     "execution_count": 33,
     "metadata": {},
     "output_type": "execute_result"
    }
   ],
   "source": [
    "search_result['query'].apply(len).mean()"
   ]
  },
  {
   "cell_type": "markdown",
   "metadata": {},
   "source": [
    "The average length of a query is 6.72 characters. It looks like users don't have to type too many characters on average when looking for content. \n",
    "\n",
    "There are, however, some queries within a search session registered progressively as 'a', 'ab', 'abc'... as the user waits for some result while they type, so this effect might lower the average query length."
   ]
  },
  {
   "cell_type": "markdown",
   "metadata": {},
   "source": [
    "## Clickthrough rate (CTR)"
   ]
  },
  {
   "cell_type": "code",
   "execution_count": 34,
   "metadata": {},
   "outputs": [
    {
     "data": {
      "text/html": [
       "<div>\n",
       "<style scoped>\n",
       "    .dataframe tbody tr th:only-of-type {\n",
       "        vertical-align: middle;\n",
       "    }\n",
       "\n",
       "    .dataframe tbody tr th {\n",
       "        vertical-align: top;\n",
       "    }\n",
       "\n",
       "    .dataframe thead th {\n",
       "        text-align: right;\n",
       "    }\n",
       "</style>\n",
       "<table border=\"1\" class=\"dataframe\">\n",
       "  <thead>\n",
       "    <tr style=\"text-align: right;\">\n",
       "      <th></th>\n",
       "      <th>event_name_x</th>\n",
       "      <th>query</th>\n",
       "      <th>searchUuid</th>\n",
       "      <th>queryUuid</th>\n",
       "      <th>event_ts_x</th>\n",
       "      <th>dt_x</th>\n",
       "      <th>user_id_x</th>\n",
       "      <th>event_name_y</th>\n",
       "      <th>pageId</th>\n",
       "      <th>endResult</th>\n",
       "      <th>contentType</th>\n",
       "      <th>contentId</th>\n",
       "      <th>contentPlacement</th>\n",
       "      <th>event_ts_y</th>\n",
       "      <th>dt_y</th>\n",
       "      <th>user_id_y</th>\n",
       "    </tr>\n",
       "  </thead>\n",
       "  <tbody>\n",
       "    <tr>\n",
       "      <th>0</th>\n",
       "      <td>search_result</td>\n",
       "      <td>ill bomb</td>\n",
       "      <td>048cb5b1-e39e-4fb8-819d-10f27aafe614</td>\n",
       "      <td>b51b2cbf-d801-4717-b78f-f964d80ca35c</td>\n",
       "      <td>1602638441881</td>\n",
       "      <td>2020-10-14</td>\n",
       "      <td>212</td>\n",
       "      <td>click_search</td>\n",
       "      <td>search</td>\n",
       "      <td>playback</td>\n",
       "      <td>track</td>\n",
       "      <td>35987435</td>\n",
       "      <td>0</td>\n",
       "      <td>1602638443516</td>\n",
       "      <td>2020-10-14</td>\n",
       "      <td>212</td>\n",
       "    </tr>\n",
       "    <tr>\n",
       "      <th>1</th>\n",
       "      <td>search_result</td>\n",
       "      <td>ill bomb</td>\n",
       "      <td>048cb5b1-e39e-4fb8-819d-10f27aafe614</td>\n",
       "      <td>b51b2cbf-d801-4717-b78f-f964d80ca35c</td>\n",
       "      <td>1602638441881</td>\n",
       "      <td>2020-10-14</td>\n",
       "      <td>212</td>\n",
       "      <td>click_search</td>\n",
       "      <td>search</td>\n",
       "      <td>playback</td>\n",
       "      <td>track</td>\n",
       "      <td>76890165</td>\n",
       "      <td>1</td>\n",
       "      <td>1602638599476</td>\n",
       "      <td>2020-10-14</td>\n",
       "      <td>212</td>\n",
       "    </tr>\n",
       "    <tr>\n",
       "      <th>2</th>\n",
       "      <td>search_result</td>\n",
       "      <td>ja rul</td>\n",
       "      <td>714f256e-6529-4e8a-8624-4478e6ac9704</td>\n",
       "      <td>220053b0-5440-451c-bd12-982ceac1e5c3</td>\n",
       "      <td>1602639517150</td>\n",
       "      <td>2020-10-14</td>\n",
       "      <td>353</td>\n",
       "      <td>click_search</td>\n",
       "      <td>search</td>\n",
       "      <td>navigation</td>\n",
       "      <td>artist</td>\n",
       "      <td>29923</td>\n",
       "      <td>0</td>\n",
       "      <td>1602639519226</td>\n",
       "      <td>2020-10-14</td>\n",
       "      <td>353</td>\n",
       "    </tr>\n",
       "    <tr>\n",
       "      <th>3</th>\n",
       "      <td>search_result</td>\n",
       "      <td>vibe 2 ch</td>\n",
       "      <td>1d9d782e-4e61-4166-9712-9d233f8e54e9</td>\n",
       "      <td>9b5499de-5d01-436d-81eb-956523ab6517</td>\n",
       "      <td>1602628569334</td>\n",
       "      <td>2020-10-14</td>\n",
       "      <td>284</td>\n",
       "      <td>click_search</td>\n",
       "      <td>search</td>\n",
       "      <td>playback</td>\n",
       "      <td>track</td>\n",
       "      <td>74880930</td>\n",
       "      <td>0</td>\n",
       "      <td>1602628569963</td>\n",
       "      <td>2020-10-14</td>\n",
       "      <td>284</td>\n",
       "    </tr>\n",
       "    <tr>\n",
       "      <th>4</th>\n",
       "      <td>search_result</td>\n",
       "      <td>unthan</td>\n",
       "      <td>7fb01464-b3d3-4155-86b7-db1eedf882be</td>\n",
       "      <td>108b34b1-77d7-45b1-bc91-34f78802f776</td>\n",
       "      <td>1602637528301</td>\n",
       "      <td>2020-10-14</td>\n",
       "      <td>223</td>\n",
       "      <td>click_search</td>\n",
       "      <td>search</td>\n",
       "      <td>navigation</td>\n",
       "      <td>artist</td>\n",
       "      <td>3642042</td>\n",
       "      <td>0</td>\n",
       "      <td>1602637529562</td>\n",
       "      <td>2020-10-14</td>\n",
       "      <td>223</td>\n",
       "    </tr>\n",
       "  </tbody>\n",
       "</table>\n",
       "</div>"
      ],
      "text/plain": [
       "    event_name_x      query                            searchUuid  \\\n",
       "0  search_result   ill bomb  048cb5b1-e39e-4fb8-819d-10f27aafe614   \n",
       "1  search_result   ill bomb  048cb5b1-e39e-4fb8-819d-10f27aafe614   \n",
       "2  search_result     ja rul  714f256e-6529-4e8a-8624-4478e6ac9704   \n",
       "3  search_result  vibe 2 ch  1d9d782e-4e61-4166-9712-9d233f8e54e9   \n",
       "4  search_result     unthan  7fb01464-b3d3-4155-86b7-db1eedf882be   \n",
       "\n",
       "                              queryUuid     event_ts_x        dt_x  user_id_x  \\\n",
       "0  b51b2cbf-d801-4717-b78f-f964d80ca35c  1602638441881  2020-10-14        212   \n",
       "1  b51b2cbf-d801-4717-b78f-f964d80ca35c  1602638441881  2020-10-14        212   \n",
       "2  220053b0-5440-451c-bd12-982ceac1e5c3  1602639517150  2020-10-14        353   \n",
       "3  9b5499de-5d01-436d-81eb-956523ab6517  1602628569334  2020-10-14        284   \n",
       "4  108b34b1-77d7-45b1-bc91-34f78802f776  1602637528301  2020-10-14        223   \n",
       "\n",
       "   event_name_y  pageId   endResult contentType contentId  contentPlacement  \\\n",
       "0  click_search  search    playback       track  35987435                 0   \n",
       "1  click_search  search    playback       track  76890165                 1   \n",
       "2  click_search  search  navigation      artist     29923                 0   \n",
       "3  click_search  search    playback       track  74880930                 0   \n",
       "4  click_search  search  navigation      artist   3642042                 0   \n",
       "\n",
       "      event_ts_y        dt_y  user_id_y  \n",
       "0  1602638443516  2020-10-14        212  \n",
       "1  1602638599476  2020-10-14        212  \n",
       "2  1602639519226  2020-10-14        353  \n",
       "3  1602628569963  2020-10-14        284  \n",
       "4  1602637529562  2020-10-14        223  "
      ]
     },
     "execution_count": 34,
     "metadata": {},
     "output_type": "execute_result"
    }
   ],
   "source": [
    "check_join = pd.merge(left=search_result, right=click_search, how='inner',on=['queryUuid','searchUuid'])\n",
    "check_join.head()"
   ]
  },
  {
   "cell_type": "markdown",
   "metadata": {},
   "source": [
    "It looks like some of the duplicate `search_result` objects have different `click_search` correspondents, which makes sense. A user might perform the same search query a few times, at different timepoints, perhaps as part of the same search session, and click on a different result each time. "
   ]
  },
  {
   "cell_type": "markdown",
   "metadata": {},
   "source": [
    "We want to see how many `search_query` objects have a corresponding `click_search` event. This corresponds to how many clicks we get once we have actually provided the user with some search results for their query."
   ]
  },
  {
   "cell_type": "markdown",
   "metadata": {},
   "source": [
    "We will do a left join on search results (`search_query`) with `click_search` events on the queryId to find which queries resulted in click on a result."
   ]
  },
  {
   "cell_type": "code",
   "execution_count": 35,
   "metadata": {},
   "outputs": [
    {
     "data": {
      "text/html": [
       "<div>\n",
       "<style scoped>\n",
       "    .dataframe tbody tr th:only-of-type {\n",
       "        vertical-align: middle;\n",
       "    }\n",
       "\n",
       "    .dataframe tbody tr th {\n",
       "        vertical-align: top;\n",
       "    }\n",
       "\n",
       "    .dataframe thead th {\n",
       "        text-align: right;\n",
       "    }\n",
       "</style>\n",
       "<table border=\"1\" class=\"dataframe\">\n",
       "  <thead>\n",
       "    <tr style=\"text-align: right;\">\n",
       "      <th></th>\n",
       "      <th>event_name_x</th>\n",
       "      <th>query</th>\n",
       "      <th>queryId</th>\n",
       "      <th>topresults</th>\n",
       "      <th>trackresults</th>\n",
       "      <th>artistresults</th>\n",
       "      <th>albumresults</th>\n",
       "      <th>videoresults</th>\n",
       "      <th>playlistresults</th>\n",
       "      <th>responseTime</th>\n",
       "      <th>...</th>\n",
       "      <th>queryUuid</th>\n",
       "      <th>pageId</th>\n",
       "      <th>endResult</th>\n",
       "      <th>contentType</th>\n",
       "      <th>contentId</th>\n",
       "      <th>contentPlacement</th>\n",
       "      <th>searchUuid</th>\n",
       "      <th>event_ts</th>\n",
       "      <th>dt_y</th>\n",
       "      <th>user_id_y</th>\n",
       "    </tr>\n",
       "  </thead>\n",
       "  <tbody>\n",
       "    <tr>\n",
       "      <th>0</th>\n",
       "      <td>search_query</td>\n",
       "      <td>art of story telling pt</td>\n",
       "      <td>00db2706-a334-41f1-aeb5-bac027618ff3</td>\n",
       "      <td>[]</td>\n",
       "      <td>[]</td>\n",
       "      <td>[]</td>\n",
       "      <td>[]</td>\n",
       "      <td>[]</td>\n",
       "      <td>[]</td>\n",
       "      <td>{track=19, video=7, artist=17, album=19, playl...</td>\n",
       "      <td>...</td>\n",
       "      <td>NaN</td>\n",
       "      <td>NaN</td>\n",
       "      <td>NaN</td>\n",
       "      <td>NaN</td>\n",
       "      <td>NaN</td>\n",
       "      <td>NaN</td>\n",
       "      <td>NaN</td>\n",
       "      <td>NaN</td>\n",
       "      <td>NaN</td>\n",
       "      <td>NaN</td>\n",
       "    </tr>\n",
       "    <tr>\n",
       "      <th>1</th>\n",
       "      <td>search_query</td>\n",
       "      <td>Rick</td>\n",
       "      <td>0a98a77d-270c-44f0-a7a7-d7c39a45fd86</td>\n",
       "      <td>[{id=24995, contenttype=Artist}]</td>\n",
       "      <td>[{id=99796344, popularityww=82, popularitycoun...</td>\n",
       "      <td>[{id=24995, popularityww=99, popularitycountry...</td>\n",
       "      <td>[{id=4167836, popularityww=96, popularitycount...</td>\n",
       "      <td>[{id=65646214, popularityww=53, popularitycoun...</td>\n",
       "      <td>[{id=198350027, popularityww=86, popularitycou...</td>\n",
       "      <td>{track=41, video=7, artist=53, album=25, playl...</td>\n",
       "      <td>...</td>\n",
       "      <td>NaN</td>\n",
       "      <td>NaN</td>\n",
       "      <td>NaN</td>\n",
       "      <td>NaN</td>\n",
       "      <td>NaN</td>\n",
       "      <td>NaN</td>\n",
       "      <td>NaN</td>\n",
       "      <td>NaN</td>\n",
       "      <td>NaN</td>\n",
       "      <td>NaN</td>\n",
       "    </tr>\n",
       "    <tr>\n",
       "      <th>2</th>\n",
       "      <td>search_query</td>\n",
       "      <td>greek ze</td>\n",
       "      <td>d3a75f40-a579-4ccd-809b-c9f5147bd97b</td>\n",
       "      <td>[{id=4901667, contenttype=Artist}]</td>\n",
       "      <td>[{id=6108898, popularityww=1, popularitycountr...</td>\n",
       "      <td>[{id=4901667, popularityww=1, popularitycountr...</td>\n",
       "      <td>[{id=87320310, popularityww=1, popularitycount...</td>\n",
       "      <td>[]</td>\n",
       "      <td>[]</td>\n",
       "      <td>{track=34, video=5, artist=40, album=11, playl...</td>\n",
       "      <td>...</td>\n",
       "      <td>NaN</td>\n",
       "      <td>NaN</td>\n",
       "      <td>NaN</td>\n",
       "      <td>NaN</td>\n",
       "      <td>NaN</td>\n",
       "      <td>NaN</td>\n",
       "      <td>NaN</td>\n",
       "      <td>NaN</td>\n",
       "      <td>NaN</td>\n",
       "      <td>NaN</td>\n",
       "    </tr>\n",
       "    <tr>\n",
       "      <th>3</th>\n",
       "      <td>search_query</td>\n",
       "      <td>wzrd</td>\n",
       "      <td>55352145-6f85-445f-beb9-54592262928f</td>\n",
       "      <td>[{id=4485830, contenttype=Artist}]</td>\n",
       "      <td>[{id=13701009, popularityww=35, popularitycoun...</td>\n",
       "      <td>[{id=4485830, popularityww=40, popularitycount...</td>\n",
       "      <td>[{id=13701002, popularityww=42, popularitycoun...</td>\n",
       "      <td>[{id=62457267, popularityww=2, popularitycount...</td>\n",
       "      <td>[]</td>\n",
       "      <td>{track=6, video=2, artist=6, album=6, playlist...</td>\n",
       "      <td>...</td>\n",
       "      <td>55352145-6f85-445f-beb9-54592262928f</td>\n",
       "      <td>search</td>\n",
       "      <td>navigation</td>\n",
       "      <td>artist</td>\n",
       "      <td>4485830</td>\n",
       "      <td>0.0</td>\n",
       "      <td>c31f6e54-b3e2-4f5e-be71-394d15bd0b42</td>\n",
       "      <td>1.602640e+12</td>\n",
       "      <td>2020-10-14</td>\n",
       "      <td>298.0</td>\n",
       "    </tr>\n",
       "    <tr>\n",
       "      <th>4</th>\n",
       "      <td>search_query</td>\n",
       "      <td>dirty money</td>\n",
       "      <td>65ce435f-5e3d-431b-8540-74f191dfe715</td>\n",
       "      <td>[{id=3652847, contenttype=Artist}]</td>\n",
       "      <td>[{id=64048329, popularityww=33, popularitycoun...</td>\n",
       "      <td>[{id=3652847, popularityww=60, popularitycount...</td>\n",
       "      <td>[{id=2917412, popularityww=60, popularitycount...</td>\n",
       "      <td>[{id=89097144, popularityww=1, popularitycount...</td>\n",
       "      <td>[{id=31238762, popularityww=20, popularitycoun...</td>\n",
       "      <td>{track=52, video=28, artist=39, album=21, play...</td>\n",
       "      <td>...</td>\n",
       "      <td>65ce435f-5e3d-431b-8540-74f191dfe715</td>\n",
       "      <td>search</td>\n",
       "      <td>navigation</td>\n",
       "      <td>artist</td>\n",
       "      <td>3652847</td>\n",
       "      <td>0.0</td>\n",
       "      <td>3e395efc-1fcb-46ab-98a3-603799cbd8cc</td>\n",
       "      <td>1.602639e+12</td>\n",
       "      <td>2020-10-14</td>\n",
       "      <td>331.0</td>\n",
       "    </tr>\n",
       "  </tbody>\n",
       "</table>\n",
       "<p>5 rows × 23 columns</p>\n",
       "</div>"
      ],
      "text/plain": [
       "   event_name_x                    query  \\\n",
       "0  search_query  art of story telling pt   \n",
       "1  search_query                     Rick   \n",
       "2  search_query                 greek ze   \n",
       "3  search_query                     wzrd   \n",
       "4  search_query              dirty money   \n",
       "\n",
       "                                queryId                          topresults  \\\n",
       "0  00db2706-a334-41f1-aeb5-bac027618ff3                                  []   \n",
       "1  0a98a77d-270c-44f0-a7a7-d7c39a45fd86    [{id=24995, contenttype=Artist}]   \n",
       "2  d3a75f40-a579-4ccd-809b-c9f5147bd97b  [{id=4901667, contenttype=Artist}]   \n",
       "3  55352145-6f85-445f-beb9-54592262928f  [{id=4485830, contenttype=Artist}]   \n",
       "4  65ce435f-5e3d-431b-8540-74f191dfe715  [{id=3652847, contenttype=Artist}]   \n",
       "\n",
       "                                        trackresults  \\\n",
       "0                                                 []   \n",
       "1  [{id=99796344, popularityww=82, popularitycoun...   \n",
       "2  [{id=6108898, popularityww=1, popularitycountr...   \n",
       "3  [{id=13701009, popularityww=35, popularitycoun...   \n",
       "4  [{id=64048329, popularityww=33, popularitycoun...   \n",
       "\n",
       "                                       artistresults  \\\n",
       "0                                                 []   \n",
       "1  [{id=24995, popularityww=99, popularitycountry...   \n",
       "2  [{id=4901667, popularityww=1, popularitycountr...   \n",
       "3  [{id=4485830, popularityww=40, popularitycount...   \n",
       "4  [{id=3652847, popularityww=60, popularitycount...   \n",
       "\n",
       "                                        albumresults  \\\n",
       "0                                                 []   \n",
       "1  [{id=4167836, popularityww=96, popularitycount...   \n",
       "2  [{id=87320310, popularityww=1, popularitycount...   \n",
       "3  [{id=13701002, popularityww=42, popularitycoun...   \n",
       "4  [{id=2917412, popularityww=60, popularitycount...   \n",
       "\n",
       "                                        videoresults  \\\n",
       "0                                                 []   \n",
       "1  [{id=65646214, popularityww=53, popularitycoun...   \n",
       "2                                                 []   \n",
       "3  [{id=62457267, popularityww=2, popularitycount...   \n",
       "4  [{id=89097144, popularityww=1, popularitycount...   \n",
       "\n",
       "                                     playlistresults  \\\n",
       "0                                                 []   \n",
       "1  [{id=198350027, popularityww=86, popularitycou...   \n",
       "2                                                 []   \n",
       "3                                                 []   \n",
       "4  [{id=31238762, popularityww=20, popularitycoun...   \n",
       "\n",
       "                                        responseTime  ...  \\\n",
       "0  {track=19, video=7, artist=17, album=19, playl...  ...   \n",
       "1  {track=41, video=7, artist=53, album=25, playl...  ...   \n",
       "2  {track=34, video=5, artist=40, album=11, playl...  ...   \n",
       "3  {track=6, video=2, artist=6, album=6, playlist...  ...   \n",
       "4  {track=52, video=28, artist=39, album=21, play...  ...   \n",
       "\n",
       "                              queryUuid  pageId   endResult contentType  \\\n",
       "0                                   NaN     NaN         NaN         NaN   \n",
       "1                                   NaN     NaN         NaN         NaN   \n",
       "2                                   NaN     NaN         NaN         NaN   \n",
       "3  55352145-6f85-445f-beb9-54592262928f  search  navigation      artist   \n",
       "4  65ce435f-5e3d-431b-8540-74f191dfe715  search  navigation      artist   \n",
       "\n",
       "  contentId contentPlacement                            searchUuid  \\\n",
       "0       NaN              NaN                                   NaN   \n",
       "1       NaN              NaN                                   NaN   \n",
       "2       NaN              NaN                                   NaN   \n",
       "3   4485830              0.0  c31f6e54-b3e2-4f5e-be71-394d15bd0b42   \n",
       "4   3652847              0.0  3e395efc-1fcb-46ab-98a3-603799cbd8cc   \n",
       "\n",
       "       event_ts        dt_y user_id_y  \n",
       "0           NaN         NaN       NaN  \n",
       "1           NaN         NaN       NaN  \n",
       "2           NaN         NaN       NaN  \n",
       "3  1.602640e+12  2020-10-14     298.0  \n",
       "4  1.602639e+12  2020-10-14     331.0  \n",
       "\n",
       "[5 rows x 23 columns]"
      ]
     },
     "execution_count": 35,
     "metadata": {},
     "output_type": "execute_result"
    }
   ],
   "source": [
    "join = pd.merge(left=search_query, right=click_search, how='left',left_on='queryId', right_on='queryUuid')\n",
    "join.head()"
   ]
  },
  {
   "cell_type": "code",
   "execution_count": 36,
   "metadata": {},
   "outputs": [
    {
     "data": {
      "text/plain": [
       "(1099, 23)"
      ]
     },
     "execution_count": 36,
     "metadata": {},
     "output_type": "execute_result"
    }
   ],
   "source": [
    "join.shape"
   ]
  },
  {
   "cell_type": "code",
   "execution_count": 37,
   "metadata": {},
   "outputs": [
    {
     "data": {
      "text/plain": [
       "8357c3c5-a51d-474c-a686-3cc54d90a767    1\n",
       "b62ed6f4-b260-4ee7-adb7-a39ef626ff98    1\n",
       "4bae6d57-1eca-4fde-8a80-543db8873420    1\n",
       "0779d4df-8d10-4acf-ac3f-c67cefe8f3e0    1\n",
       "85d30918-b5d8-4eb1-a0bf-3ff7f090a853    1\n",
       "                                       ..\n",
       "034ef486-7d67-4cc9-b56e-d7eb12166e58    1\n",
       "789ea6b1-01ed-442f-a578-eb190d935d36    1\n",
       "db1b3032-31f1-444e-be9f-96460ddc9611    1\n",
       "b5a58a6e-f709-4277-aaab-6917baec3ff8    1\n",
       "1a029e27-6966-45a8-84de-6e921e83e343    1\n",
       "Name: queryId, Length: 1065, dtype: int64"
      ]
     },
     "execution_count": 37,
     "metadata": {},
     "output_type": "execute_result"
    }
   ],
   "source": [
    "search_query['queryId'].value_counts()"
   ]
  },
  {
   "cell_type": "code",
   "execution_count": 38,
   "metadata": {
    "scrolled": true
   },
   "outputs": [
    {
     "data": {
      "text/plain": [
       "b96e7967-a8bf-47d1-a2e2-2d67b1e8d0a8    11\n",
       "8053acbd-1d4e-4551-96bf-238b8337bdcd     7\n",
       "11bd110a-826d-4648-9b5f-d0233093de32     4\n",
       "7b2e510f-49d5-4c45-8284-de4aa4aff60e     4\n",
       "76c6a4ab-75e1-45c1-a303-f983c81ae22b     3\n",
       "                                        ..\n",
       "027b7728-813c-4d3c-9c3a-e66da2430e07     1\n",
       "65ce435f-5e3d-431b-8540-74f191dfe715     1\n",
       "ef35bc49-d043-426e-a11d-ebfa0905d751     1\n",
       "cbaccf8e-4d4c-401f-90fe-8dca48147fcd     1\n",
       "8984f7d2-110a-49de-a609-82220d1b5902     1\n",
       "Name: queryUuid, Length: 359, dtype: int64"
      ]
     },
     "execution_count": 38,
     "metadata": {},
     "output_type": "execute_result"
    }
   ],
   "source": [
    "click_search['queryUuid'].value_counts()"
   ]
  },
  {
   "cell_type": "markdown",
   "metadata": {},
   "source": [
    "Query ids are unique in `search_query`, but not in `click_search`."
   ]
  },
  {
   "cell_type": "code",
   "execution_count": 39,
   "metadata": {},
   "outputs": [
    {
     "data": {
      "text/html": [
       "<div>\n",
       "<style scoped>\n",
       "    .dataframe tbody tr th:only-of-type {\n",
       "        vertical-align: middle;\n",
       "    }\n",
       "\n",
       "    .dataframe tbody tr th {\n",
       "        vertical-align: top;\n",
       "    }\n",
       "\n",
       "    .dataframe thead th {\n",
       "        text-align: right;\n",
       "    }\n",
       "</style>\n",
       "<table border=\"1\" class=\"dataframe\">\n",
       "  <thead>\n",
       "    <tr style=\"text-align: right;\">\n",
       "      <th></th>\n",
       "      <th>event_name</th>\n",
       "      <th>queryUuid</th>\n",
       "      <th>pageId</th>\n",
       "      <th>endResult</th>\n",
       "      <th>contentType</th>\n",
       "      <th>contentId</th>\n",
       "      <th>contentPlacement</th>\n",
       "      <th>searchUuid</th>\n",
       "      <th>event_ts</th>\n",
       "      <th>dt</th>\n",
       "      <th>user_id</th>\n",
       "    </tr>\n",
       "  </thead>\n",
       "  <tbody>\n",
       "    <tr>\n",
       "      <th>212</th>\n",
       "      <td>click_search</td>\n",
       "      <td>b96e7967-a8bf-47d1-a2e2-2d67b1e8d0a8</td>\n",
       "      <td>search_viewalltracks</td>\n",
       "      <td>playback</td>\n",
       "      <td>track</td>\n",
       "      <td>20938035</td>\n",
       "      <td>9</td>\n",
       "      <td>1f04f32c-b902-4e90-8abd-a71ffc4f4139</td>\n",
       "      <td>1601615479281</td>\n",
       "      <td>2020-10-14</td>\n",
       "      <td>8</td>\n",
       "    </tr>\n",
       "    <tr>\n",
       "      <th>319</th>\n",
       "      <td>click_search</td>\n",
       "      <td>b96e7967-a8bf-47d1-a2e2-2d67b1e8d0a8</td>\n",
       "      <td>search_viewalltracks</td>\n",
       "      <td>playback</td>\n",
       "      <td>track</td>\n",
       "      <td>130012259</td>\n",
       "      <td>10</td>\n",
       "      <td>1f04f32c-b902-4e90-8abd-a71ffc4f4139</td>\n",
       "      <td>1601615486978</td>\n",
       "      <td>2020-10-14</td>\n",
       "      <td>8</td>\n",
       "    </tr>\n",
       "    <tr>\n",
       "      <th>334</th>\n",
       "      <td>click_search</td>\n",
       "      <td>b96e7967-a8bf-47d1-a2e2-2d67b1e8d0a8</td>\n",
       "      <td>search_viewalltracks</td>\n",
       "      <td>playback</td>\n",
       "      <td>track</td>\n",
       "      <td>106589133</td>\n",
       "      <td>0</td>\n",
       "      <td>1f04f32c-b902-4e90-8abd-a71ffc4f4139</td>\n",
       "      <td>1601615455671</td>\n",
       "      <td>2020-10-14</td>\n",
       "      <td>8</td>\n",
       "    </tr>\n",
       "    <tr>\n",
       "      <th>349</th>\n",
       "      <td>click_search</td>\n",
       "      <td>b96e7967-a8bf-47d1-a2e2-2d67b1e8d0a8</td>\n",
       "      <td>search_viewalltracks</td>\n",
       "      <td>playback</td>\n",
       "      <td>track</td>\n",
       "      <td>106589094</td>\n",
       "      <td>4</td>\n",
       "      <td>1f04f32c-b902-4e90-8abd-a71ffc4f4139</td>\n",
       "      <td>1601615524428</td>\n",
       "      <td>2020-10-14</td>\n",
       "      <td>8</td>\n",
       "    </tr>\n",
       "    <tr>\n",
       "      <th>358</th>\n",
       "      <td>click_search</td>\n",
       "      <td>b96e7967-a8bf-47d1-a2e2-2d67b1e8d0a8</td>\n",
       "      <td>search</td>\n",
       "      <td>navigation</td>\n",
       "      <td>album</td>\n",
       "      <td>23918271</td>\n",
       "      <td>1</td>\n",
       "      <td>1f04f32c-b902-4e90-8abd-a71ffc4f4139</td>\n",
       "      <td>1601615616004</td>\n",
       "      <td>2020-10-14</td>\n",
       "      <td>8</td>\n",
       "    </tr>\n",
       "    <tr>\n",
       "      <th>365</th>\n",
       "      <td>click_search</td>\n",
       "      <td>b96e7967-a8bf-47d1-a2e2-2d67b1e8d0a8</td>\n",
       "      <td>search</td>\n",
       "      <td>navigation</td>\n",
       "      <td>playlist</td>\n",
       "      <td>ecb993a6-9448-4550-a4ab-dc12d06a5568</td>\n",
       "      <td>0</td>\n",
       "      <td>1f04f32c-b902-4e90-8abd-a71ffc4f4139</td>\n",
       "      <td>1601615707918</td>\n",
       "      <td>2020-10-14</td>\n",
       "      <td>8</td>\n",
       "    </tr>\n",
       "    <tr>\n",
       "      <th>369</th>\n",
       "      <td>click_search</td>\n",
       "      <td>b96e7967-a8bf-47d1-a2e2-2d67b1e8d0a8</td>\n",
       "      <td>search_viewalltracks</td>\n",
       "      <td>playback</td>\n",
       "      <td>track</td>\n",
       "      <td>59652626</td>\n",
       "      <td>5</td>\n",
       "      <td>1f04f32c-b902-4e90-8abd-a71ffc4f4139</td>\n",
       "      <td>1601615526490</td>\n",
       "      <td>2020-10-14</td>\n",
       "      <td>8</td>\n",
       "    </tr>\n",
       "    <tr>\n",
       "      <th>370</th>\n",
       "      <td>click_search</td>\n",
       "      <td>b96e7967-a8bf-47d1-a2e2-2d67b1e8d0a8</td>\n",
       "      <td>search_viewalltracks</td>\n",
       "      <td>playback</td>\n",
       "      <td>track</td>\n",
       "      <td>10132741</td>\n",
       "      <td>6</td>\n",
       "      <td>1f04f32c-b902-4e90-8abd-a71ffc4f4139</td>\n",
       "      <td>1601615538075</td>\n",
       "      <td>2020-10-14</td>\n",
       "      <td>8</td>\n",
       "    </tr>\n",
       "    <tr>\n",
       "      <th>378</th>\n",
       "      <td>click_search</td>\n",
       "      <td>b96e7967-a8bf-47d1-a2e2-2d67b1e8d0a8</td>\n",
       "      <td>search_viewalltracks</td>\n",
       "      <td>playback</td>\n",
       "      <td>track</td>\n",
       "      <td>114345469</td>\n",
       "      <td>12</td>\n",
       "      <td>1f04f32c-b902-4e90-8abd-a71ffc4f4139</td>\n",
       "      <td>1601615497877</td>\n",
       "      <td>2020-10-14</td>\n",
       "      <td>8</td>\n",
       "    </tr>\n",
       "    <tr>\n",
       "      <th>384</th>\n",
       "      <td>click_search</td>\n",
       "      <td>b96e7967-a8bf-47d1-a2e2-2d67b1e8d0a8</td>\n",
       "      <td>search</td>\n",
       "      <td>navigation</td>\n",
       "      <td>artist</td>\n",
       "      <td>5135403</td>\n",
       "      <td>2</td>\n",
       "      <td>1f04f32c-b902-4e90-8abd-a71ffc4f4139</td>\n",
       "      <td>1601615583047</td>\n",
       "      <td>2020-10-14</td>\n",
       "      <td>8</td>\n",
       "    </tr>\n",
       "    <tr>\n",
       "      <th>408</th>\n",
       "      <td>click_search</td>\n",
       "      <td>b96e7967-a8bf-47d1-a2e2-2d67b1e8d0a8</td>\n",
       "      <td>search_viewalltracks</td>\n",
       "      <td>playback</td>\n",
       "      <td>track</td>\n",
       "      <td>130012259</td>\n",
       "      <td>10</td>\n",
       "      <td>1f04f32c-b902-4e90-8abd-a71ffc4f4139</td>\n",
       "      <td>1601615483885</td>\n",
       "      <td>2020-10-14</td>\n",
       "      <td>8</td>\n",
       "    </tr>\n",
       "  </tbody>\n",
       "</table>\n",
       "</div>"
      ],
      "text/plain": [
       "       event_name                             queryUuid                pageId  \\\n",
       "212  click_search  b96e7967-a8bf-47d1-a2e2-2d67b1e8d0a8  search_viewalltracks   \n",
       "319  click_search  b96e7967-a8bf-47d1-a2e2-2d67b1e8d0a8  search_viewalltracks   \n",
       "334  click_search  b96e7967-a8bf-47d1-a2e2-2d67b1e8d0a8  search_viewalltracks   \n",
       "349  click_search  b96e7967-a8bf-47d1-a2e2-2d67b1e8d0a8  search_viewalltracks   \n",
       "358  click_search  b96e7967-a8bf-47d1-a2e2-2d67b1e8d0a8                search   \n",
       "365  click_search  b96e7967-a8bf-47d1-a2e2-2d67b1e8d0a8                search   \n",
       "369  click_search  b96e7967-a8bf-47d1-a2e2-2d67b1e8d0a8  search_viewalltracks   \n",
       "370  click_search  b96e7967-a8bf-47d1-a2e2-2d67b1e8d0a8  search_viewalltracks   \n",
       "378  click_search  b96e7967-a8bf-47d1-a2e2-2d67b1e8d0a8  search_viewalltracks   \n",
       "384  click_search  b96e7967-a8bf-47d1-a2e2-2d67b1e8d0a8                search   \n",
       "408  click_search  b96e7967-a8bf-47d1-a2e2-2d67b1e8d0a8  search_viewalltracks   \n",
       "\n",
       "      endResult contentType                             contentId  \\\n",
       "212    playback       track                              20938035   \n",
       "319    playback       track                             130012259   \n",
       "334    playback       track                             106589133   \n",
       "349    playback       track                             106589094   \n",
       "358  navigation       album                              23918271   \n",
       "365  navigation    playlist  ecb993a6-9448-4550-a4ab-dc12d06a5568   \n",
       "369    playback       track                              59652626   \n",
       "370    playback       track                              10132741   \n",
       "378    playback       track                             114345469   \n",
       "384  navigation      artist                               5135403   \n",
       "408    playback       track                             130012259   \n",
       "\n",
       "     contentPlacement                            searchUuid       event_ts  \\\n",
       "212                 9  1f04f32c-b902-4e90-8abd-a71ffc4f4139  1601615479281   \n",
       "319                10  1f04f32c-b902-4e90-8abd-a71ffc4f4139  1601615486978   \n",
       "334                 0  1f04f32c-b902-4e90-8abd-a71ffc4f4139  1601615455671   \n",
       "349                 4  1f04f32c-b902-4e90-8abd-a71ffc4f4139  1601615524428   \n",
       "358                 1  1f04f32c-b902-4e90-8abd-a71ffc4f4139  1601615616004   \n",
       "365                 0  1f04f32c-b902-4e90-8abd-a71ffc4f4139  1601615707918   \n",
       "369                 5  1f04f32c-b902-4e90-8abd-a71ffc4f4139  1601615526490   \n",
       "370                 6  1f04f32c-b902-4e90-8abd-a71ffc4f4139  1601615538075   \n",
       "378                12  1f04f32c-b902-4e90-8abd-a71ffc4f4139  1601615497877   \n",
       "384                 2  1f04f32c-b902-4e90-8abd-a71ffc4f4139  1601615583047   \n",
       "408                10  1f04f32c-b902-4e90-8abd-a71ffc4f4139  1601615483885   \n",
       "\n",
       "             dt  user_id  \n",
       "212  2020-10-14        8  \n",
       "319  2020-10-14        8  \n",
       "334  2020-10-14        8  \n",
       "349  2020-10-14        8  \n",
       "358  2020-10-14        8  \n",
       "365  2020-10-14        8  \n",
       "369  2020-10-14        8  \n",
       "370  2020-10-14        8  \n",
       "378  2020-10-14        8  \n",
       "384  2020-10-14        8  \n",
       "408  2020-10-14        8  "
      ]
     },
     "execution_count": 39,
     "metadata": {},
     "output_type": "execute_result"
    }
   ],
   "source": [
    "click_search[click_search['queryUuid']=='b96e7967-a8bf-47d1-a2e2-2d67b1e8d0a8']"
   ]
  },
  {
   "cell_type": "markdown",
   "metadata": {},
   "source": [
    "With the join that we did, we get more results (1099) than unique queries (1065), because some query indices are duplicated in click_search -- some queries are repeated and different results are clicked."
   ]
  },
  {
   "cell_type": "code",
   "execution_count": 40,
   "metadata": {},
   "outputs": [
    {
     "data": {
      "text/plain": [
       "b96e7967-a8bf-47d1-a2e2-2d67b1e8d0a8    11\n",
       "11bd110a-826d-4648-9b5f-d0233093de32     4\n",
       "7b2e510f-49d5-4c45-8284-de4aa4aff60e     4\n",
       "6cc1334b-95f4-4ce6-bbf4-5d2e28652f35     3\n",
       "6161383c-6a36-4af7-be6a-31b0375b358c     3\n",
       "                                        ..\n",
       "7b2e3f09-1c7d-42e1-971e-11607552919e     1\n",
       "f073fb75-fcea-4f17-b3c5-1412e410a5cc     1\n",
       "6dab4ed7-2fa9-45a2-90b7-fa5ab87f183b     1\n",
       "90751542-925c-4830-bd2d-8b3ad198895c     1\n",
       "a6f07887-63ae-44a3-856d-85ae702f4c4c     1\n",
       "Name: queryUuid, Length: 211, dtype: int64"
      ]
     },
     "execution_count": 40,
     "metadata": {},
     "output_type": "execute_result"
    }
   ],
   "source": [
    "join['queryUuid'].value_counts()"
   ]
  },
  {
   "cell_type": "markdown",
   "metadata": {},
   "source": [
    "We will just look for queries without any corresponding content click within this hour."
   ]
  },
  {
   "cell_type": "code",
   "execution_count": 41,
   "metadata": {},
   "outputs": [
    {
     "data": {
      "text/plain": [
       "False    854\n",
       "True     245\n",
       "Name: contentId, dtype: int64"
      ]
     },
     "execution_count": 41,
     "metadata": {},
     "output_type": "execute_result"
    }
   ],
   "source": [
    "join['contentId'].notnull().value_counts()"
   ]
  },
  {
   "cell_type": "code",
   "execution_count": 42,
   "metadata": {},
   "outputs": [
    {
     "data": {
      "text/plain": [
       "(1099, 23)"
      ]
     },
     "execution_count": 42,
     "metadata": {},
     "output_type": "execute_result"
    }
   ],
   "source": [
    "join.shape"
   ]
  },
  {
   "cell_type": "code",
   "execution_count": 43,
   "metadata": {},
   "outputs": [
    {
     "data": {
      "text/plain": [
       "22.29299363057325"
      ]
     },
     "execution_count": 43,
     "metadata": {},
     "output_type": "execute_result"
    }
   ],
   "source": [
    "sum(join['contentId'].notnull())/len(join['contentId'])*100"
   ]
  },
  {
   "cell_type": "markdown",
   "metadata": {},
   "source": [
    "245 out of 1099 queries get content clicks, which translates into a 22.29% clickthrough rate for queries.\n",
    "\n",
    "854 of 1099 queries don't get any clicks, which sounds like a lot. \n",
    "\n",
    "However, there can be multiple queries per search session, and the first few might not be successful as the user has not yet typed enough information. We might want to also consider the overall CTR for a search session."
   ]
  },
  {
   "cell_type": "code",
   "execution_count": 44,
   "metadata": {},
   "outputs": [
    {
     "data": {
      "text/plain": [
       "(0.5777414075286416, 0.8133640552995391)"
      ]
     },
     "execution_count": 44,
     "metadata": {},
     "output_type": "execute_result"
    }
   ],
   "source": [
    "click_search['searchUuid'].unique().size/len(initiate_search), click_search['searchUuid'].unique().size/search_result['searchUuid'].unique().size"
   ]
  },
  {
   "cell_type": "code",
   "execution_count": 45,
   "metadata": {},
   "outputs": [
    {
     "data": {
      "text/plain": [
       "(0.5777414075286416, 0.8133640552995391)"
      ]
     },
     "execution_count": 45,
     "metadata": {},
     "output_type": "execute_result"
    }
   ],
   "source": [
    "353/611, 353/434"
   ]
  },
  {
   "cell_type": "markdown",
   "metadata": {},
   "source": [
    "We evaluated the number of search sessions with clicks in the `Number of search sessions` section. We refer to this section for the numbers below.\n",
    "\n",
    "353 search sessions get at least a click. \n",
    "\n",
    "Out of 611 initiated searches, that is a 57.77% clickthrough rate.\n",
    "\n",
    "Out of 434 searches with queries, that is an 81.34% CTR.\n",
    "\n",
    "That's not too bad, but could be improved upon."
   ]
  },
  {
   "cell_type": "markdown",
   "metadata": {},
   "source": [
    "## Clicks on topResults"
   ]
  },
  {
   "cell_type": "code",
   "execution_count": 46,
   "metadata": {},
   "outputs": [
    {
     "data": {
      "text/html": [
       "<div>\n",
       "<style scoped>\n",
       "    .dataframe tbody tr th:only-of-type {\n",
       "        vertical-align: middle;\n",
       "    }\n",
       "\n",
       "    .dataframe tbody tr th {\n",
       "        vertical-align: top;\n",
       "    }\n",
       "\n",
       "    .dataframe thead th {\n",
       "        text-align: right;\n",
       "    }\n",
       "</style>\n",
       "<table border=\"1\" class=\"dataframe\">\n",
       "  <thead>\n",
       "    <tr style=\"text-align: right;\">\n",
       "      <th></th>\n",
       "      <th>event_name</th>\n",
       "      <th>queryUuid</th>\n",
       "      <th>pageId</th>\n",
       "      <th>endResult</th>\n",
       "      <th>contentType</th>\n",
       "      <th>contentId</th>\n",
       "      <th>contentPlacement</th>\n",
       "      <th>searchUuid</th>\n",
       "      <th>event_ts</th>\n",
       "      <th>dt</th>\n",
       "      <th>user_id</th>\n",
       "    </tr>\n",
       "  </thead>\n",
       "  <tbody>\n",
       "    <tr>\n",
       "      <th>0</th>\n",
       "      <td>click_search</td>\n",
       "      <td>329f9073-60ae-4819-b5fe-c6a6f340f74c</td>\n",
       "      <td>search</td>\n",
       "      <td>navigation</td>\n",
       "      <td>artist</td>\n",
       "      <td>3619453</td>\n",
       "      <td>0</td>\n",
       "      <td>1eddb4fd-829c-4971-bdc8-6af380a98626</td>\n",
       "      <td>1602640556158</td>\n",
       "      <td>2020-10-14</td>\n",
       "      <td>194</td>\n",
       "    </tr>\n",
       "    <tr>\n",
       "      <th>1</th>\n",
       "      <td>click_search</td>\n",
       "      <td>f01bed2f-ea3e-430b-a691-b4241324d9a8</td>\n",
       "      <td>search</td>\n",
       "      <td>navigation</td>\n",
       "      <td>artist</td>\n",
       "      <td>3646659</td>\n",
       "      <td>0</td>\n",
       "      <td>6b2cdbd1-bb13-44ba-97d9-84e76c8a18b4</td>\n",
       "      <td>1602471803424</td>\n",
       "      <td>2020-10-14</td>\n",
       "      <td>56</td>\n",
       "    </tr>\n",
       "    <tr>\n",
       "      <th>2</th>\n",
       "      <td>click_search</td>\n",
       "      <td>0c7d4008-e2bb-4b35-aca5-f8336c312bc0</td>\n",
       "      <td>search</td>\n",
       "      <td>playback</td>\n",
       "      <td>track</td>\n",
       "      <td>35425919</td>\n",
       "      <td>0</td>\n",
       "      <td>ce0ed919-3406-4837-9a3e-baf4459d35e0</td>\n",
       "      <td>1602637583392</td>\n",
       "      <td>2020-10-14</td>\n",
       "      <td>218</td>\n",
       "    </tr>\n",
       "  </tbody>\n",
       "</table>\n",
       "</div>"
      ],
      "text/plain": [
       "     event_name                             queryUuid  pageId   endResult  \\\n",
       "0  click_search  329f9073-60ae-4819-b5fe-c6a6f340f74c  search  navigation   \n",
       "1  click_search  f01bed2f-ea3e-430b-a691-b4241324d9a8  search  navigation   \n",
       "2  click_search  0c7d4008-e2bb-4b35-aca5-f8336c312bc0  search    playback   \n",
       "\n",
       "  contentType contentId  contentPlacement  \\\n",
       "0      artist   3619453                 0   \n",
       "1      artist   3646659                 0   \n",
       "2       track  35425919                 0   \n",
       "\n",
       "                             searchUuid       event_ts          dt  user_id  \n",
       "0  1eddb4fd-829c-4971-bdc8-6af380a98626  1602640556158  2020-10-14      194  \n",
       "1  6b2cdbd1-bb13-44ba-97d9-84e76c8a18b4  1602471803424  2020-10-14       56  \n",
       "2  ce0ed919-3406-4837-9a3e-baf4459d35e0  1602637583392  2020-10-14      218  "
      ]
     },
     "execution_count": 46,
     "metadata": {},
     "output_type": "execute_result"
    }
   ],
   "source": [
    "click_search.head(3)"
   ]
  },
  {
   "cell_type": "code",
   "execution_count": 47,
   "metadata": {},
   "outputs": [
    {
     "data": {
      "text/html": [
       "<div>\n",
       "<style scoped>\n",
       "    .dataframe tbody tr th:only-of-type {\n",
       "        vertical-align: middle;\n",
       "    }\n",
       "\n",
       "    .dataframe tbody tr th {\n",
       "        vertical-align: top;\n",
       "    }\n",
       "\n",
       "    .dataframe thead th {\n",
       "        text-align: right;\n",
       "    }\n",
       "</style>\n",
       "<table border=\"1\" class=\"dataframe\">\n",
       "  <thead>\n",
       "    <tr style=\"text-align: right;\">\n",
       "      <th></th>\n",
       "      <th>event_name</th>\n",
       "      <th>query</th>\n",
       "      <th>queryId</th>\n",
       "      <th>topresults</th>\n",
       "      <th>trackresults</th>\n",
       "      <th>artistresults</th>\n",
       "      <th>albumresults</th>\n",
       "      <th>videoresults</th>\n",
       "      <th>playlistresults</th>\n",
       "      <th>responseTime</th>\n",
       "      <th>dt</th>\n",
       "      <th>user_id</th>\n",
       "    </tr>\n",
       "  </thead>\n",
       "  <tbody>\n",
       "    <tr>\n",
       "      <th>0</th>\n",
       "      <td>search_query</td>\n",
       "      <td>art of story telling pt</td>\n",
       "      <td>00db2706-a334-41f1-aeb5-bac027618ff3</td>\n",
       "      <td>[]</td>\n",
       "      <td>[]</td>\n",
       "      <td>[]</td>\n",
       "      <td>[]</td>\n",
       "      <td>[]</td>\n",
       "      <td>[]</td>\n",
       "      <td>{track=19, video=7, artist=17, album=19, playl...</td>\n",
       "      <td>2020-10-14</td>\n",
       "      <td>258</td>\n",
       "    </tr>\n",
       "    <tr>\n",
       "      <th>1</th>\n",
       "      <td>search_query</td>\n",
       "      <td>Rick</td>\n",
       "      <td>0a98a77d-270c-44f0-a7a7-d7c39a45fd86</td>\n",
       "      <td>[{id=24995, contenttype=Artist}]</td>\n",
       "      <td>[{id=99796344, popularityww=82, popularitycoun...</td>\n",
       "      <td>[{id=24995, popularityww=99, popularitycountry...</td>\n",
       "      <td>[{id=4167836, popularityww=96, popularitycount...</td>\n",
       "      <td>[{id=65646214, popularityww=53, popularitycoun...</td>\n",
       "      <td>[{id=198350027, popularityww=86, popularitycou...</td>\n",
       "      <td>{track=41, video=7, artist=53, album=25, playl...</td>\n",
       "      <td>2020-10-14</td>\n",
       "      <td>351</td>\n",
       "    </tr>\n",
       "    <tr>\n",
       "      <th>2</th>\n",
       "      <td>search_query</td>\n",
       "      <td>greek ze</td>\n",
       "      <td>d3a75f40-a579-4ccd-809b-c9f5147bd97b</td>\n",
       "      <td>[{id=4901667, contenttype=Artist}]</td>\n",
       "      <td>[{id=6108898, popularityww=1, popularitycountr...</td>\n",
       "      <td>[{id=4901667, popularityww=1, popularitycountr...</td>\n",
       "      <td>[{id=87320310, popularityww=1, popularitycount...</td>\n",
       "      <td>[]</td>\n",
       "      <td>[]</td>\n",
       "      <td>{track=34, video=5, artist=40, album=11, playl...</td>\n",
       "      <td>2020-10-14</td>\n",
       "      <td>348</td>\n",
       "    </tr>\n",
       "  </tbody>\n",
       "</table>\n",
       "</div>"
      ],
      "text/plain": [
       "     event_name                    query  \\\n",
       "0  search_query  art of story telling pt   \n",
       "1  search_query                     Rick   \n",
       "2  search_query                 greek ze   \n",
       "\n",
       "                                queryId                          topresults  \\\n",
       "0  00db2706-a334-41f1-aeb5-bac027618ff3                                  []   \n",
       "1  0a98a77d-270c-44f0-a7a7-d7c39a45fd86    [{id=24995, contenttype=Artist}]   \n",
       "2  d3a75f40-a579-4ccd-809b-c9f5147bd97b  [{id=4901667, contenttype=Artist}]   \n",
       "\n",
       "                                        trackresults  \\\n",
       "0                                                 []   \n",
       "1  [{id=99796344, popularityww=82, popularitycoun...   \n",
       "2  [{id=6108898, popularityww=1, popularitycountr...   \n",
       "\n",
       "                                       artistresults  \\\n",
       "0                                                 []   \n",
       "1  [{id=24995, popularityww=99, popularitycountry...   \n",
       "2  [{id=4901667, popularityww=1, popularitycountr...   \n",
       "\n",
       "                                        albumresults  \\\n",
       "0                                                 []   \n",
       "1  [{id=4167836, popularityww=96, popularitycount...   \n",
       "2  [{id=87320310, popularityww=1, popularitycount...   \n",
       "\n",
       "                                        videoresults  \\\n",
       "0                                                 []   \n",
       "1  [{id=65646214, popularityww=53, popularitycoun...   \n",
       "2                                                 []   \n",
       "\n",
       "                                     playlistresults  \\\n",
       "0                                                 []   \n",
       "1  [{id=198350027, popularityww=86, popularitycou...   \n",
       "2                                                 []   \n",
       "\n",
       "                                        responseTime          dt  user_id  \n",
       "0  {track=19, video=7, artist=17, album=19, playl...  2020-10-14      258  \n",
       "1  {track=41, video=7, artist=53, album=25, playl...  2020-10-14      351  \n",
       "2  {track=34, video=5, artist=40, album=11, playl...  2020-10-14      348  "
      ]
     },
     "execution_count": 47,
     "metadata": {},
     "output_type": "execute_result"
    }
   ],
   "source": [
    "search_query.head(3)"
   ]
  },
  {
   "cell_type": "code",
   "execution_count": 48,
   "metadata": {},
   "outputs": [
    {
     "data": {
      "text/plain": [
       "50                     [{id=28928, contenttype=Artist}]\n",
       "51                  [{id=124616534, contenttype=Track}]\n",
       "52                     [{id=25102, contenttype=Artist}]\n",
       "53                  [{id=155529437, contenttype=Track}]\n",
       "54                   [{id=3702744, contenttype=Artist}]\n",
       "55                   [{id=39382053, contenttype=Album}]\n",
       "56                   [{id=3550866, contenttype=Artist}]\n",
       "57               [{id=199606314, contenttype=Playlist}]\n",
       "58                   [{id=98076861, contenttype=Track}]\n",
       "59                    [{id=8316561, contenttype=Track}]\n",
       "60                     [{id=27438, contenttype=Artist}]\n",
       "61    [{id=4100869, contenttype=Artist}, {id=1397629...\n",
       "62                       [{id=107, contenttype=Artist}]\n",
       "Name: topresults, dtype: object"
      ]
     },
     "execution_count": 48,
     "metadata": {},
     "output_type": "execute_result"
    }
   ],
   "source": [
    "search_query['topresults'][50:63]"
   ]
  },
  {
   "cell_type": "markdown",
   "metadata": {},
   "source": [
    "It might look initially like there is only one top result per query, and we only need the condition that contentPlacement is zero for the query, but that is actually not the case. There are multiple top results sometimes, and we need to check contentId in click_search against the list of topresults in search_query.\n",
    "\n",
    "We will first parse the topresults strings to get a list of Ids. We will use a regex search pattern for that. Then, we will join search_query and click_search on query Id to be able to check the contentId against the list of Ids."
   ]
  },
  {
   "cell_type": "code",
   "execution_count": 49,
   "metadata": {},
   "outputs": [
    {
     "data": {
      "text/plain": [
       "45                                            [7975889]\n",
       "46                                           [10114105]\n",
       "47                                            [3543398]\n",
       "48                                            [3696508]\n",
       "49    [8935680, 151171707, 3966408, 5012586, 1394947...\n",
       "50                                              [28928]\n",
       "51                                          [124616534]\n",
       "Name: idtopresults, dtype: object"
      ]
     },
     "execution_count": 49,
     "metadata": {},
     "output_type": "execute_result"
    }
   ],
   "source": [
    "pattern = r\"id=(\\d+)\"\n",
    "search_query['idtopresults'] = search_query['topresults'].str.findall(pattern)\n",
    "search_query['idtopresults'][45:52]"
   ]
  },
  {
   "cell_type": "code",
   "execution_count": 50,
   "metadata": {},
   "outputs": [
    {
     "data": {
      "text/html": [
       "<div>\n",
       "<style scoped>\n",
       "    .dataframe tbody tr th:only-of-type {\n",
       "        vertical-align: middle;\n",
       "    }\n",
       "\n",
       "    .dataframe tbody tr th {\n",
       "        vertical-align: top;\n",
       "    }\n",
       "\n",
       "    .dataframe thead th {\n",
       "        text-align: right;\n",
       "    }\n",
       "</style>\n",
       "<table border=\"1\" class=\"dataframe\">\n",
       "  <thead>\n",
       "    <tr style=\"text-align: right;\">\n",
       "      <th></th>\n",
       "      <th>event_name_x</th>\n",
       "      <th>query</th>\n",
       "      <th>queryId</th>\n",
       "      <th>topresults</th>\n",
       "      <th>trackresults</th>\n",
       "      <th>artistresults</th>\n",
       "      <th>albumresults</th>\n",
       "      <th>videoresults</th>\n",
       "      <th>playlistresults</th>\n",
       "      <th>responseTime</th>\n",
       "      <th>...</th>\n",
       "      <th>queryUuid</th>\n",
       "      <th>pageId</th>\n",
       "      <th>endResult</th>\n",
       "      <th>contentType</th>\n",
       "      <th>contentId</th>\n",
       "      <th>contentPlacement</th>\n",
       "      <th>searchUuid</th>\n",
       "      <th>event_ts</th>\n",
       "      <th>dt_y</th>\n",
       "      <th>user_id_y</th>\n",
       "    </tr>\n",
       "  </thead>\n",
       "  <tbody>\n",
       "    <tr>\n",
       "      <th>0</th>\n",
       "      <td>search_query</td>\n",
       "      <td>wzrd</td>\n",
       "      <td>55352145-6f85-445f-beb9-54592262928f</td>\n",
       "      <td>[{id=4485830, contenttype=Artist}]</td>\n",
       "      <td>[{id=13701009, popularityww=35, popularitycoun...</td>\n",
       "      <td>[{id=4485830, popularityww=40, popularitycount...</td>\n",
       "      <td>[{id=13701002, popularityww=42, popularitycoun...</td>\n",
       "      <td>[{id=62457267, popularityww=2, popularitycount...</td>\n",
       "      <td>[]</td>\n",
       "      <td>{track=6, video=2, artist=6, album=6, playlist...</td>\n",
       "      <td>...</td>\n",
       "      <td>55352145-6f85-445f-beb9-54592262928f</td>\n",
       "      <td>search</td>\n",
       "      <td>navigation</td>\n",
       "      <td>artist</td>\n",
       "      <td>4485830</td>\n",
       "      <td>0</td>\n",
       "      <td>c31f6e54-b3e2-4f5e-be71-394d15bd0b42</td>\n",
       "      <td>1602640484047</td>\n",
       "      <td>2020-10-14</td>\n",
       "      <td>298</td>\n",
       "    </tr>\n",
       "    <tr>\n",
       "      <th>1</th>\n",
       "      <td>search_query</td>\n",
       "      <td>dirty money</td>\n",
       "      <td>65ce435f-5e3d-431b-8540-74f191dfe715</td>\n",
       "      <td>[{id=3652847, contenttype=Artist}]</td>\n",
       "      <td>[{id=64048329, popularityww=33, popularitycoun...</td>\n",
       "      <td>[{id=3652847, popularityww=60, popularitycount...</td>\n",
       "      <td>[{id=2917412, popularityww=60, popularitycount...</td>\n",
       "      <td>[{id=89097144, popularityww=1, popularitycount...</td>\n",
       "      <td>[{id=31238762, popularityww=20, popularitycoun...</td>\n",
       "      <td>{track=52, video=28, artist=39, album=21, play...</td>\n",
       "      <td>...</td>\n",
       "      <td>65ce435f-5e3d-431b-8540-74f191dfe715</td>\n",
       "      <td>search</td>\n",
       "      <td>navigation</td>\n",
       "      <td>artist</td>\n",
       "      <td>3652847</td>\n",
       "      <td>0</td>\n",
       "      <td>3e395efc-1fcb-46ab-98a3-603799cbd8cc</td>\n",
       "      <td>1602638637655</td>\n",
       "      <td>2020-10-14</td>\n",
       "      <td>331</td>\n",
       "    </tr>\n",
       "    <tr>\n",
       "      <th>2</th>\n",
       "      <td>search_query</td>\n",
       "      <td>periphery</td>\n",
       "      <td>d4f5f1a9-f2f0-499c-b6b7-179d196e1185</td>\n",
       "      <td>[{id=3684809, contenttype=Artist}]</td>\n",
       "      <td>[{id=103331605, popularityww=9, popularitycoun...</td>\n",
       "      <td>[{id=3684809, popularityww=41, popularitycount...</td>\n",
       "      <td>[{id=103331603, popularityww=19, popularitycou...</td>\n",
       "      <td>[{id=31658129, popularityww=5, popularitycount...</td>\n",
       "      <td>[{id=30057804, popularityww=28, popularitycoun...</td>\n",
       "      <td>{track=35, video=4, artist=8, album=12, playli...</td>\n",
       "      <td>...</td>\n",
       "      <td>d4f5f1a9-f2f0-499c-b6b7-179d196e1185</td>\n",
       "      <td>search</td>\n",
       "      <td>navigation</td>\n",
       "      <td>artist</td>\n",
       "      <td>3684809</td>\n",
       "      <td>0</td>\n",
       "      <td>c9741fab-6c68-478a-9968-8127bbd2a30c</td>\n",
       "      <td>1602638830086</td>\n",
       "      <td>2020-10-14</td>\n",
       "      <td>281</td>\n",
       "    </tr>\n",
       "  </tbody>\n",
       "</table>\n",
       "<p>3 rows × 24 columns</p>\n",
       "</div>"
      ],
      "text/plain": [
       "   event_name_x        query                               queryId  \\\n",
       "0  search_query         wzrd  55352145-6f85-445f-beb9-54592262928f   \n",
       "1  search_query  dirty money  65ce435f-5e3d-431b-8540-74f191dfe715   \n",
       "2  search_query    periphery  d4f5f1a9-f2f0-499c-b6b7-179d196e1185   \n",
       "\n",
       "                           topresults  \\\n",
       "0  [{id=4485830, contenttype=Artist}]   \n",
       "1  [{id=3652847, contenttype=Artist}]   \n",
       "2  [{id=3684809, contenttype=Artist}]   \n",
       "\n",
       "                                        trackresults  \\\n",
       "0  [{id=13701009, popularityww=35, popularitycoun...   \n",
       "1  [{id=64048329, popularityww=33, popularitycoun...   \n",
       "2  [{id=103331605, popularityww=9, popularitycoun...   \n",
       "\n",
       "                                       artistresults  \\\n",
       "0  [{id=4485830, popularityww=40, popularitycount...   \n",
       "1  [{id=3652847, popularityww=60, popularitycount...   \n",
       "2  [{id=3684809, popularityww=41, popularitycount...   \n",
       "\n",
       "                                        albumresults  \\\n",
       "0  [{id=13701002, popularityww=42, popularitycoun...   \n",
       "1  [{id=2917412, popularityww=60, popularitycount...   \n",
       "2  [{id=103331603, popularityww=19, popularitycou...   \n",
       "\n",
       "                                        videoresults  \\\n",
       "0  [{id=62457267, popularityww=2, popularitycount...   \n",
       "1  [{id=89097144, popularityww=1, popularitycount...   \n",
       "2  [{id=31658129, popularityww=5, popularitycount...   \n",
       "\n",
       "                                     playlistresults  \\\n",
       "0                                                 []   \n",
       "1  [{id=31238762, popularityww=20, popularitycoun...   \n",
       "2  [{id=30057804, popularityww=28, popularitycoun...   \n",
       "\n",
       "                                        responseTime  ...  \\\n",
       "0  {track=6, video=2, artist=6, album=6, playlist...  ...   \n",
       "1  {track=52, video=28, artist=39, album=21, play...  ...   \n",
       "2  {track=35, video=4, artist=8, album=12, playli...  ...   \n",
       "\n",
       "                              queryUuid  pageId   endResult contentType  \\\n",
       "0  55352145-6f85-445f-beb9-54592262928f  search  navigation      artist   \n",
       "1  65ce435f-5e3d-431b-8540-74f191dfe715  search  navigation      artist   \n",
       "2  d4f5f1a9-f2f0-499c-b6b7-179d196e1185  search  navigation      artist   \n",
       "\n",
       "  contentId contentPlacement                            searchUuid  \\\n",
       "0   4485830                0  c31f6e54-b3e2-4f5e-be71-394d15bd0b42   \n",
       "1   3652847                0  3e395efc-1fcb-46ab-98a3-603799cbd8cc   \n",
       "2   3684809                0  c9741fab-6c68-478a-9968-8127bbd2a30c   \n",
       "\n",
       "        event_ts        dt_y  user_id_y  \n",
       "0  1602640484047  2020-10-14        298  \n",
       "1  1602638637655  2020-10-14        331  \n",
       "2  1602638830086  2020-10-14        281  \n",
       "\n",
       "[3 rows x 24 columns]"
      ]
     },
     "execution_count": 50,
     "metadata": {},
     "output_type": "execute_result"
    }
   ],
   "source": [
    "join = pd.merge(left=search_query, right=click_search, how='inner', left_on='queryId', right_on='queryUuid')\n",
    "join.head(3)"
   ]
  },
  {
   "cell_type": "code",
   "execution_count": 51,
   "metadata": {},
   "outputs": [
    {
     "data": {
      "text/plain": [
       "0       True\n",
       "1       True\n",
       "2       True\n",
       "3      False\n",
       "4       True\n",
       "       ...  \n",
       "240     True\n",
       "241    False\n",
       "242    False\n",
       "243     True\n",
       "244     True\n",
       "Name: istopresult, Length: 245, dtype: bool"
      ]
     },
     "execution_count": 51,
     "metadata": {},
     "output_type": "execute_result"
    }
   ],
   "source": [
    "join['istopresult'] = join.apply(lambda x: x['contentId'] in x['idtopresults'], axis=1)\n",
    "join['istopresult']"
   ]
  },
  {
   "cell_type": "markdown",
   "metadata": {},
   "source": [
    "We only get 245 queries in the join, so we will do the statistics just on those. Presumably some of the missing matches are outside of the time interval or some other reason."
   ]
  },
  {
   "cell_type": "code",
   "execution_count": 52,
   "metadata": {},
   "outputs": [
    {
     "data": {
      "text/plain": [
       "0.673469387755102"
      ]
     },
     "execution_count": 52,
     "metadata": {},
     "output_type": "execute_result"
    }
   ],
   "source": [
    "frac_topresult = join['istopresult'].sum()/len(join)\n",
    "frac_topresult"
   ]
  },
  {
   "cell_type": "markdown",
   "metadata": {},
   "source": [
    "67.35% of the clicks registered were on the top result.\n",
    "\n",
    "Perhaps there is some room for improving the selection of results provided to the user as top results."
   ]
  },
  {
   "cell_type": "markdown",
   "metadata": {},
   "source": [
    "## Average MRR per click"
   ]
  },
  {
   "cell_type": "markdown",
   "metadata": {},
   "source": [
    "The mean reciprocal rank is the inverse of the rank of the 'correct' result, which is the one the user clicks. We just need to add 1 to the contentPlacement index such that the rank starts from 1."
   ]
  },
  {
   "cell_type": "code",
   "execution_count": 53,
   "metadata": {},
   "outputs": [],
   "source": [
    "mrr = 1./(click_search['contentPlacement'] + 1)"
   ]
  },
  {
   "cell_type": "code",
   "execution_count": 54,
   "metadata": {},
   "outputs": [
    {
     "data": {
      "text/plain": [
       "0     1.000000\n",
       "1     1.000000\n",
       "2     1.000000\n",
       "3     1.000000\n",
       "4     1.000000\n",
       "5     1.000000\n",
       "6     1.000000\n",
       "7     0.500000\n",
       "8     1.000000\n",
       "9     1.000000\n",
       "10    1.000000\n",
       "11    0.333333\n",
       "12    1.000000\n",
       "Name: contentPlacement, dtype: float64"
      ]
     },
     "execution_count": 54,
     "metadata": {},
     "output_type": "execute_result"
    }
   ],
   "source": [
    "mrr[:13]"
   ]
  },
  {
   "cell_type": "code",
   "execution_count": 55,
   "metadata": {},
   "outputs": [
    {
     "data": {
      "text/plain": [
       "0.8849558100905293"
      ]
     },
     "execution_count": 55,
     "metadata": {},
     "output_type": "execute_result"
    }
   ],
   "source": [
    "mrr.mean()"
   ]
  },
  {
   "cell_type": "markdown",
   "metadata": {},
   "source": [
    "The average mean reciprocal rank (MRR) per click is 0.88.\n",
    "\n",
    "That looks like a good score.\n",
    "\n",
    "Typically, the reciprocal rank should be zero if there are no correct results (the user didn't click anything). However, since we are calculating MRR per click, we consider only the cases where a click did occur."
   ]
  },
  {
   "cell_type": "markdown",
   "metadata": {},
   "source": [
    "## Aggregation"
   ]
  },
  {
   "cell_type": "markdown",
   "metadata": {},
   "source": [
    "We will start with aggregating `click_search`."
   ]
  },
  {
   "cell_type": "code",
   "execution_count": 56,
   "metadata": {},
   "outputs": [
    {
     "data": {
      "text/html": [
       "<div>\n",
       "<style scoped>\n",
       "    .dataframe tbody tr th:only-of-type {\n",
       "        vertical-align: middle;\n",
       "    }\n",
       "\n",
       "    .dataframe tbody tr th {\n",
       "        vertical-align: top;\n",
       "    }\n",
       "\n",
       "    .dataframe thead th {\n",
       "        text-align: right;\n",
       "    }\n",
       "</style>\n",
       "<table border=\"1\" class=\"dataframe\">\n",
       "  <thead>\n",
       "    <tr style=\"text-align: right;\">\n",
       "      <th></th>\n",
       "      <th>event_name</th>\n",
       "      <th>queryUuid</th>\n",
       "      <th>pageId</th>\n",
       "      <th>endResult</th>\n",
       "      <th>contentType</th>\n",
       "      <th>contentId</th>\n",
       "      <th>contentPlacement</th>\n",
       "      <th>searchUuid</th>\n",
       "      <th>event_ts</th>\n",
       "      <th>dt</th>\n",
       "      <th>user_id</th>\n",
       "    </tr>\n",
       "  </thead>\n",
       "  <tbody>\n",
       "    <tr>\n",
       "      <th>0</th>\n",
       "      <td>click_search</td>\n",
       "      <td>329f9073-60ae-4819-b5fe-c6a6f340f74c</td>\n",
       "      <td>search</td>\n",
       "      <td>navigation</td>\n",
       "      <td>artist</td>\n",
       "      <td>3619453</td>\n",
       "      <td>0</td>\n",
       "      <td>1eddb4fd-829c-4971-bdc8-6af380a98626</td>\n",
       "      <td>1602640556158</td>\n",
       "      <td>2020-10-14</td>\n",
       "      <td>194</td>\n",
       "    </tr>\n",
       "    <tr>\n",
       "      <th>1</th>\n",
       "      <td>click_search</td>\n",
       "      <td>f01bed2f-ea3e-430b-a691-b4241324d9a8</td>\n",
       "      <td>search</td>\n",
       "      <td>navigation</td>\n",
       "      <td>artist</td>\n",
       "      <td>3646659</td>\n",
       "      <td>0</td>\n",
       "      <td>6b2cdbd1-bb13-44ba-97d9-84e76c8a18b4</td>\n",
       "      <td>1602471803424</td>\n",
       "      <td>2020-10-14</td>\n",
       "      <td>56</td>\n",
       "    </tr>\n",
       "    <tr>\n",
       "      <th>2</th>\n",
       "      <td>click_search</td>\n",
       "      <td>0c7d4008-e2bb-4b35-aca5-f8336c312bc0</td>\n",
       "      <td>search</td>\n",
       "      <td>playback</td>\n",
       "      <td>track</td>\n",
       "      <td>35425919</td>\n",
       "      <td>0</td>\n",
       "      <td>ce0ed919-3406-4837-9a3e-baf4459d35e0</td>\n",
       "      <td>1602637583392</td>\n",
       "      <td>2020-10-14</td>\n",
       "      <td>218</td>\n",
       "    </tr>\n",
       "    <tr>\n",
       "      <th>3</th>\n",
       "      <td>click_search</td>\n",
       "      <td>39cf0e3c-0628-43b1-880f-b817871f5438</td>\n",
       "      <td>search</td>\n",
       "      <td>playback</td>\n",
       "      <td>track</td>\n",
       "      <td>151114048</td>\n",
       "      <td>0</td>\n",
       "      <td>cb294e09-c900-4c7e-82d1-8be0bfde2db0</td>\n",
       "      <td>1602638093095</td>\n",
       "      <td>2020-10-14</td>\n",
       "      <td>145</td>\n",
       "    </tr>\n",
       "  </tbody>\n",
       "</table>\n",
       "</div>"
      ],
      "text/plain": [
       "     event_name                             queryUuid  pageId   endResult  \\\n",
       "0  click_search  329f9073-60ae-4819-b5fe-c6a6f340f74c  search  navigation   \n",
       "1  click_search  f01bed2f-ea3e-430b-a691-b4241324d9a8  search  navigation   \n",
       "2  click_search  0c7d4008-e2bb-4b35-aca5-f8336c312bc0  search    playback   \n",
       "3  click_search  39cf0e3c-0628-43b1-880f-b817871f5438  search    playback   \n",
       "\n",
       "  contentType  contentId  contentPlacement  \\\n",
       "0      artist    3619453                 0   \n",
       "1      artist    3646659                 0   \n",
       "2       track   35425919                 0   \n",
       "3       track  151114048                 0   \n",
       "\n",
       "                             searchUuid       event_ts          dt  user_id  \n",
       "0  1eddb4fd-829c-4971-bdc8-6af380a98626  1602640556158  2020-10-14      194  \n",
       "1  6b2cdbd1-bb13-44ba-97d9-84e76c8a18b4  1602471803424  2020-10-14       56  \n",
       "2  ce0ed919-3406-4837-9a3e-baf4459d35e0  1602637583392  2020-10-14      218  \n",
       "3  cb294e09-c900-4c7e-82d1-8be0bfde2db0  1602638093095  2020-10-14      145  "
      ]
     },
     "execution_count": 56,
     "metadata": {},
     "output_type": "execute_result"
    }
   ],
   "source": [
    "click_search.head(4)"
   ]
  },
  {
   "cell_type": "code",
   "execution_count": 57,
   "metadata": {},
   "outputs": [
    {
     "data": {
      "text/html": [
       "<div>\n",
       "<style scoped>\n",
       "    .dataframe tbody tr th:only-of-type {\n",
       "        vertical-align: middle;\n",
       "    }\n",
       "\n",
       "    .dataframe tbody tr th {\n",
       "        vertical-align: top;\n",
       "    }\n",
       "\n",
       "    .dataframe thead th {\n",
       "        text-align: right;\n",
       "    }\n",
       "</style>\n",
       "<table border=\"1\" class=\"dataframe\">\n",
       "  <thead>\n",
       "    <tr style=\"text-align: right;\">\n",
       "      <th></th>\n",
       "      <th>event_name</th>\n",
       "      <th>queryUuid</th>\n",
       "      <th>pageId</th>\n",
       "      <th>endResult</th>\n",
       "      <th>contentType</th>\n",
       "      <th>contentId</th>\n",
       "      <th>contentPlacement</th>\n",
       "      <th>searchUuid</th>\n",
       "      <th>event_ts</th>\n",
       "      <th>dt</th>\n",
       "      <th>user_id</th>\n",
       "    </tr>\n",
       "  </thead>\n",
       "  <tbody>\n",
       "    <tr>\n",
       "      <th>87</th>\n",
       "      <td>click_search</td>\n",
       "      <td>8053acbd-1d4e-4551-96bf-238b8337bdcd</td>\n",
       "      <td>search_viewalltracks</td>\n",
       "      <td>playback</td>\n",
       "      <td>track</td>\n",
       "      <td>34515861</td>\n",
       "      <td>57</td>\n",
       "      <td>76f2d7f4-9987-4e8d-92ef-cdde1f0b7123</td>\n",
       "      <td>1602634635336</td>\n",
       "      <td>2020-10-14</td>\n",
       "      <td>19</td>\n",
       "    </tr>\n",
       "    <tr>\n",
       "      <th>91</th>\n",
       "      <td>click_search</td>\n",
       "      <td>8053acbd-1d4e-4551-96bf-238b8337bdcd</td>\n",
       "      <td>search_viewalltracks</td>\n",
       "      <td>playback</td>\n",
       "      <td>track</td>\n",
       "      <td>44724623</td>\n",
       "      <td>23</td>\n",
       "      <td>76f2d7f4-9987-4e8d-92ef-cdde1f0b7123</td>\n",
       "      <td>1602635817107</td>\n",
       "      <td>2020-10-14</td>\n",
       "      <td>19</td>\n",
       "    </tr>\n",
       "    <tr>\n",
       "      <th>137</th>\n",
       "      <td>click_search</td>\n",
       "      <td>8053acbd-1d4e-4551-96bf-238b8337bdcd</td>\n",
       "      <td>search_viewalltracks</td>\n",
       "      <td>playback</td>\n",
       "      <td>track</td>\n",
       "      <td>67373385</td>\n",
       "      <td>22</td>\n",
       "      <td>76f2d7f4-9987-4e8d-92ef-cdde1f0b7123</td>\n",
       "      <td>1602635837138</td>\n",
       "      <td>2020-10-14</td>\n",
       "      <td>19</td>\n",
       "    </tr>\n",
       "    <tr>\n",
       "      <th>152</th>\n",
       "      <td>click_search</td>\n",
       "      <td>8053acbd-1d4e-4551-96bf-238b8337bdcd</td>\n",
       "      <td>search_viewalltracks</td>\n",
       "      <td>playback</td>\n",
       "      <td>track</td>\n",
       "      <td>142251616</td>\n",
       "      <td>6</td>\n",
       "      <td>76f2d7f4-9987-4e8d-92ef-cdde1f0b7123</td>\n",
       "      <td>1602636006262</td>\n",
       "      <td>2020-10-14</td>\n",
       "      <td>19</td>\n",
       "    </tr>\n",
       "    <tr>\n",
       "      <th>170</th>\n",
       "      <td>click_search</td>\n",
       "      <td>8053acbd-1d4e-4551-96bf-238b8337bdcd</td>\n",
       "      <td>search_viewalltracks</td>\n",
       "      <td>playback</td>\n",
       "      <td>track</td>\n",
       "      <td>44724623</td>\n",
       "      <td>23</td>\n",
       "      <td>76f2d7f4-9987-4e8d-92ef-cdde1f0b7123</td>\n",
       "      <td>1602635835819</td>\n",
       "      <td>2020-10-14</td>\n",
       "      <td>19</td>\n",
       "    </tr>\n",
       "    <tr>\n",
       "      <th>176</th>\n",
       "      <td>click_search</td>\n",
       "      <td>8053acbd-1d4e-4551-96bf-238b8337bdcd</td>\n",
       "      <td>search_viewalltracks</td>\n",
       "      <td>playback</td>\n",
       "      <td>track</td>\n",
       "      <td>38186275</td>\n",
       "      <td>1</td>\n",
       "      <td>76f2d7f4-9987-4e8d-92ef-cdde1f0b7123</td>\n",
       "      <td>1602635857003</td>\n",
       "      <td>2020-10-14</td>\n",
       "      <td>19</td>\n",
       "    </tr>\n",
       "    <tr>\n",
       "      <th>190</th>\n",
       "      <td>click_search</td>\n",
       "      <td>8053acbd-1d4e-4551-96bf-238b8337bdcd</td>\n",
       "      <td>search_viewalltracks</td>\n",
       "      <td>playback</td>\n",
       "      <td>track</td>\n",
       "      <td>142251616</td>\n",
       "      <td>6</td>\n",
       "      <td>76f2d7f4-9987-4e8d-92ef-cdde1f0b7123</td>\n",
       "      <td>1602636007430</td>\n",
       "      <td>2020-10-14</td>\n",
       "      <td>19</td>\n",
       "    </tr>\n",
       "  </tbody>\n",
       "</table>\n",
       "</div>"
      ],
      "text/plain": [
       "       event_name                             queryUuid                pageId  \\\n",
       "87   click_search  8053acbd-1d4e-4551-96bf-238b8337bdcd  search_viewalltracks   \n",
       "91   click_search  8053acbd-1d4e-4551-96bf-238b8337bdcd  search_viewalltracks   \n",
       "137  click_search  8053acbd-1d4e-4551-96bf-238b8337bdcd  search_viewalltracks   \n",
       "152  click_search  8053acbd-1d4e-4551-96bf-238b8337bdcd  search_viewalltracks   \n",
       "170  click_search  8053acbd-1d4e-4551-96bf-238b8337bdcd  search_viewalltracks   \n",
       "176  click_search  8053acbd-1d4e-4551-96bf-238b8337bdcd  search_viewalltracks   \n",
       "190  click_search  8053acbd-1d4e-4551-96bf-238b8337bdcd  search_viewalltracks   \n",
       "\n",
       "    endResult contentType  contentId  contentPlacement  \\\n",
       "87   playback       track   34515861                57   \n",
       "91   playback       track   44724623                23   \n",
       "137  playback       track   67373385                22   \n",
       "152  playback       track  142251616                 6   \n",
       "170  playback       track   44724623                23   \n",
       "176  playback       track   38186275                 1   \n",
       "190  playback       track  142251616                 6   \n",
       "\n",
       "                               searchUuid       event_ts          dt  user_id  \n",
       "87   76f2d7f4-9987-4e8d-92ef-cdde1f0b7123  1602634635336  2020-10-14       19  \n",
       "91   76f2d7f4-9987-4e8d-92ef-cdde1f0b7123  1602635817107  2020-10-14       19  \n",
       "137  76f2d7f4-9987-4e8d-92ef-cdde1f0b7123  1602635837138  2020-10-14       19  \n",
       "152  76f2d7f4-9987-4e8d-92ef-cdde1f0b7123  1602636006262  2020-10-14       19  \n",
       "170  76f2d7f4-9987-4e8d-92ef-cdde1f0b7123  1602635835819  2020-10-14       19  \n",
       "176  76f2d7f4-9987-4e8d-92ef-cdde1f0b7123  1602635857003  2020-10-14       19  \n",
       "190  76f2d7f4-9987-4e8d-92ef-cdde1f0b7123  1602636007430  2020-10-14       19  "
      ]
     },
     "execution_count": 57,
     "metadata": {},
     "output_type": "execute_result"
    }
   ],
   "source": [
    "cs_grouped = click_search.groupby(by='searchUuid')\n",
    "cs_grouped.groups\n",
    "cs_grouped.get_group('76f2d7f4-9987-4e8d-92ef-cdde1f0b7123')"
   ]
  },
  {
   "cell_type": "markdown",
   "metadata": {},
   "source": [
    "We will now pick which aggregation functions we want to choose for every column. We will skip the columns that are also available in `search_result` (queryId, timestamp, date, user), as we will deal with them below when we discuss the next table. We will gather all the pageId, endResult and contentType labels as a set within the search and keep the best (minimum) content placement."
   ]
  },
  {
   "cell_type": "code",
   "execution_count": 58,
   "metadata": {},
   "outputs": [
    {
     "data": {
      "text/html": [
       "<div>\n",
       "<style scoped>\n",
       "    .dataframe tbody tr th:only-of-type {\n",
       "        vertical-align: middle;\n",
       "    }\n",
       "\n",
       "    .dataframe tbody tr th {\n",
       "        vertical-align: top;\n",
       "    }\n",
       "\n",
       "    .dataframe thead tr th {\n",
       "        text-align: left;\n",
       "    }\n",
       "\n",
       "    .dataframe thead tr:last-of-type th {\n",
       "        text-align: right;\n",
       "    }\n",
       "</style>\n",
       "<table border=\"1\" class=\"dataframe\">\n",
       "  <thead>\n",
       "    <tr>\n",
       "      <th></th>\n",
       "      <th>pageId</th>\n",
       "      <th>endResult</th>\n",
       "      <th>contentType</th>\n",
       "      <th>contentPlacement</th>\n",
       "    </tr>\n",
       "    <tr>\n",
       "      <th></th>\n",
       "      <th>set</th>\n",
       "      <th>set</th>\n",
       "      <th>set</th>\n",
       "      <th>min</th>\n",
       "    </tr>\n",
       "    <tr>\n",
       "      <th>searchUuid</th>\n",
       "      <th></th>\n",
       "      <th></th>\n",
       "      <th></th>\n",
       "      <th></th>\n",
       "    </tr>\n",
       "  </thead>\n",
       "  <tbody>\n",
       "    <tr>\n",
       "      <th>005dcb9d-c116-4186-89dc-d2b7e5f557a7</th>\n",
       "      <td>{search}</td>\n",
       "      <td>{navigation}</td>\n",
       "      <td>{artist}</td>\n",
       "      <td>0</td>\n",
       "    </tr>\n",
       "    <tr>\n",
       "      <th>008fed36-70b2-4e73-9cf1-cc875092750d</th>\n",
       "      <td>{search}</td>\n",
       "      <td>{navigation}</td>\n",
       "      <td>{artist}</td>\n",
       "      <td>0</td>\n",
       "    </tr>\n",
       "    <tr>\n",
       "      <th>02f1dc00-90df-45b7-b6cb-b8e15531919d</th>\n",
       "      <td>{search}</td>\n",
       "      <td>{playback}</td>\n",
       "      <td>{track}</td>\n",
       "      <td>2</td>\n",
       "    </tr>\n",
       "    <tr>\n",
       "      <th>03179219-c7a5-4cbe-9a64-ff3e5e07c355</th>\n",
       "      <td>{search_viewallplaylists}</td>\n",
       "      <td>{navigation}</td>\n",
       "      <td>{playlist}</td>\n",
       "      <td>22</td>\n",
       "    </tr>\n",
       "    <tr>\n",
       "      <th>03331c06-c612-471e-aa91-7dcd8185b7ae</th>\n",
       "      <td>{search}</td>\n",
       "      <td>{navigation}</td>\n",
       "      <td>{artist}</td>\n",
       "      <td>0</td>\n",
       "    </tr>\n",
       "    <tr>\n",
       "      <th>...</th>\n",
       "      <td>...</td>\n",
       "      <td>...</td>\n",
       "      <td>...</td>\n",
       "      <td>...</td>\n",
       "    </tr>\n",
       "    <tr>\n",
       "      <th>fdb7d639-9af4-409e-beca-94910f2b1597</th>\n",
       "      <td>{search}</td>\n",
       "      <td>{navigation}</td>\n",
       "      <td>{album}</td>\n",
       "      <td>0</td>\n",
       "    </tr>\n",
       "    <tr>\n",
       "      <th>fe76177e-9c5d-4e14-baed-ce7f1922c901</th>\n",
       "      <td>{search}</td>\n",
       "      <td>{navigation}</td>\n",
       "      <td>{artist}</td>\n",
       "      <td>0</td>\n",
       "    </tr>\n",
       "    <tr>\n",
       "      <th>ff2ca07b-b23d-406c-b5cf-b687f992a5ac</th>\n",
       "      <td>{search}</td>\n",
       "      <td>{navigation}</td>\n",
       "      <td>{artist}</td>\n",
       "      <td>0</td>\n",
       "    </tr>\n",
       "    <tr>\n",
       "      <th>ff3c75db-f17f-44f9-909d-d2b40b128ca1</th>\n",
       "      <td>{search}</td>\n",
       "      <td>{navigation}</td>\n",
       "      <td>{artist}</td>\n",
       "      <td>0</td>\n",
       "    </tr>\n",
       "    <tr>\n",
       "      <th>ffd931ae-fba5-464f-a1c4-44c83bc3bc17</th>\n",
       "      <td>{search}</td>\n",
       "      <td>{navigation}</td>\n",
       "      <td>{artist}</td>\n",
       "      <td>0</td>\n",
       "    </tr>\n",
       "  </tbody>\n",
       "</table>\n",
       "<p>353 rows × 4 columns</p>\n",
       "</div>"
      ],
      "text/plain": [
       "                                                         pageId     endResult  \\\n",
       "                                                            set           set   \n",
       "searchUuid                                                                      \n",
       "005dcb9d-c116-4186-89dc-d2b7e5f557a7                   {search}  {navigation}   \n",
       "008fed36-70b2-4e73-9cf1-cc875092750d                   {search}  {navigation}   \n",
       "02f1dc00-90df-45b7-b6cb-b8e15531919d                   {search}    {playback}   \n",
       "03179219-c7a5-4cbe-9a64-ff3e5e07c355  {search_viewallplaylists}  {navigation}   \n",
       "03331c06-c612-471e-aa91-7dcd8185b7ae                   {search}  {navigation}   \n",
       "...                                                         ...           ...   \n",
       "fdb7d639-9af4-409e-beca-94910f2b1597                   {search}  {navigation}   \n",
       "fe76177e-9c5d-4e14-baed-ce7f1922c901                   {search}  {navigation}   \n",
       "ff2ca07b-b23d-406c-b5cf-b687f992a5ac                   {search}  {navigation}   \n",
       "ff3c75db-f17f-44f9-909d-d2b40b128ca1                   {search}  {navigation}   \n",
       "ffd931ae-fba5-464f-a1c4-44c83bc3bc17                   {search}  {navigation}   \n",
       "\n",
       "                                     contentType contentPlacement  \n",
       "                                             set              min  \n",
       "searchUuid                                                         \n",
       "005dcb9d-c116-4186-89dc-d2b7e5f557a7    {artist}                0  \n",
       "008fed36-70b2-4e73-9cf1-cc875092750d    {artist}                0  \n",
       "02f1dc00-90df-45b7-b6cb-b8e15531919d     {track}                2  \n",
       "03179219-c7a5-4cbe-9a64-ff3e5e07c355  {playlist}               22  \n",
       "03331c06-c612-471e-aa91-7dcd8185b7ae    {artist}                0  \n",
       "...                                          ...              ...  \n",
       "fdb7d639-9af4-409e-beca-94910f2b1597     {album}                0  \n",
       "fe76177e-9c5d-4e14-baed-ce7f1922c901    {artist}                0  \n",
       "ff2ca07b-b23d-406c-b5cf-b687f992a5ac    {artist}                0  \n",
       "ff3c75db-f17f-44f9-909d-d2b40b128ca1    {artist}                0  \n",
       "ffd931ae-fba5-464f-a1c4-44c83bc3bc17    {artist}                0  \n",
       "\n",
       "[353 rows x 4 columns]"
      ]
     },
     "execution_count": 58,
     "metadata": {},
     "output_type": "execute_result"
    }
   ],
   "source": [
    "def get_set(x):\n",
    "    return set(x)\n",
    "get_set.__name__ = 'set'\n",
    "#cs_agg = cs_grouped.agg({'queryUuid':'count', 'pageId':get_set,'endResult':get_set,'contentType':get_set, 'contentPlacement':'min', 'event_ts':'max','dt':'max','user_id':'max'})\n",
    "cs_agg = cs_grouped.agg({'pageId':get_set,'endResult':get_set,'contentType':get_set, 'contentPlacement':['min']})\n",
    "cs_agg"
   ]
  },
  {
   "cell_type": "code",
   "execution_count": 59,
   "metadata": {},
   "outputs": [
    {
     "data": {
      "text/plain": [
       "{navigation}              247\n",
       "{playback}                 92\n",
       "{playback, navigation}     14\n",
       "Name: set, dtype: int64"
      ]
     },
     "execution_count": 59,
     "metadata": {},
     "output_type": "execute_result"
    }
   ],
   "source": [
    "cs_agg['endResult']['set'].value_counts()"
   ]
  },
  {
   "cell_type": "code",
   "execution_count": 60,
   "metadata": {},
   "outputs": [
    {
     "data": {
      "text/plain": [
       "{search}                             344\n",
       "{search_viewallalbums, search}         2\n",
       "{search_viewalltracks}                 2\n",
       "{search_viewallplaylists}              2\n",
       "{search_viewallplaylists, search}      1\n",
       "{search, search_viewallartists}        1\n",
       "{search, search_viewalltracks}         1\n",
       "Name: set, dtype: int64"
      ]
     },
     "execution_count": 60,
     "metadata": {},
     "output_type": "execute_result"
    }
   ],
   "source": [
    "cs_agg['pageId']['set'].value_counts()"
   ]
  },
  {
   "cell_type": "code",
   "execution_count": 61,
   "metadata": {},
   "outputs": [
    {
     "data": {
      "text/plain": [
       "{artist}                            220\n",
       "{track}                              92\n",
       "{album}                              20\n",
       "{album, track}                        7\n",
       "{playlist}                            7\n",
       "{artist, track}                       5\n",
       "{album, video}                        1\n",
       "{playlist, album, artist, track}      1\n",
       "Name: set, dtype: int64"
      ]
     },
     "execution_count": 61,
     "metadata": {},
     "output_type": "execute_result"
    }
   ],
   "source": [
    "cs_agg['contentType']['set'].value_counts()"
   ]
  },
  {
   "cell_type": "markdown",
   "metadata": {},
   "source": [
    "We will now move on to the `search_result` table."
   ]
  },
  {
   "cell_type": "code",
   "execution_count": 62,
   "metadata": {
    "scrolled": true
   },
   "outputs": [
    {
     "data": {
      "text/html": [
       "<div>\n",
       "<style scoped>\n",
       "    .dataframe tbody tr th:only-of-type {\n",
       "        vertical-align: middle;\n",
       "    }\n",
       "\n",
       "    .dataframe tbody tr th {\n",
       "        vertical-align: top;\n",
       "    }\n",
       "\n",
       "    .dataframe thead th {\n",
       "        text-align: right;\n",
       "    }\n",
       "</style>\n",
       "<table border=\"1\" class=\"dataframe\">\n",
       "  <thead>\n",
       "    <tr style=\"text-align: right;\">\n",
       "      <th></th>\n",
       "      <th>event_name</th>\n",
       "      <th>query</th>\n",
       "      <th>searchUuid</th>\n",
       "      <th>queryUuid</th>\n",
       "      <th>event_ts</th>\n",
       "      <th>dt</th>\n",
       "      <th>user_id</th>\n",
       "    </tr>\n",
       "  </thead>\n",
       "  <tbody>\n",
       "    <tr>\n",
       "      <th>428</th>\n",
       "      <td>search_result</td>\n",
       "      <td>money</td>\n",
       "      <td>071503a7-9acd-473e-a5d4-50112d4de11c</td>\n",
       "      <td>2ff6b747-a292-448e-9165-c68fb6a16af2</td>\n",
       "      <td>1602616844067</td>\n",
       "      <td>2020-10-14</td>\n",
       "      <td>268</td>\n",
       "    </tr>\n",
       "    <tr>\n",
       "      <th>494</th>\n",
       "      <td>search_result</td>\n",
       "      <td>mon</td>\n",
       "      <td>071503a7-9acd-473e-a5d4-50112d4de11c</td>\n",
       "      <td>e3685fb2-ed56-4ce5-a912-a7d8fb62054c</td>\n",
       "      <td>1602616839807</td>\n",
       "      <td>2020-10-14</td>\n",
       "      <td>268</td>\n",
       "    </tr>\n",
       "    <tr>\n",
       "      <th>534</th>\n",
       "      <td>search_result</td>\n",
       "      <td>money</td>\n",
       "      <td>071503a7-9acd-473e-a5d4-50112d4de11c</td>\n",
       "      <td>dddf8298-28b3-485c-8458-d92531f15ff5</td>\n",
       "      <td>1602616844600</td>\n",
       "      <td>2020-10-14</td>\n",
       "      <td>268</td>\n",
       "    </tr>\n",
       "    <tr>\n",
       "      <th>554</th>\n",
       "      <td>search_result</td>\n",
       "      <td>mone</td>\n",
       "      <td>071503a7-9acd-473e-a5d4-50112d4de11c</td>\n",
       "      <td>1d0553f7-1a79-4976-b026-fa68bd77651c</td>\n",
       "      <td>1602616843149</td>\n",
       "      <td>2020-10-14</td>\n",
       "      <td>268</td>\n",
       "    </tr>\n",
       "  </tbody>\n",
       "</table>\n",
       "</div>"
      ],
      "text/plain": [
       "        event_name   query                            searchUuid  \\\n",
       "428  search_result   money  071503a7-9acd-473e-a5d4-50112d4de11c   \n",
       "494  search_result     mon  071503a7-9acd-473e-a5d4-50112d4de11c   \n",
       "534  search_result  money   071503a7-9acd-473e-a5d4-50112d4de11c   \n",
       "554  search_result    mone  071503a7-9acd-473e-a5d4-50112d4de11c   \n",
       "\n",
       "                                queryUuid       event_ts          dt  user_id  \n",
       "428  2ff6b747-a292-448e-9165-c68fb6a16af2  1602616844067  2020-10-14      268  \n",
       "494  e3685fb2-ed56-4ce5-a912-a7d8fb62054c  1602616839807  2020-10-14      268  \n",
       "534  dddf8298-28b3-485c-8458-d92531f15ff5  1602616844600  2020-10-14      268  \n",
       "554  1d0553f7-1a79-4976-b026-fa68bd77651c  1602616843149  2020-10-14      268  "
      ]
     },
     "execution_count": 62,
     "metadata": {},
     "output_type": "execute_result"
    }
   ],
   "source": [
    "sr_grouped = search_result.groupby(by='searchUuid')\n",
    "sr_grouped.groups\n",
    "sr_grouped.get_group('071503a7-9acd-473e-a5d4-50112d4de11c')"
   ]
  },
  {
   "cell_type": "markdown",
   "metadata": {},
   "source": [
    "It looks from the order of magnitude like the timestamps are milliseconds passed since epoch. Since we are aggregating on search Id over mutiple queries, it might be interesting to count the time spent on queries within one search session, which we can take as the maximum minus the minimum timestamp of the queries in a search, converted to seconds."
   ]
  },
  {
   "cell_type": "markdown",
   "metadata": {},
   "source": [
    "We will aggregate query text by max to get the last/most complete request, count query IDs per search, find the session duration and last timestamp, last date and the mode of the user id."
   ]
  },
  {
   "cell_type": "code",
   "execution_count": 63,
   "metadata": {},
   "outputs": [],
   "source": [
    "def len_sec(t):\n",
    "    return (t.max() - t.min())/1000.\n",
    "len_sec.__name__ = 'duration'\n",
    "def mode(x):\n",
    "    return x.mode()\n",
    "mode.__name__ = 'mode'"
   ]
  },
  {
   "cell_type": "code",
   "execution_count": 64,
   "metadata": {},
   "outputs": [
    {
     "data": {
      "text/html": [
       "<div>\n",
       "<style scoped>\n",
       "    .dataframe tbody tr th:only-of-type {\n",
       "        vertical-align: middle;\n",
       "    }\n",
       "\n",
       "    .dataframe tbody tr th {\n",
       "        vertical-align: top;\n",
       "    }\n",
       "\n",
       "    .dataframe thead tr th {\n",
       "        text-align: left;\n",
       "    }\n",
       "\n",
       "    .dataframe thead tr:last-of-type th {\n",
       "        text-align: right;\n",
       "    }\n",
       "</style>\n",
       "<table border=\"1\" class=\"dataframe\">\n",
       "  <thead>\n",
       "    <tr>\n",
       "      <th></th>\n",
       "      <th>query</th>\n",
       "      <th>queryUuid</th>\n",
       "      <th colspan=\"2\" halign=\"left\">event_ts</th>\n",
       "      <th>dt</th>\n",
       "      <th>user_id</th>\n",
       "    </tr>\n",
       "    <tr>\n",
       "      <th></th>\n",
       "      <th>max</th>\n",
       "      <th>count</th>\n",
       "      <th>duration</th>\n",
       "      <th>max</th>\n",
       "      <th>max</th>\n",
       "      <th>mode</th>\n",
       "    </tr>\n",
       "    <tr>\n",
       "      <th>searchUuid</th>\n",
       "      <th></th>\n",
       "      <th></th>\n",
       "      <th></th>\n",
       "      <th></th>\n",
       "      <th></th>\n",
       "      <th></th>\n",
       "    </tr>\n",
       "  </thead>\n",
       "  <tbody>\n",
       "    <tr>\n",
       "      <th>005dcb9d-c116-4186-89dc-d2b7e5f557a7</th>\n",
       "      <td>tre</td>\n",
       "      <td>2</td>\n",
       "      <td>1.482</td>\n",
       "      <td>1602639819343</td>\n",
       "      <td>2020-10-14</td>\n",
       "      <td>351</td>\n",
       "    </tr>\n",
       "    <tr>\n",
       "      <th>008fed36-70b2-4e73-9cf1-cc875092750d</th>\n",
       "      <td>limp biz</td>\n",
       "      <td>1</td>\n",
       "      <td>0.000</td>\n",
       "      <td>1602637241764</td>\n",
       "      <td>2020-10-14</td>\n",
       "      <td>147</td>\n",
       "    </tr>\n",
       "    <tr>\n",
       "      <th>00fbfc8f-91ed-4160-bb74-ec7963b3855d</th>\n",
       "      <td>d</td>\n",
       "      <td>1</td>\n",
       "      <td>0.000</td>\n",
       "      <td>1602634485054</td>\n",
       "      <td>2020-10-14</td>\n",
       "      <td>19</td>\n",
       "    </tr>\n",
       "    <tr>\n",
       "      <th>016fb715-a63d-414a-a7e6-37cce0113d49</th>\n",
       "      <td>say it aint so</td>\n",
       "      <td>2</td>\n",
       "      <td>3.999</td>\n",
       "      <td>1602637770179</td>\n",
       "      <td>2020-10-14</td>\n",
       "      <td>283</td>\n",
       "    </tr>\n",
       "    <tr>\n",
       "      <th>02f1dc00-90df-45b7-b6cb-b8e15531919d</th>\n",
       "      <td>powers</td>\n",
       "      <td>2</td>\n",
       "      <td>1.519</td>\n",
       "      <td>1602637666230</td>\n",
       "      <td>2020-10-14</td>\n",
       "      <td>258</td>\n",
       "    </tr>\n",
       "    <tr>\n",
       "      <th>...</th>\n",
       "      <td>...</td>\n",
       "      <td>...</td>\n",
       "      <td>...</td>\n",
       "      <td>...</td>\n",
       "      <td>...</td>\n",
       "      <td>...</td>\n",
       "    </tr>\n",
       "    <tr>\n",
       "      <th>fdb7d639-9af4-409e-beca-94910f2b1597</th>\n",
       "      <td>only for</td>\n",
       "      <td>2</td>\n",
       "      <td>2.750</td>\n",
       "      <td>1602638546295</td>\n",
       "      <td>2020-10-14</td>\n",
       "      <td>125</td>\n",
       "    </tr>\n",
       "    <tr>\n",
       "      <th>fe76177e-9c5d-4e14-baed-ce7f1922c901</th>\n",
       "      <td>nri</td>\n",
       "      <td>9</td>\n",
       "      <td>16.243</td>\n",
       "      <td>1602639631257</td>\n",
       "      <td>2020-10-14</td>\n",
       "      <td>32</td>\n",
       "    </tr>\n",
       "    <tr>\n",
       "      <th>ff2ca07b-b23d-406c-b5cf-b687f992a5ac</th>\n",
       "      <td>Tory La</td>\n",
       "      <td>6</td>\n",
       "      <td>7.258</td>\n",
       "      <td>1602639518979</td>\n",
       "      <td>2020-10-14</td>\n",
       "      <td>138</td>\n",
       "    </tr>\n",
       "    <tr>\n",
       "      <th>ff3c75db-f17f-44f9-909d-d2b40b128ca1</th>\n",
       "      <td>2p</td>\n",
       "      <td>1</td>\n",
       "      <td>0.000</td>\n",
       "      <td>1602640984130</td>\n",
       "      <td>2020-10-14</td>\n",
       "      <td>326</td>\n",
       "    </tr>\n",
       "    <tr>\n",
       "      <th>ffd931ae-fba5-464f-a1c4-44c83bc3bc17</th>\n",
       "      <td>chlidish</td>\n",
       "      <td>3</td>\n",
       "      <td>3.993</td>\n",
       "      <td>1601647959253</td>\n",
       "      <td>2020-10-14</td>\n",
       "      <td>7</td>\n",
       "    </tr>\n",
       "  </tbody>\n",
       "</table>\n",
       "<p>434 rows × 6 columns</p>\n",
       "</div>"
      ],
      "text/plain": [
       "                                               query queryUuid event_ts  \\\n",
       "                                                 max     count duration   \n",
       "searchUuid                                                                \n",
       "005dcb9d-c116-4186-89dc-d2b7e5f557a7             tre         2    1.482   \n",
       "008fed36-70b2-4e73-9cf1-cc875092750d        limp biz         1    0.000   \n",
       "00fbfc8f-91ed-4160-bb74-ec7963b3855d               d         1    0.000   \n",
       "016fb715-a63d-414a-a7e6-37cce0113d49  say it aint so         2    3.999   \n",
       "02f1dc00-90df-45b7-b6cb-b8e15531919d         powers          2    1.519   \n",
       "...                                              ...       ...      ...   \n",
       "fdb7d639-9af4-409e-beca-94910f2b1597        only for         2    2.750   \n",
       "fe76177e-9c5d-4e14-baed-ce7f1922c901             nri         9   16.243   \n",
       "ff2ca07b-b23d-406c-b5cf-b687f992a5ac         Tory La         6    7.258   \n",
       "ff3c75db-f17f-44f9-909d-d2b40b128ca1              2p         1    0.000   \n",
       "ffd931ae-fba5-464f-a1c4-44c83bc3bc17        chlidish         3    3.993   \n",
       "\n",
       "                                                             dt user_id  \n",
       "                                                max         max    mode  \n",
       "searchUuid                                                               \n",
       "005dcb9d-c116-4186-89dc-d2b7e5f557a7  1602639819343  2020-10-14     351  \n",
       "008fed36-70b2-4e73-9cf1-cc875092750d  1602637241764  2020-10-14     147  \n",
       "00fbfc8f-91ed-4160-bb74-ec7963b3855d  1602634485054  2020-10-14      19  \n",
       "016fb715-a63d-414a-a7e6-37cce0113d49  1602637770179  2020-10-14     283  \n",
       "02f1dc00-90df-45b7-b6cb-b8e15531919d  1602637666230  2020-10-14     258  \n",
       "...                                             ...         ...     ...  \n",
       "fdb7d639-9af4-409e-beca-94910f2b1597  1602638546295  2020-10-14     125  \n",
       "fe76177e-9c5d-4e14-baed-ce7f1922c901  1602639631257  2020-10-14      32  \n",
       "ff2ca07b-b23d-406c-b5cf-b687f992a5ac  1602639518979  2020-10-14     138  \n",
       "ff3c75db-f17f-44f9-909d-d2b40b128ca1  1602640984130  2020-10-14     326  \n",
       "ffd931ae-fba5-464f-a1c4-44c83bc3bc17  1601647959253  2020-10-14       7  \n",
       "\n",
       "[434 rows x 6 columns]"
      ]
     },
     "execution_count": 64,
     "metadata": {},
     "output_type": "execute_result"
    }
   ],
   "source": [
    "sr_agg = sr_grouped.agg({'query':'max', 'queryUuid': 'count', 'event_ts': [len_sec, 'max'], 'dt':'max', 'user_id':mode})\n",
    "sr_agg"
   ]
  },
  {
   "cell_type": "markdown",
   "metadata": {},
   "source": [
    "Now we could, for example, look at the distribution of the number of queries per search and the duration of a search session."
   ]
  },
  {
   "cell_type": "code",
   "execution_count": 65,
   "metadata": {},
   "outputs": [
    {
     "data": {
      "text/plain": [
       "1     133\n",
       "2      96\n",
       "3      70\n",
       "4      59\n",
       "5      20\n",
       "6      19\n",
       "8      13\n",
       "7      10\n",
       "9       5\n",
       "12      2\n",
       "11      2\n",
       "10      2\n",
       "21      1\n",
       "16      1\n",
       "13      1\n",
       "Name: count, dtype: int64"
      ]
     },
     "execution_count": 65,
     "metadata": {},
     "output_type": "execute_result"
    }
   ],
   "source": [
    "sr_agg['queryUuid']['count'].value_counts()"
   ]
  },
  {
   "cell_type": "code",
   "execution_count": 66,
   "metadata": {},
   "outputs": [
    {
     "data": {
      "text/plain": [
       "Text(0, 0.5, 'Number of search sessions')"
      ]
     },
     "execution_count": 66,
     "metadata": {},
     "output_type": "execute_result"
    },
    {
     "data": {
      "image/png": "[encoded data removed]",
      "text/plain": [
       "<Figure size 504x360 with 1 Axes>"
      ]
     },
     "metadata": {
      "needs_background": "light"
     },
     "output_type": "display_data"
    }
   ],
   "source": [
    "ax = sr_agg['queryUuid']['count'].value_counts().plot.bar(title='Distribution of number of queries per search session',figsize=(7,5))\n",
    "ax.set_xlabel('Number of queries per session')\n",
    "ax.set_ylabel('Number of search sessions')"
   ]
  },
  {
   "cell_type": "markdown",
   "metadata": {},
   "source": [
    "For the length of the search session, there are a lot of zero values (searches with just one query) and the histogram is skewed. We will take the log of the duration to see the distribution better, and then add a plot of the density in linear space below. "
   ]
  },
  {
   "cell_type": "code",
   "execution_count": 67,
   "metadata": {},
   "outputs": [
    {
     "data": {
      "text/plain": [
       "Text(0.5, 0, 'Log(Duration of search session in sec)')"
      ]
     },
     "execution_count": 67,
     "metadata": {},
     "output_type": "execute_result"
    },
    {
     "data": {
      "image/png": "[encoded data removed]",
      "text/plain": [
       "<Figure size 432x288 with 1 Axes>"
      ]
     },
     "metadata": {
      "needs_background": "light"
     },
     "output_type": "display_data"
    }
   ],
   "source": [
    "ax2 = sr_agg['event_ts']['duration'][sr_agg['event_ts']['duration']!=0].apply('log').plot.hist(bins=30, title = 'Distribution of session duration', density=True)\n",
    "ax2.set_xlabel('Log(Duration of search session in sec)')"
   ]
  },
  {
   "cell_type": "code",
   "execution_count": 68,
   "metadata": {
    "scrolled": true
   },
   "outputs": [
    {
     "data": {
      "text/plain": [
       "Text(0.5, 0, 'Duration of search session (sec)')"
      ]
     },
     "execution_count": 68,
     "metadata": {},
     "output_type": "execute_result"
    },
    {
     "data": {
      "image/png": "[encoded data removed]",
      "text/plain": [
       "<Figure size 504x360 with 1 Axes>"
      ]
     },
     "metadata": {
      "needs_background": "light"
     },
     "output_type": "display_data"
    }
   ],
   "source": [
    "ax3 = sr_agg['event_ts']['duration'][sr_agg['event_ts']['duration']!=0].plot.density(xlim=[0,300], ylim=[-0.0002,0.052], figsize=(7,5))\n",
    "ax3.set_xlabel('Duration of search session (sec)')"
   ]
  },
  {
   "cell_type": "markdown",
   "metadata": {},
   "source": [
    "One could try to see whether longer search sessions, or sessions with many queries, were less successful."
   ]
  },
  {
   "cell_type": "markdown",
   "metadata": {},
   "source": [
    "We could also join the two aggregate tables on search id so that we have all of the information in one table."
   ]
  },
  {
   "cell_type": "code",
   "execution_count": 69,
   "metadata": {
    "scrolled": true
   },
   "outputs": [
    {
     "data": {
      "text/html": [
       "<div>\n",
       "<style scoped>\n",
       "    .dataframe tbody tr th:only-of-type {\n",
       "        vertical-align: middle;\n",
       "    }\n",
       "\n",
       "    .dataframe tbody tr th {\n",
       "        vertical-align: top;\n",
       "    }\n",
       "\n",
       "    .dataframe thead tr th {\n",
       "        text-align: left;\n",
       "    }\n",
       "\n",
       "    .dataframe thead tr:last-of-type th {\n",
       "        text-align: right;\n",
       "    }\n",
       "</style>\n",
       "<table border=\"1\" class=\"dataframe\">\n",
       "  <thead>\n",
       "    <tr>\n",
       "      <th></th>\n",
       "      <th>pageId</th>\n",
       "      <th>endResult</th>\n",
       "      <th>contentType</th>\n",
       "      <th>contentPlacement</th>\n",
       "      <th>query</th>\n",
       "      <th>queryUuid</th>\n",
       "      <th colspan=\"2\" halign=\"left\">event_ts</th>\n",
       "      <th>dt</th>\n",
       "      <th>user_id</th>\n",
       "    </tr>\n",
       "    <tr>\n",
       "      <th></th>\n",
       "      <th>set</th>\n",
       "      <th>set</th>\n",
       "      <th>set</th>\n",
       "      <th>min</th>\n",
       "      <th>max</th>\n",
       "      <th>count</th>\n",
       "      <th>duration</th>\n",
       "      <th>max</th>\n",
       "      <th>max</th>\n",
       "      <th>mode</th>\n",
       "    </tr>\n",
       "    <tr>\n",
       "      <th>searchUuid</th>\n",
       "      <th></th>\n",
       "      <th></th>\n",
       "      <th></th>\n",
       "      <th></th>\n",
       "      <th></th>\n",
       "      <th></th>\n",
       "      <th></th>\n",
       "      <th></th>\n",
       "      <th></th>\n",
       "      <th></th>\n",
       "    </tr>\n",
       "  </thead>\n",
       "  <tbody>\n",
       "    <tr>\n",
       "      <th>005dcb9d-c116-4186-89dc-d2b7e5f557a7</th>\n",
       "      <td>{search}</td>\n",
       "      <td>{navigation}</td>\n",
       "      <td>{artist}</td>\n",
       "      <td>0</td>\n",
       "      <td>tre</td>\n",
       "      <td>2</td>\n",
       "      <td>1.482</td>\n",
       "      <td>1602639819343</td>\n",
       "      <td>2020-10-14</td>\n",
       "      <td>351</td>\n",
       "    </tr>\n",
       "    <tr>\n",
       "      <th>008fed36-70b2-4e73-9cf1-cc875092750d</th>\n",
       "      <td>{search}</td>\n",
       "      <td>{navigation}</td>\n",
       "      <td>{artist}</td>\n",
       "      <td>0</td>\n",
       "      <td>limp biz</td>\n",
       "      <td>1</td>\n",
       "      <td>0.000</td>\n",
       "      <td>1602637241764</td>\n",
       "      <td>2020-10-14</td>\n",
       "      <td>147</td>\n",
       "    </tr>\n",
       "    <tr>\n",
       "      <th>02f1dc00-90df-45b7-b6cb-b8e15531919d</th>\n",
       "      <td>{search}</td>\n",
       "      <td>{playback}</td>\n",
       "      <td>{track}</td>\n",
       "      <td>2</td>\n",
       "      <td>powers</td>\n",
       "      <td>2</td>\n",
       "      <td>1.519</td>\n",
       "      <td>1602637666230</td>\n",
       "      <td>2020-10-14</td>\n",
       "      <td>258</td>\n",
       "    </tr>\n",
       "    <tr>\n",
       "      <th>03179219-c7a5-4cbe-9a64-ff3e5e07c355</th>\n",
       "      <td>{search_viewallplaylists}</td>\n",
       "      <td>{navigation}</td>\n",
       "      <td>{playlist}</td>\n",
       "      <td>22</td>\n",
       "      <td>quiet storm radio</td>\n",
       "      <td>5</td>\n",
       "      <td>49.413</td>\n",
       "      <td>1602640234563</td>\n",
       "      <td>2020-10-14</td>\n",
       "      <td>64</td>\n",
       "    </tr>\n",
       "    <tr>\n",
       "      <th>03331c06-c612-471e-aa91-7dcd8185b7ae</th>\n",
       "      <td>{search}</td>\n",
       "      <td>{navigation}</td>\n",
       "      <td>{artist}</td>\n",
       "      <td>0</td>\n",
       "      <td>black tux</td>\n",
       "      <td>5</td>\n",
       "      <td>7.912</td>\n",
       "      <td>1602640478910</td>\n",
       "      <td>2020-10-14</td>\n",
       "      <td>45</td>\n",
       "    </tr>\n",
       "    <tr>\n",
       "      <th>...</th>\n",
       "      <td>...</td>\n",
       "      <td>...</td>\n",
       "      <td>...</td>\n",
       "      <td>...</td>\n",
       "      <td>...</td>\n",
       "      <td>...</td>\n",
       "      <td>...</td>\n",
       "      <td>...</td>\n",
       "      <td>...</td>\n",
       "      <td>...</td>\n",
       "    </tr>\n",
       "    <tr>\n",
       "      <th>fdb7d639-9af4-409e-beca-94910f2b1597</th>\n",
       "      <td>{search}</td>\n",
       "      <td>{navigation}</td>\n",
       "      <td>{album}</td>\n",
       "      <td>0</td>\n",
       "      <td>only for</td>\n",
       "      <td>2</td>\n",
       "      <td>2.750</td>\n",
       "      <td>1602638546295</td>\n",
       "      <td>2020-10-14</td>\n",
       "      <td>125</td>\n",
       "    </tr>\n",
       "    <tr>\n",
       "      <th>fe76177e-9c5d-4e14-baed-ce7f1922c901</th>\n",
       "      <td>{search}</td>\n",
       "      <td>{navigation}</td>\n",
       "      <td>{artist}</td>\n",
       "      <td>0</td>\n",
       "      <td>nri</td>\n",
       "      <td>9</td>\n",
       "      <td>16.243</td>\n",
       "      <td>1602639631257</td>\n",
       "      <td>2020-10-14</td>\n",
       "      <td>32</td>\n",
       "    </tr>\n",
       "    <tr>\n",
       "      <th>ff2ca07b-b23d-406c-b5cf-b687f992a5ac</th>\n",
       "      <td>{search}</td>\n",
       "      <td>{navigation}</td>\n",
       "      <td>{artist}</td>\n",
       "      <td>0</td>\n",
       "      <td>Tory La</td>\n",
       "      <td>6</td>\n",
       "      <td>7.258</td>\n",
       "      <td>1602639518979</td>\n",
       "      <td>2020-10-14</td>\n",
       "      <td>138</td>\n",
       "    </tr>\n",
       "    <tr>\n",
       "      <th>ff3c75db-f17f-44f9-909d-d2b40b128ca1</th>\n",
       "      <td>{search}</td>\n",
       "      <td>{navigation}</td>\n",
       "      <td>{artist}</td>\n",
       "      <td>0</td>\n",
       "      <td>2p</td>\n",
       "      <td>1</td>\n",
       "      <td>0.000</td>\n",
       "      <td>1602640984130</td>\n",
       "      <td>2020-10-14</td>\n",
       "      <td>326</td>\n",
       "    </tr>\n",
       "    <tr>\n",
       "      <th>ffd931ae-fba5-464f-a1c4-44c83bc3bc17</th>\n",
       "      <td>{search}</td>\n",
       "      <td>{navigation}</td>\n",
       "      <td>{artist}</td>\n",
       "      <td>0</td>\n",
       "      <td>chlidish</td>\n",
       "      <td>3</td>\n",
       "      <td>3.993</td>\n",
       "      <td>1601647959253</td>\n",
       "      <td>2020-10-14</td>\n",
       "      <td>7</td>\n",
       "    </tr>\n",
       "  </tbody>\n",
       "</table>\n",
       "<p>351 rows × 10 columns</p>\n",
       "</div>"
      ],
      "text/plain": [
       "                                                         pageId     endResult  \\\n",
       "                                                            set           set   \n",
       "searchUuid                                                                      \n",
       "005dcb9d-c116-4186-89dc-d2b7e5f557a7                   {search}  {navigation}   \n",
       "008fed36-70b2-4e73-9cf1-cc875092750d                   {search}  {navigation}   \n",
       "02f1dc00-90df-45b7-b6cb-b8e15531919d                   {search}    {playback}   \n",
       "03179219-c7a5-4cbe-9a64-ff3e5e07c355  {search_viewallplaylists}  {navigation}   \n",
       "03331c06-c612-471e-aa91-7dcd8185b7ae                   {search}  {navigation}   \n",
       "...                                                         ...           ...   \n",
       "fdb7d639-9af4-409e-beca-94910f2b1597                   {search}  {navigation}   \n",
       "fe76177e-9c5d-4e14-baed-ce7f1922c901                   {search}  {navigation}   \n",
       "ff2ca07b-b23d-406c-b5cf-b687f992a5ac                   {search}  {navigation}   \n",
       "ff3c75db-f17f-44f9-909d-d2b40b128ca1                   {search}  {navigation}   \n",
       "ffd931ae-fba5-464f-a1c4-44c83bc3bc17                   {search}  {navigation}   \n",
       "\n",
       "                                     contentType contentPlacement  \\\n",
       "                                             set              min   \n",
       "searchUuid                                                          \n",
       "005dcb9d-c116-4186-89dc-d2b7e5f557a7    {artist}                0   \n",
       "008fed36-70b2-4e73-9cf1-cc875092750d    {artist}                0   \n",
       "02f1dc00-90df-45b7-b6cb-b8e15531919d     {track}                2   \n",
       "03179219-c7a5-4cbe-9a64-ff3e5e07c355  {playlist}               22   \n",
       "03331c06-c612-471e-aa91-7dcd8185b7ae    {artist}                0   \n",
       "...                                          ...              ...   \n",
       "fdb7d639-9af4-409e-beca-94910f2b1597     {album}                0   \n",
       "fe76177e-9c5d-4e14-baed-ce7f1922c901    {artist}                0   \n",
       "ff2ca07b-b23d-406c-b5cf-b687f992a5ac    {artist}                0   \n",
       "ff3c75db-f17f-44f9-909d-d2b40b128ca1    {artist}                0   \n",
       "ffd931ae-fba5-464f-a1c4-44c83bc3bc17    {artist}                0   \n",
       "\n",
       "                                                  query queryUuid event_ts  \\\n",
       "                                                    max     count duration   \n",
       "searchUuid                                                                   \n",
       "005dcb9d-c116-4186-89dc-d2b7e5f557a7                tre         2    1.482   \n",
       "008fed36-70b2-4e73-9cf1-cc875092750d           limp biz         1    0.000   \n",
       "02f1dc00-90df-45b7-b6cb-b8e15531919d            powers          2    1.519   \n",
       "03179219-c7a5-4cbe-9a64-ff3e5e07c355  quiet storm radio         5   49.413   \n",
       "03331c06-c612-471e-aa91-7dcd8185b7ae          black tux         5    7.912   \n",
       "...                                                 ...       ...      ...   \n",
       "fdb7d639-9af4-409e-beca-94910f2b1597           only for         2    2.750   \n",
       "fe76177e-9c5d-4e14-baed-ce7f1922c901                nri         9   16.243   \n",
       "ff2ca07b-b23d-406c-b5cf-b687f992a5ac            Tory La         6    7.258   \n",
       "ff3c75db-f17f-44f9-909d-d2b40b128ca1                 2p         1    0.000   \n",
       "ffd931ae-fba5-464f-a1c4-44c83bc3bc17           chlidish         3    3.993   \n",
       "\n",
       "                                                             dt user_id  \n",
       "                                                max         max    mode  \n",
       "searchUuid                                                               \n",
       "005dcb9d-c116-4186-89dc-d2b7e5f557a7  1602639819343  2020-10-14     351  \n",
       "008fed36-70b2-4e73-9cf1-cc875092750d  1602637241764  2020-10-14     147  \n",
       "02f1dc00-90df-45b7-b6cb-b8e15531919d  1602637666230  2020-10-14     258  \n",
       "03179219-c7a5-4cbe-9a64-ff3e5e07c355  1602640234563  2020-10-14      64  \n",
       "03331c06-c612-471e-aa91-7dcd8185b7ae  1602640478910  2020-10-14      45  \n",
       "...                                             ...         ...     ...  \n",
       "fdb7d639-9af4-409e-beca-94910f2b1597  1602638546295  2020-10-14     125  \n",
       "fe76177e-9c5d-4e14-baed-ce7f1922c901  1602639631257  2020-10-14      32  \n",
       "ff2ca07b-b23d-406c-b5cf-b687f992a5ac  1602639518979  2020-10-14     138  \n",
       "ff3c75db-f17f-44f9-909d-d2b40b128ca1  1602640984130  2020-10-14     326  \n",
       "ffd931ae-fba5-464f-a1c4-44c83bc3bc17  1601647959253  2020-10-14       7  \n",
       "\n",
       "[351 rows x 10 columns]"
      ]
     },
     "execution_count": 69,
     "metadata": {},
     "output_type": "execute_result"
    }
   ],
   "source": [
    "agg = pd.merge(left=cs_agg, right=sr_agg, how='inner', on='searchUuid')\n",
    "agg"
   ]
  },
  {
   "cell_type": "markdown",
   "metadata": {},
   "source": [
    "Things to investigate further could be the content type most selected within clicks on top results, which could combine the results here with the `Clicks on top results` section."
   ]
  },
  {
   "cell_type": "markdown",
   "metadata": {},
   "source": [
    "## Zero search results"
   ]
  },
  {
   "cell_type": "code",
   "execution_count": 70,
   "metadata": {},
   "outputs": [
    {
     "data": {
      "text/html": [
       "<div>\n",
       "<style scoped>\n",
       "    .dataframe tbody tr th:only-of-type {\n",
       "        vertical-align: middle;\n",
       "    }\n",
       "\n",
       "    .dataframe tbody tr th {\n",
       "        vertical-align: top;\n",
       "    }\n",
       "\n",
       "    .dataframe thead th {\n",
       "        text-align: right;\n",
       "    }\n",
       "</style>\n",
       "<table border=\"1\" class=\"dataframe\">\n",
       "  <thead>\n",
       "    <tr style=\"text-align: right;\">\n",
       "      <th></th>\n",
       "      <th>event_name</th>\n",
       "      <th>query</th>\n",
       "      <th>queryId</th>\n",
       "      <th>topresults</th>\n",
       "      <th>trackresults</th>\n",
       "      <th>artistresults</th>\n",
       "      <th>albumresults</th>\n",
       "      <th>videoresults</th>\n",
       "      <th>playlistresults</th>\n",
       "      <th>responseTime</th>\n",
       "      <th>dt</th>\n",
       "      <th>user_id</th>\n",
       "      <th>idtopresults</th>\n",
       "    </tr>\n",
       "  </thead>\n",
       "  <tbody>\n",
       "    <tr>\n",
       "      <th>0</th>\n",
       "      <td>search_query</td>\n",
       "      <td>art of story telling pt</td>\n",
       "      <td>00db2706-a334-41f1-aeb5-bac027618ff3</td>\n",
       "      <td>[]</td>\n",
       "      <td>[]</td>\n",
       "      <td>[]</td>\n",
       "      <td>[]</td>\n",
       "      <td>[]</td>\n",
       "      <td>[]</td>\n",
       "      <td>{track=19, video=7, artist=17, album=19, playl...</td>\n",
       "      <td>2020-10-14</td>\n",
       "      <td>258</td>\n",
       "      <td>[]</td>\n",
       "    </tr>\n",
       "    <tr>\n",
       "      <th>7</th>\n",
       "      <td>search_query</td>\n",
       "      <td>get out and get something cylo green</td>\n",
       "      <td>2a3ef482-d117-4a8e-9e94-88e575af932b</td>\n",
       "      <td>[]</td>\n",
       "      <td>[]</td>\n",
       "      <td>[]</td>\n",
       "      <td>[]</td>\n",
       "      <td>[]</td>\n",
       "      <td>[]</td>\n",
       "      <td>{track=20, video=6, artist=15, album=18, playl...</td>\n",
       "      <td>2020-10-14</td>\n",
       "      <td>187</td>\n",
       "      <td>[]</td>\n",
       "    </tr>\n",
       "    <tr>\n",
       "      <th>72</th>\n",
       "      <td>search_query</td>\n",
       "      <td>Newline cinema</td>\n",
       "      <td>6f144bf3-676a-42ef-b70b-34332e001e23</td>\n",
       "      <td>[]</td>\n",
       "      <td>[]</td>\n",
       "      <td>[]</td>\n",
       "      <td>[]</td>\n",
       "      <td>[]</td>\n",
       "      <td>[]</td>\n",
       "      <td>{track=7, video=3, artist=9, album=5, playlist...</td>\n",
       "      <td>2020-10-14</td>\n",
       "      <td>351</td>\n",
       "      <td>[]</td>\n",
       "    </tr>\n",
       "    <tr>\n",
       "      <th>282</th>\n",
       "      <td>search_query</td>\n",
       "      <td>jay wsyee</td>\n",
       "      <td>7cc719ea-3750-4420-9421-c234b180d280</td>\n",
       "      <td>[]</td>\n",
       "      <td>[]</td>\n",
       "      <td>[]</td>\n",
       "      <td>[]</td>\n",
       "      <td>[]</td>\n",
       "      <td>[]</td>\n",
       "      <td>{track=7, video=4, artist=8, album=7, playlist...</td>\n",
       "      <td>2020-10-14</td>\n",
       "      <td>55</td>\n",
       "      <td>[]</td>\n",
       "    </tr>\n",
       "    <tr>\n",
       "      <th>285</th>\n",
       "      <td>search_query</td>\n",
       "      <td>tp 100 2020</td>\n",
       "      <td>8a685fb3-d3a6-40ae-8760-90157d19b526</td>\n",
       "      <td>[]</td>\n",
       "      <td>[]</td>\n",
       "      <td>[]</td>\n",
       "      <td>[]</td>\n",
       "      <td>[]</td>\n",
       "      <td>[]</td>\n",
       "      <td>{track=34, video=3, artist=32, album=32, playl...</td>\n",
       "      <td>2020-10-14</td>\n",
       "      <td>277</td>\n",
       "      <td>[]</td>\n",
       "    </tr>\n",
       "    <tr>\n",
       "      <th>294</th>\n",
       "      <td>search_query</td>\n",
       "      <td>Neline cinema</td>\n",
       "      <td>461f0391-eb37-4f31-afa7-415e868b60b6</td>\n",
       "      <td>[]</td>\n",
       "      <td>[]</td>\n",
       "      <td>[]</td>\n",
       "      <td>[]</td>\n",
       "      <td>[]</td>\n",
       "      <td>[]</td>\n",
       "      <td>{track=42, video=5, artist=10, album=7, playli...</td>\n",
       "      <td>2020-10-14</td>\n",
       "      <td>351</td>\n",
       "      <td>[]</td>\n",
       "    </tr>\n",
       "    <tr>\n",
       "      <th>295</th>\n",
       "      <td>search_query</td>\n",
       "      <td>so how's your gir</td>\n",
       "      <td>c2eb84bd-a7df-4494-aaa5-553d1976b4fc</td>\n",
       "      <td>[]</td>\n",
       "      <td>[]</td>\n",
       "      <td>[]</td>\n",
       "      <td>[]</td>\n",
       "      <td>[]</td>\n",
       "      <td>[]</td>\n",
       "      <td>{track=43, video=6, artist=15, album=12, playl...</td>\n",
       "      <td>2020-10-14</td>\n",
       "      <td>28</td>\n",
       "      <td>[]</td>\n",
       "    </tr>\n",
       "    <tr>\n",
       "      <th>342</th>\n",
       "      <td>search_query</td>\n",
       "      <td>get out and get something cylo</td>\n",
       "      <td>dbdcd722-c4f3-457e-aff9-3ab1cfd2b885</td>\n",
       "      <td>[]</td>\n",
       "      <td>[]</td>\n",
       "      <td>[]</td>\n",
       "      <td>[]</td>\n",
       "      <td>[]</td>\n",
       "      <td>[]</td>\n",
       "      <td>{track=18, video=5, artist=16, album=15, playl...</td>\n",
       "      <td>2020-10-14</td>\n",
       "      <td>187</td>\n",
       "      <td>[]</td>\n",
       "    </tr>\n",
       "    <tr>\n",
       "      <th>365</th>\n",
       "      <td>search_query</td>\n",
       "      <td>get out and get something cylo gree</td>\n",
       "      <td>ebfeb23d-0f2d-48ba-a808-ebbf6a4d8322</td>\n",
       "      <td>[]</td>\n",
       "      <td>[]</td>\n",
       "      <td>[]</td>\n",
       "      <td>[]</td>\n",
       "      <td>[]</td>\n",
       "      <td>[]</td>\n",
       "      <td>{track=39, video=7, artist=29, album=42, playl...</td>\n",
       "      <td>2020-10-14</td>\n",
       "      <td>187</td>\n",
       "      <td>[]</td>\n",
       "    </tr>\n",
       "    <tr>\n",
       "      <th>425</th>\n",
       "      <td>search_query</td>\n",
       "      <td>get out and get something goodie mo</td>\n",
       "      <td>897e4c55-4089-40cb-a23b-157809c7e892</td>\n",
       "      <td>[]</td>\n",
       "      <td>[]</td>\n",
       "      <td>[]</td>\n",
       "      <td>[]</td>\n",
       "      <td>[]</td>\n",
       "      <td>[]</td>\n",
       "      <td>{track=48, video=21, artist=18, album=32, play...</td>\n",
       "      <td>2020-10-14</td>\n",
       "      <td>187</td>\n",
       "      <td>[]</td>\n",
       "    </tr>\n",
       "    <tr>\n",
       "      <th>450</th>\n",
       "      <td>search_query</td>\n",
       "      <td>lick me dr7</td>\n",
       "      <td>6ee70e65-1f7c-4c95-a55d-47293a9c80a9</td>\n",
       "      <td>[]</td>\n",
       "      <td>[]</td>\n",
       "      <td>[]</td>\n",
       "      <td>[]</td>\n",
       "      <td>[]</td>\n",
       "      <td>[]</td>\n",
       "      <td>{track=8, video=4, artist=12, album=7, playlis...</td>\n",
       "      <td>2020-10-14</td>\n",
       "      <td>260</td>\n",
       "      <td>[]</td>\n",
       "    </tr>\n",
       "    <tr>\n",
       "      <th>464</th>\n",
       "      <td>search_query</td>\n",
       "      <td>JIA the offee</td>\n",
       "      <td>ef7e7d27-e655-4e0d-b329-a5f8ae4bc282</td>\n",
       "      <td>[]</td>\n",
       "      <td>[]</td>\n",
       "      <td>[]</td>\n",
       "      <td>[]</td>\n",
       "      <td>[]</td>\n",
       "      <td>[]</td>\n",
       "      <td>{track=12, video=8, artist=11, album=8, playli...</td>\n",
       "      <td>2020-10-14</td>\n",
       "      <td>21</td>\n",
       "      <td>[]</td>\n",
       "    </tr>\n",
       "    <tr>\n",
       "      <th>555</th>\n",
       "      <td>search_query</td>\n",
       "      <td>liz lov</td>\n",
       "      <td>bc722112-93fc-403b-8645-8d25cf2419f0</td>\n",
       "      <td>[]</td>\n",
       "      <td>[]</td>\n",
       "      <td>[]</td>\n",
       "      <td>[]</td>\n",
       "      <td>[]</td>\n",
       "      <td>[]</td>\n",
       "      <td>{track=0, video=6, artist=0, album=0, playlist...</td>\n",
       "      <td>2020-10-14</td>\n",
       "      <td>137</td>\n",
       "      <td>[]</td>\n",
       "    </tr>\n",
       "    <tr>\n",
       "      <th>589</th>\n",
       "      <td>search_query</td>\n",
       "      <td>tip 100 2020</td>\n",
       "      <td>5fd48457-a35f-454b-be01-582e518d2945</td>\n",
       "      <td>[]</td>\n",
       "      <td>[]</td>\n",
       "      <td>[]</td>\n",
       "      <td>[]</td>\n",
       "      <td>[]</td>\n",
       "      <td>[]</td>\n",
       "      <td>{track=44, video=23, artist=18, album=21, play...</td>\n",
       "      <td>2020-10-14</td>\n",
       "      <td>277</td>\n",
       "      <td>[]</td>\n",
       "    </tr>\n",
       "    <tr>\n",
       "      <th>612</th>\n",
       "      <td>search_query</td>\n",
       "      <td>get out and get something cylo gre</td>\n",
       "      <td>785e0e5a-4bcc-4094-a8f1-9b21a5da56f3</td>\n",
       "      <td>[]</td>\n",
       "      <td>[]</td>\n",
       "      <td>[]</td>\n",
       "      <td>[]</td>\n",
       "      <td>[]</td>\n",
       "      <td>[]</td>\n",
       "      <td>{track=26, video=5, artist=24, album=19, playl...</td>\n",
       "      <td>2020-10-14</td>\n",
       "      <td>187</td>\n",
       "      <td>[]</td>\n",
       "    </tr>\n",
       "    <tr>\n",
       "      <th>753</th>\n",
       "      <td>search_query</td>\n",
       "      <td>how was your fay</td>\n",
       "      <td>65f54b71-c53c-475a-a472-c83ca61b0fd0</td>\n",
       "      <td>[]</td>\n",
       "      <td>[]</td>\n",
       "      <td>[]</td>\n",
       "      <td>[]</td>\n",
       "      <td>[]</td>\n",
       "      <td>[]</td>\n",
       "      <td>{track=51, video=9, artist=13, album=15, playl...</td>\n",
       "      <td>2020-10-14</td>\n",
       "      <td>96</td>\n",
       "      <td>[]</td>\n",
       "    </tr>\n",
       "    <tr>\n",
       "      <th>812</th>\n",
       "      <td>search_query</td>\n",
       "      <td>ziploc tyler</td>\n",
       "      <td>311c7a7c-4b5d-4f5f-b0e6-5e1f1e1dbcdc</td>\n",
       "      <td>[]</td>\n",
       "      <td>[]</td>\n",
       "      <td>[]</td>\n",
       "      <td>[]</td>\n",
       "      <td>[]</td>\n",
       "      <td>[]</td>\n",
       "      <td>{track=10, video=3, artist=9, album=7, playlis...</td>\n",
       "      <td>2020-10-14</td>\n",
       "      <td>15</td>\n",
       "      <td>[]</td>\n",
       "    </tr>\n",
       "    <tr>\n",
       "      <th>888</th>\n",
       "      <td>search_query</td>\n",
       "      <td>get out and get something cy</td>\n",
       "      <td>775b2c7e-a398-4de4-9ab4-00fd798a1a5c</td>\n",
       "      <td>[]</td>\n",
       "      <td>[]</td>\n",
       "      <td>[]</td>\n",
       "      <td>[]</td>\n",
       "      <td>[]</td>\n",
       "      <td>[]</td>\n",
       "      <td>{track=50, video=10, artist=33, album=45, play...</td>\n",
       "      <td>2020-10-14</td>\n",
       "      <td>187</td>\n",
       "      <td>[]</td>\n",
       "    </tr>\n",
       "    <tr>\n",
       "      <th>919</th>\n",
       "      <td>search_query</td>\n",
       "      <td>Nline cinema</td>\n",
       "      <td>5bc11ba3-1f72-4c08-b10d-b05387a777f9</td>\n",
       "      <td>[]</td>\n",
       "      <td>[]</td>\n",
       "      <td>[]</td>\n",
       "      <td>[]</td>\n",
       "      <td>[]</td>\n",
       "      <td>[]</td>\n",
       "      <td>{track=8, video=3, artist=7, album=7, playlist...</td>\n",
       "      <td>2020-10-14</td>\n",
       "      <td>351</td>\n",
       "      <td>[]</td>\n",
       "    </tr>\n",
       "    <tr>\n",
       "      <th>925</th>\n",
       "      <td>search_query</td>\n",
       "      <td>summerslam 88</td>\n",
       "      <td>94e37da3-6328-4376-8d13-ebeaaca7bae6</td>\n",
       "      <td>[]</td>\n",
       "      <td>[]</td>\n",
       "      <td>[]</td>\n",
       "      <td>[]</td>\n",
       "      <td>[]</td>\n",
       "      <td>[]</td>\n",
       "      <td>{track=17, video=4, artist=8, album=13, playli...</td>\n",
       "      <td>2020-10-14</td>\n",
       "      <td>137</td>\n",
       "      <td>[]</td>\n",
       "    </tr>\n",
       "    <tr>\n",
       "      <th>1015</th>\n",
       "      <td>search_query</td>\n",
       "      <td>foster the people wpr</td>\n",
       "      <td>58c23d78-cc5f-451a-ae82-2881f5e22956</td>\n",
       "      <td>[]</td>\n",
       "      <td>[]</td>\n",
       "      <td>[]</td>\n",
       "      <td>[]</td>\n",
       "      <td>[]</td>\n",
       "      <td>[]</td>\n",
       "      <td>{track=22, video=11, artist=12, album=13, play...</td>\n",
       "      <td>2020-10-14</td>\n",
       "      <td>152</td>\n",
       "      <td>[]</td>\n",
       "    </tr>\n",
       "    <tr>\n",
       "      <th>1020</th>\n",
       "      <td>search_query</td>\n",
       "      <td>get out and get something cylo</td>\n",
       "      <td>8cb8973d-c1dd-4904-b37e-8ab4b8c91703</td>\n",
       "      <td>[]</td>\n",
       "      <td>[]</td>\n",
       "      <td>[]</td>\n",
       "      <td>[]</td>\n",
       "      <td>[]</td>\n",
       "      <td>[]</td>\n",
       "      <td>{track=20, video=6, artist=15, album=20, playl...</td>\n",
       "      <td>2020-10-14</td>\n",
       "      <td>187</td>\n",
       "      <td>[]</td>\n",
       "    </tr>\n",
       "  </tbody>\n",
       "</table>\n",
       "</div>"
      ],
      "text/plain": [
       "        event_name                                 query  \\\n",
       "0     search_query               art of story telling pt   \n",
       "7     search_query  get out and get something cylo green   \n",
       "72    search_query                        Newline cinema   \n",
       "282   search_query                             jay wsyee   \n",
       "285   search_query                           tp 100 2020   \n",
       "294   search_query                         Neline cinema   \n",
       "295   search_query                     so how's your gir   \n",
       "342   search_query        get out and get something cylo   \n",
       "365   search_query   get out and get something cylo gree   \n",
       "425   search_query   get out and get something goodie mo   \n",
       "450   search_query                           lick me dr7   \n",
       "464   search_query                         JIA the offee   \n",
       "555   search_query                               liz lov   \n",
       "589   search_query                          tip 100 2020   \n",
       "612   search_query    get out and get something cylo gre   \n",
       "753   search_query                      how was your fay   \n",
       "812   search_query                         ziploc tyler    \n",
       "888   search_query          get out and get something cy   \n",
       "919   search_query                          Nline cinema   \n",
       "925   search_query                         summerslam 88   \n",
       "1015  search_query                 foster the people wpr   \n",
       "1020  search_query       get out and get something cylo    \n",
       "\n",
       "                                   queryId topresults trackresults  \\\n",
       "0     00db2706-a334-41f1-aeb5-bac027618ff3         []           []   \n",
       "7     2a3ef482-d117-4a8e-9e94-88e575af932b         []           []   \n",
       "72    6f144bf3-676a-42ef-b70b-34332e001e23         []           []   \n",
       "282   7cc719ea-3750-4420-9421-c234b180d280         []           []   \n",
       "285   8a685fb3-d3a6-40ae-8760-90157d19b526         []           []   \n",
       "294   461f0391-eb37-4f31-afa7-415e868b60b6         []           []   \n",
       "295   c2eb84bd-a7df-4494-aaa5-553d1976b4fc         []           []   \n",
       "342   dbdcd722-c4f3-457e-aff9-3ab1cfd2b885         []           []   \n",
       "365   ebfeb23d-0f2d-48ba-a808-ebbf6a4d8322         []           []   \n",
       "425   897e4c55-4089-40cb-a23b-157809c7e892         []           []   \n",
       "450   6ee70e65-1f7c-4c95-a55d-47293a9c80a9         []           []   \n",
       "464   ef7e7d27-e655-4e0d-b329-a5f8ae4bc282         []           []   \n",
       "555   bc722112-93fc-403b-8645-8d25cf2419f0         []           []   \n",
       "589   5fd48457-a35f-454b-be01-582e518d2945         []           []   \n",
       "612   785e0e5a-4bcc-4094-a8f1-9b21a5da56f3         []           []   \n",
       "753   65f54b71-c53c-475a-a472-c83ca61b0fd0         []           []   \n",
       "812   311c7a7c-4b5d-4f5f-b0e6-5e1f1e1dbcdc         []           []   \n",
       "888   775b2c7e-a398-4de4-9ab4-00fd798a1a5c         []           []   \n",
       "919   5bc11ba3-1f72-4c08-b10d-b05387a777f9         []           []   \n",
       "925   94e37da3-6328-4376-8d13-ebeaaca7bae6         []           []   \n",
       "1015  58c23d78-cc5f-451a-ae82-2881f5e22956         []           []   \n",
       "1020  8cb8973d-c1dd-4904-b37e-8ab4b8c91703         []           []   \n",
       "\n",
       "     artistresults albumresults videoresults playlistresults  \\\n",
       "0               []           []           []              []   \n",
       "7               []           []           []              []   \n",
       "72              []           []           []              []   \n",
       "282             []           []           []              []   \n",
       "285             []           []           []              []   \n",
       "294             []           []           []              []   \n",
       "295             []           []           []              []   \n",
       "342             []           []           []              []   \n",
       "365             []           []           []              []   \n",
       "425             []           []           []              []   \n",
       "450             []           []           []              []   \n",
       "464             []           []           []              []   \n",
       "555             []           []           []              []   \n",
       "589             []           []           []              []   \n",
       "612             []           []           []              []   \n",
       "753             []           []           []              []   \n",
       "812             []           []           []              []   \n",
       "888             []           []           []              []   \n",
       "919             []           []           []              []   \n",
       "925             []           []           []              []   \n",
       "1015            []           []           []              []   \n",
       "1020            []           []           []              []   \n",
       "\n",
       "                                           responseTime          dt  user_id  \\\n",
       "0     {track=19, video=7, artist=17, album=19, playl...  2020-10-14      258   \n",
       "7     {track=20, video=6, artist=15, album=18, playl...  2020-10-14      187   \n",
       "72    {track=7, video=3, artist=9, album=5, playlist...  2020-10-14      351   \n",
       "282   {track=7, video=4, artist=8, album=7, playlist...  2020-10-14       55   \n",
       "285   {track=34, video=3, artist=32, album=32, playl...  2020-10-14      277   \n",
       "294   {track=42, video=5, artist=10, album=7, playli...  2020-10-14      351   \n",
       "295   {track=43, video=6, artist=15, album=12, playl...  2020-10-14       28   \n",
       "342   {track=18, video=5, artist=16, album=15, playl...  2020-10-14      187   \n",
       "365   {track=39, video=7, artist=29, album=42, playl...  2020-10-14      187   \n",
       "425   {track=48, video=21, artist=18, album=32, play...  2020-10-14      187   \n",
       "450   {track=8, video=4, artist=12, album=7, playlis...  2020-10-14      260   \n",
       "464   {track=12, video=8, artist=11, album=8, playli...  2020-10-14       21   \n",
       "555   {track=0, video=6, artist=0, album=0, playlist...  2020-10-14      137   \n",
       "589   {track=44, video=23, artist=18, album=21, play...  2020-10-14      277   \n",
       "612   {track=26, video=5, artist=24, album=19, playl...  2020-10-14      187   \n",
       "753   {track=51, video=9, artist=13, album=15, playl...  2020-10-14       96   \n",
       "812   {track=10, video=3, artist=9, album=7, playlis...  2020-10-14       15   \n",
       "888   {track=50, video=10, artist=33, album=45, play...  2020-10-14      187   \n",
       "919   {track=8, video=3, artist=7, album=7, playlist...  2020-10-14      351   \n",
       "925   {track=17, video=4, artist=8, album=13, playli...  2020-10-14      137   \n",
       "1015  {track=22, video=11, artist=12, album=13, play...  2020-10-14      152   \n",
       "1020  {track=20, video=6, artist=15, album=20, playl...  2020-10-14      187   \n",
       "\n",
       "     idtopresults  \n",
       "0              []  \n",
       "7              []  \n",
       "72             []  \n",
       "282            []  \n",
       "285            []  \n",
       "294            []  \n",
       "295            []  \n",
       "342            []  \n",
       "365            []  \n",
       "425            []  \n",
       "450            []  \n",
       "464            []  \n",
       "555            []  \n",
       "589            []  \n",
       "612            []  \n",
       "753            []  \n",
       "812            []  \n",
       "888            []  \n",
       "919            []  \n",
       "925            []  \n",
       "1015           []  \n",
       "1020           []  "
      ]
     },
     "execution_count": 70,
     "metadata": {},
     "output_type": "execute_result"
    }
   ],
   "source": [
    "no_results = search_query[(search_query['topresults']=='[]') & (search_query['trackresults']=='[]')]\n",
    "no_results"
   ]
  },
  {
   "cell_type": "markdown",
   "metadata": {},
   "source": [
    "We find that it is enough for this one hour chunk of data to require top results and track results to be empty in order to cover all cases with empty search results. We will probably need to add extra conditions on artist, album, etc. when we move to a larger dataset."
   ]
  },
  {
   "cell_type": "code",
   "execution_count": 71,
   "metadata": {},
   "outputs": [
    {
     "data": {
      "text/plain": [
       "0       00db2706-a334-41f1-aeb5-bac027618ff3\n",
       "7       2a3ef482-d117-4a8e-9e94-88e575af932b\n",
       "72      6f144bf3-676a-42ef-b70b-34332e001e23\n",
       "282     7cc719ea-3750-4420-9421-c234b180d280\n",
       "285     8a685fb3-d3a6-40ae-8760-90157d19b526\n",
       "294     461f0391-eb37-4f31-afa7-415e868b60b6\n",
       "295     c2eb84bd-a7df-4494-aaa5-553d1976b4fc\n",
       "342     dbdcd722-c4f3-457e-aff9-3ab1cfd2b885\n",
       "365     ebfeb23d-0f2d-48ba-a808-ebbf6a4d8322\n",
       "425     897e4c55-4089-40cb-a23b-157809c7e892\n",
       "450     6ee70e65-1f7c-4c95-a55d-47293a9c80a9\n",
       "464     ef7e7d27-e655-4e0d-b329-a5f8ae4bc282\n",
       "555     bc722112-93fc-403b-8645-8d25cf2419f0\n",
       "589     5fd48457-a35f-454b-be01-582e518d2945\n",
       "612     785e0e5a-4bcc-4094-a8f1-9b21a5da56f3\n",
       "753     65f54b71-c53c-475a-a472-c83ca61b0fd0\n",
       "812     311c7a7c-4b5d-4f5f-b0e6-5e1f1e1dbcdc\n",
       "888     775b2c7e-a398-4de4-9ab4-00fd798a1a5c\n",
       "919     5bc11ba3-1f72-4c08-b10d-b05387a777f9\n",
       "925     94e37da3-6328-4376-8d13-ebeaaca7bae6\n",
       "1015    58c23d78-cc5f-451a-ae82-2881f5e22956\n",
       "1020    8cb8973d-c1dd-4904-b37e-8ab4b8c91703\n",
       "Name: queryId, dtype: object"
      ]
     },
     "execution_count": 71,
     "metadata": {},
     "output_type": "execute_result"
    }
   ],
   "source": [
    "no_results['queryId']"
   ]
  },
  {
   "cell_type": "code",
   "execution_count": 72,
   "metadata": {},
   "outputs": [
    {
     "data": {
      "text/plain": [
       "22"
      ]
     },
     "execution_count": 72,
     "metadata": {},
     "output_type": "execute_result"
    }
   ],
   "source": [
    "len(no_results)"
   ]
  },
  {
   "cell_type": "code",
   "execution_count": 73,
   "metadata": {},
   "outputs": [
    {
     "data": {
      "text/plain": [
       "1065"
      ]
     },
     "execution_count": 73,
     "metadata": {},
     "output_type": "execute_result"
    }
   ],
   "source": [
    "search_query['queryId'].unique().size"
   ]
  },
  {
   "cell_type": "code",
   "execution_count": 74,
   "metadata": {},
   "outputs": [
    {
     "data": {
      "text/plain": [
       "0.020657276995305163"
      ]
     },
     "execution_count": 74,
     "metadata": {},
     "output_type": "execute_result"
    }
   ],
   "source": [
    "no_results_frac = len(no_results) / len(search_query)\n",
    "no_results_frac"
   ]
  },
  {
   "cell_type": "markdown",
   "metadata": {},
   "source": [
    "22 of 1065, or 2.07% of queries, have no results. \n",
    "\n",
    "We now want to count the search sessions with queries that had no results."
   ]
  },
  {
   "cell_type": "code",
   "execution_count": 75,
   "metadata": {},
   "outputs": [
    {
     "data": {
      "text/html": [
       "<div>\n",
       "<style scoped>\n",
       "    .dataframe tbody tr th:only-of-type {\n",
       "        vertical-align: middle;\n",
       "    }\n",
       "\n",
       "    .dataframe tbody tr th {\n",
       "        vertical-align: top;\n",
       "    }\n",
       "\n",
       "    .dataframe thead th {\n",
       "        text-align: right;\n",
       "    }\n",
       "</style>\n",
       "<table border=\"1\" class=\"dataframe\">\n",
       "  <thead>\n",
       "    <tr style=\"text-align: right;\">\n",
       "      <th></th>\n",
       "      <th>event_name_x</th>\n",
       "      <th>query_x</th>\n",
       "      <th>queryId</th>\n",
       "      <th>topresults</th>\n",
       "      <th>trackresults</th>\n",
       "      <th>artistresults</th>\n",
       "      <th>albumresults</th>\n",
       "      <th>videoresults</th>\n",
       "      <th>playlistresults</th>\n",
       "      <th>responseTime</th>\n",
       "      <th>dt_x</th>\n",
       "      <th>user_id_x</th>\n",
       "      <th>idtopresults</th>\n",
       "      <th>event_name_y</th>\n",
       "      <th>query_y</th>\n",
       "      <th>searchUuid</th>\n",
       "      <th>queryUuid</th>\n",
       "      <th>event_ts</th>\n",
       "      <th>dt_y</th>\n",
       "      <th>user_id_y</th>\n",
       "    </tr>\n",
       "  </thead>\n",
       "  <tbody>\n",
       "    <tr>\n",
       "      <th>0</th>\n",
       "      <td>search_query</td>\n",
       "      <td>art of story telling pt</td>\n",
       "      <td>00db2706-a334-41f1-aeb5-bac027618ff3</td>\n",
       "      <td>[]</td>\n",
       "      <td>[]</td>\n",
       "      <td>[]</td>\n",
       "      <td>[]</td>\n",
       "      <td>[]</td>\n",
       "      <td>[]</td>\n",
       "      <td>{track=19, video=7, artist=17, album=19, playl...</td>\n",
       "      <td>2020-10-14</td>\n",
       "      <td>258</td>\n",
       "      <td>[]</td>\n",
       "      <td>search_result</td>\n",
       "      <td>art of story telling pt</td>\n",
       "      <td>d64e4ca9-6bac-4737-b399-469688775f49</td>\n",
       "      <td>00db2706-a334-41f1-aeb5-bac027618ff3</td>\n",
       "      <td>1.602639e+12</td>\n",
       "      <td>2020-10-14</td>\n",
       "      <td>258.0</td>\n",
       "    </tr>\n",
       "    <tr>\n",
       "      <th>1</th>\n",
       "      <td>search_query</td>\n",
       "      <td>get out and get something cylo green</td>\n",
       "      <td>2a3ef482-d117-4a8e-9e94-88e575af932b</td>\n",
       "      <td>[]</td>\n",
       "      <td>[]</td>\n",
       "      <td>[]</td>\n",
       "      <td>[]</td>\n",
       "      <td>[]</td>\n",
       "      <td>[]</td>\n",
       "      <td>{track=20, video=6, artist=15, album=18, playl...</td>\n",
       "      <td>2020-10-14</td>\n",
       "      <td>187</td>\n",
       "      <td>[]</td>\n",
       "      <td>search_result</td>\n",
       "      <td>get out and get something cylo green</td>\n",
       "      <td>d728a42f-4b72-462f-a3a1-c4a190438237</td>\n",
       "      <td>2a3ef482-d117-4a8e-9e94-88e575af932b</td>\n",
       "      <td>1.602641e+12</td>\n",
       "      <td>2020-10-14</td>\n",
       "      <td>187.0</td>\n",
       "    </tr>\n",
       "    <tr>\n",
       "      <th>2</th>\n",
       "      <td>search_query</td>\n",
       "      <td>Newline cinema</td>\n",
       "      <td>6f144bf3-676a-42ef-b70b-34332e001e23</td>\n",
       "      <td>[]</td>\n",
       "      <td>[]</td>\n",
       "      <td>[]</td>\n",
       "      <td>[]</td>\n",
       "      <td>[]</td>\n",
       "      <td>[]</td>\n",
       "      <td>{track=7, video=3, artist=9, album=5, playlist...</td>\n",
       "      <td>2020-10-14</td>\n",
       "      <td>351</td>\n",
       "      <td>[]</td>\n",
       "      <td>NaN</td>\n",
       "      <td>NaN</td>\n",
       "      <td>NaN</td>\n",
       "      <td>NaN</td>\n",
       "      <td>NaN</td>\n",
       "      <td>NaN</td>\n",
       "      <td>NaN</td>\n",
       "    </tr>\n",
       "    <tr>\n",
       "      <th>3</th>\n",
       "      <td>search_query</td>\n",
       "      <td>jay wsyee</td>\n",
       "      <td>7cc719ea-3750-4420-9421-c234b180d280</td>\n",
       "      <td>[]</td>\n",
       "      <td>[]</td>\n",
       "      <td>[]</td>\n",
       "      <td>[]</td>\n",
       "      <td>[]</td>\n",
       "      <td>[]</td>\n",
       "      <td>{track=7, video=4, artist=8, album=7, playlist...</td>\n",
       "      <td>2020-10-14</td>\n",
       "      <td>55</td>\n",
       "      <td>[]</td>\n",
       "      <td>search_result</td>\n",
       "      <td>jay wsyee</td>\n",
       "      <td>a7d55194-11c3-4df5-a2f0-11542e81a0f6</td>\n",
       "      <td>7cc719ea-3750-4420-9421-c234b180d280</td>\n",
       "      <td>1.602639e+12</td>\n",
       "      <td>2020-10-14</td>\n",
       "      <td>55.0</td>\n",
       "    </tr>\n",
       "    <tr>\n",
       "      <th>4</th>\n",
       "      <td>search_query</td>\n",
       "      <td>tp 100 2020</td>\n",
       "      <td>8a685fb3-d3a6-40ae-8760-90157d19b526</td>\n",
       "      <td>[]</td>\n",
       "      <td>[]</td>\n",
       "      <td>[]</td>\n",
       "      <td>[]</td>\n",
       "      <td>[]</td>\n",
       "      <td>[]</td>\n",
       "      <td>{track=34, video=3, artist=32, album=32, playl...</td>\n",
       "      <td>2020-10-14</td>\n",
       "      <td>277</td>\n",
       "      <td>[]</td>\n",
       "      <td>search_result</td>\n",
       "      <td>tp 100 2020</td>\n",
       "      <td>d18a8d2e-58d5-4384-a1b8-2dc8945d03af</td>\n",
       "      <td>8a685fb3-d3a6-40ae-8760-90157d19b526</td>\n",
       "      <td>1.602639e+12</td>\n",
       "      <td>2020-10-14</td>\n",
       "      <td>277.0</td>\n",
       "    </tr>\n",
       "    <tr>\n",
       "      <th>5</th>\n",
       "      <td>search_query</td>\n",
       "      <td>Neline cinema</td>\n",
       "      <td>461f0391-eb37-4f31-afa7-415e868b60b6</td>\n",
       "      <td>[]</td>\n",
       "      <td>[]</td>\n",
       "      <td>[]</td>\n",
       "      <td>[]</td>\n",
       "      <td>[]</td>\n",
       "      <td>[]</td>\n",
       "      <td>{track=42, video=5, artist=10, album=7, playli...</td>\n",
       "      <td>2020-10-14</td>\n",
       "      <td>351</td>\n",
       "      <td>[]</td>\n",
       "      <td>NaN</td>\n",
       "      <td>NaN</td>\n",
       "      <td>NaN</td>\n",
       "      <td>NaN</td>\n",
       "      <td>NaN</td>\n",
       "      <td>NaN</td>\n",
       "      <td>NaN</td>\n",
       "    </tr>\n",
       "    <tr>\n",
       "      <th>6</th>\n",
       "      <td>search_query</td>\n",
       "      <td>so how's your gir</td>\n",
       "      <td>c2eb84bd-a7df-4494-aaa5-553d1976b4fc</td>\n",
       "      <td>[]</td>\n",
       "      <td>[]</td>\n",
       "      <td>[]</td>\n",
       "      <td>[]</td>\n",
       "      <td>[]</td>\n",
       "      <td>[]</td>\n",
       "      <td>{track=43, video=6, artist=15, album=12, playl...</td>\n",
       "      <td>2020-10-14</td>\n",
       "      <td>28</td>\n",
       "      <td>[]</td>\n",
       "      <td>search_result</td>\n",
       "      <td>so how's your gir</td>\n",
       "      <td>38b41f4d-f0d3-4b79-ba3b-73f358a7738e</td>\n",
       "      <td>c2eb84bd-a7df-4494-aaa5-553d1976b4fc</td>\n",
       "      <td>1.602639e+12</td>\n",
       "      <td>2020-10-14</td>\n",
       "      <td>28.0</td>\n",
       "    </tr>\n",
       "    <tr>\n",
       "      <th>7</th>\n",
       "      <td>search_query</td>\n",
       "      <td>get out and get something cylo</td>\n",
       "      <td>dbdcd722-c4f3-457e-aff9-3ab1cfd2b885</td>\n",
       "      <td>[]</td>\n",
       "      <td>[]</td>\n",
       "      <td>[]</td>\n",
       "      <td>[]</td>\n",
       "      <td>[]</td>\n",
       "      <td>[]</td>\n",
       "      <td>{track=18, video=5, artist=16, album=15, playl...</td>\n",
       "      <td>2020-10-14</td>\n",
       "      <td>187</td>\n",
       "      <td>[]</td>\n",
       "      <td>search_result</td>\n",
       "      <td>get out and get something cylo</td>\n",
       "      <td>d728a42f-4b72-462f-a3a1-c4a190438237</td>\n",
       "      <td>dbdcd722-c4f3-457e-aff9-3ab1cfd2b885</td>\n",
       "      <td>1.602641e+12</td>\n",
       "      <td>2020-10-14</td>\n",
       "      <td>187.0</td>\n",
       "    </tr>\n",
       "    <tr>\n",
       "      <th>8</th>\n",
       "      <td>search_query</td>\n",
       "      <td>get out and get something cylo gree</td>\n",
       "      <td>ebfeb23d-0f2d-48ba-a808-ebbf6a4d8322</td>\n",
       "      <td>[]</td>\n",
       "      <td>[]</td>\n",
       "      <td>[]</td>\n",
       "      <td>[]</td>\n",
       "      <td>[]</td>\n",
       "      <td>[]</td>\n",
       "      <td>{track=39, video=7, artist=29, album=42, playl...</td>\n",
       "      <td>2020-10-14</td>\n",
       "      <td>187</td>\n",
       "      <td>[]</td>\n",
       "      <td>search_result</td>\n",
       "      <td>get out and get something cylo gree</td>\n",
       "      <td>d728a42f-4b72-462f-a3a1-c4a190438237</td>\n",
       "      <td>ebfeb23d-0f2d-48ba-a808-ebbf6a4d8322</td>\n",
       "      <td>1.602641e+12</td>\n",
       "      <td>2020-10-14</td>\n",
       "      <td>187.0</td>\n",
       "    </tr>\n",
       "    <tr>\n",
       "      <th>9</th>\n",
       "      <td>search_query</td>\n",
       "      <td>get out and get something goodie mo</td>\n",
       "      <td>897e4c55-4089-40cb-a23b-157809c7e892</td>\n",
       "      <td>[]</td>\n",
       "      <td>[]</td>\n",
       "      <td>[]</td>\n",
       "      <td>[]</td>\n",
       "      <td>[]</td>\n",
       "      <td>[]</td>\n",
       "      <td>{track=48, video=21, artist=18, album=32, play...</td>\n",
       "      <td>2020-10-14</td>\n",
       "      <td>187</td>\n",
       "      <td>[]</td>\n",
       "      <td>search_result</td>\n",
       "      <td>get out and get something goodie mo</td>\n",
       "      <td>d728a42f-4b72-462f-a3a1-c4a190438237</td>\n",
       "      <td>897e4c55-4089-40cb-a23b-157809c7e892</td>\n",
       "      <td>1.602641e+12</td>\n",
       "      <td>2020-10-14</td>\n",
       "      <td>187.0</td>\n",
       "    </tr>\n",
       "    <tr>\n",
       "      <th>10</th>\n",
       "      <td>search_query</td>\n",
       "      <td>lick me dr7</td>\n",
       "      <td>6ee70e65-1f7c-4c95-a55d-47293a9c80a9</td>\n",
       "      <td>[]</td>\n",
       "      <td>[]</td>\n",
       "      <td>[]</td>\n",
       "      <td>[]</td>\n",
       "      <td>[]</td>\n",
       "      <td>[]</td>\n",
       "      <td>{track=8, video=4, artist=12, album=7, playlis...</td>\n",
       "      <td>2020-10-14</td>\n",
       "      <td>260</td>\n",
       "      <td>[]</td>\n",
       "      <td>search_result</td>\n",
       "      <td>lick me dr7</td>\n",
       "      <td>3722c548-2e8e-4507-9668-587ed9322a32</td>\n",
       "      <td>6ee70e65-1f7c-4c95-a55d-47293a9c80a9</td>\n",
       "      <td>1.602639e+12</td>\n",
       "      <td>2020-10-14</td>\n",
       "      <td>260.0</td>\n",
       "    </tr>\n",
       "    <tr>\n",
       "      <th>11</th>\n",
       "      <td>search_query</td>\n",
       "      <td>JIA the offee</td>\n",
       "      <td>ef7e7d27-e655-4e0d-b329-a5f8ae4bc282</td>\n",
       "      <td>[]</td>\n",
       "      <td>[]</td>\n",
       "      <td>[]</td>\n",
       "      <td>[]</td>\n",
       "      <td>[]</td>\n",
       "      <td>[]</td>\n",
       "      <td>{track=12, video=8, artist=11, album=8, playli...</td>\n",
       "      <td>2020-10-14</td>\n",
       "      <td>21</td>\n",
       "      <td>[]</td>\n",
       "      <td>search_result</td>\n",
       "      <td>JIA the offee</td>\n",
       "      <td>0b4b7666-60d4-4f1d-bf3c-2c3198c73b81</td>\n",
       "      <td>ef7e7d27-e655-4e0d-b329-a5f8ae4bc282</td>\n",
       "      <td>1.602641e+12</td>\n",
       "      <td>2020-10-14</td>\n",
       "      <td>21.0</td>\n",
       "    </tr>\n",
       "    <tr>\n",
       "      <th>12</th>\n",
       "      <td>search_query</td>\n",
       "      <td>liz lov</td>\n",
       "      <td>bc722112-93fc-403b-8645-8d25cf2419f0</td>\n",
       "      <td>[]</td>\n",
       "      <td>[]</td>\n",
       "      <td>[]</td>\n",
       "      <td>[]</td>\n",
       "      <td>[]</td>\n",
       "      <td>[]</td>\n",
       "      <td>{track=0, video=6, artist=0, album=0, playlist...</td>\n",
       "      <td>2020-10-14</td>\n",
       "      <td>137</td>\n",
       "      <td>[]</td>\n",
       "      <td>NaN</td>\n",
       "      <td>NaN</td>\n",
       "      <td>NaN</td>\n",
       "      <td>NaN</td>\n",
       "      <td>NaN</td>\n",
       "      <td>NaN</td>\n",
       "      <td>NaN</td>\n",
       "    </tr>\n",
       "    <tr>\n",
       "      <th>13</th>\n",
       "      <td>search_query</td>\n",
       "      <td>tip 100 2020</td>\n",
       "      <td>5fd48457-a35f-454b-be01-582e518d2945</td>\n",
       "      <td>[]</td>\n",
       "      <td>[]</td>\n",
       "      <td>[]</td>\n",
       "      <td>[]</td>\n",
       "      <td>[]</td>\n",
       "      <td>[]</td>\n",
       "      <td>{track=44, video=23, artist=18, album=21, play...</td>\n",
       "      <td>2020-10-14</td>\n",
       "      <td>277</td>\n",
       "      <td>[]</td>\n",
       "      <td>search_result</td>\n",
       "      <td>tip 100 2020</td>\n",
       "      <td>d18a8d2e-58d5-4384-a1b8-2dc8945d03af</td>\n",
       "      <td>5fd48457-a35f-454b-be01-582e518d2945</td>\n",
       "      <td>1.602639e+12</td>\n",
       "      <td>2020-10-14</td>\n",
       "      <td>277.0</td>\n",
       "    </tr>\n",
       "    <tr>\n",
       "      <th>14</th>\n",
       "      <td>search_query</td>\n",
       "      <td>get out and get something cylo gre</td>\n",
       "      <td>785e0e5a-4bcc-4094-a8f1-9b21a5da56f3</td>\n",
       "      <td>[]</td>\n",
       "      <td>[]</td>\n",
       "      <td>[]</td>\n",
       "      <td>[]</td>\n",
       "      <td>[]</td>\n",
       "      <td>[]</td>\n",
       "      <td>{track=26, video=5, artist=24, album=19, playl...</td>\n",
       "      <td>2020-10-14</td>\n",
       "      <td>187</td>\n",
       "      <td>[]</td>\n",
       "      <td>search_result</td>\n",
       "      <td>get out and get something cylo gre</td>\n",
       "      <td>d728a42f-4b72-462f-a3a1-c4a190438237</td>\n",
       "      <td>785e0e5a-4bcc-4094-a8f1-9b21a5da56f3</td>\n",
       "      <td>1.602641e+12</td>\n",
       "      <td>2020-10-14</td>\n",
       "      <td>187.0</td>\n",
       "    </tr>\n",
       "    <tr>\n",
       "      <th>15</th>\n",
       "      <td>search_query</td>\n",
       "      <td>how was your fay</td>\n",
       "      <td>65f54b71-c53c-475a-a472-c83ca61b0fd0</td>\n",
       "      <td>[]</td>\n",
       "      <td>[]</td>\n",
       "      <td>[]</td>\n",
       "      <td>[]</td>\n",
       "      <td>[]</td>\n",
       "      <td>[]</td>\n",
       "      <td>{track=51, video=9, artist=13, album=15, playl...</td>\n",
       "      <td>2020-10-14</td>\n",
       "      <td>96</td>\n",
       "      <td>[]</td>\n",
       "      <td>search_result</td>\n",
       "      <td>how was your fay</td>\n",
       "      <td>b2c96bf5-9e7d-4f9d-8fca-98e245858c14</td>\n",
       "      <td>65f54b71-c53c-475a-a472-c83ca61b0fd0</td>\n",
       "      <td>1.602639e+12</td>\n",
       "      <td>2020-10-14</td>\n",
       "      <td>96.0</td>\n",
       "    </tr>\n",
       "    <tr>\n",
       "      <th>16</th>\n",
       "      <td>search_query</td>\n",
       "      <td>ziploc tyler</td>\n",
       "      <td>311c7a7c-4b5d-4f5f-b0e6-5e1f1e1dbcdc</td>\n",
       "      <td>[]</td>\n",
       "      <td>[]</td>\n",
       "      <td>[]</td>\n",
       "      <td>[]</td>\n",
       "      <td>[]</td>\n",
       "      <td>[]</td>\n",
       "      <td>{track=10, video=3, artist=9, album=7, playlis...</td>\n",
       "      <td>2020-10-14</td>\n",
       "      <td>15</td>\n",
       "      <td>[]</td>\n",
       "      <td>search_result</td>\n",
       "      <td>ziploc tyler</td>\n",
       "      <td>56b16db2-9141-49da-bb75-d7427452ed67</td>\n",
       "      <td>311c7a7c-4b5d-4f5f-b0e6-5e1f1e1dbcdc</td>\n",
       "      <td>1.602641e+12</td>\n",
       "      <td>2020-10-14</td>\n",
       "      <td>15.0</td>\n",
       "    </tr>\n",
       "    <tr>\n",
       "      <th>17</th>\n",
       "      <td>search_query</td>\n",
       "      <td>get out and get something cy</td>\n",
       "      <td>775b2c7e-a398-4de4-9ab4-00fd798a1a5c</td>\n",
       "      <td>[]</td>\n",
       "      <td>[]</td>\n",
       "      <td>[]</td>\n",
       "      <td>[]</td>\n",
       "      <td>[]</td>\n",
       "      <td>[]</td>\n",
       "      <td>{track=50, video=10, artist=33, album=45, play...</td>\n",
       "      <td>2020-10-14</td>\n",
       "      <td>187</td>\n",
       "      <td>[]</td>\n",
       "      <td>search_result</td>\n",
       "      <td>get out and get something cy</td>\n",
       "      <td>d728a42f-4b72-462f-a3a1-c4a190438237</td>\n",
       "      <td>775b2c7e-a398-4de4-9ab4-00fd798a1a5c</td>\n",
       "      <td>1.602641e+12</td>\n",
       "      <td>2020-10-14</td>\n",
       "      <td>187.0</td>\n",
       "    </tr>\n",
       "    <tr>\n",
       "      <th>18</th>\n",
       "      <td>search_query</td>\n",
       "      <td>Nline cinema</td>\n",
       "      <td>5bc11ba3-1f72-4c08-b10d-b05387a777f9</td>\n",
       "      <td>[]</td>\n",
       "      <td>[]</td>\n",
       "      <td>[]</td>\n",
       "      <td>[]</td>\n",
       "      <td>[]</td>\n",
       "      <td>[]</td>\n",
       "      <td>{track=8, video=3, artist=7, album=7, playlist...</td>\n",
       "      <td>2020-10-14</td>\n",
       "      <td>351</td>\n",
       "      <td>[]</td>\n",
       "      <td>NaN</td>\n",
       "      <td>NaN</td>\n",
       "      <td>NaN</td>\n",
       "      <td>NaN</td>\n",
       "      <td>NaN</td>\n",
       "      <td>NaN</td>\n",
       "      <td>NaN</td>\n",
       "    </tr>\n",
       "    <tr>\n",
       "      <th>19</th>\n",
       "      <td>search_query</td>\n",
       "      <td>summerslam 88</td>\n",
       "      <td>94e37da3-6328-4376-8d13-ebeaaca7bae6</td>\n",
       "      <td>[]</td>\n",
       "      <td>[]</td>\n",
       "      <td>[]</td>\n",
       "      <td>[]</td>\n",
       "      <td>[]</td>\n",
       "      <td>[]</td>\n",
       "      <td>{track=17, video=4, artist=8, album=13, playli...</td>\n",
       "      <td>2020-10-14</td>\n",
       "      <td>137</td>\n",
       "      <td>[]</td>\n",
       "      <td>search_result</td>\n",
       "      <td>summerslam 88</td>\n",
       "      <td>c1dc675b-3e01-4948-86f9-5afe2df5c4da</td>\n",
       "      <td>94e37da3-6328-4376-8d13-ebeaaca7bae6</td>\n",
       "      <td>1.602639e+12</td>\n",
       "      <td>2020-10-14</td>\n",
       "      <td>137.0</td>\n",
       "    </tr>\n",
       "    <tr>\n",
       "      <th>20</th>\n",
       "      <td>search_query</td>\n",
       "      <td>foster the people wpr</td>\n",
       "      <td>58c23d78-cc5f-451a-ae82-2881f5e22956</td>\n",
       "      <td>[]</td>\n",
       "      <td>[]</td>\n",
       "      <td>[]</td>\n",
       "      <td>[]</td>\n",
       "      <td>[]</td>\n",
       "      <td>[]</td>\n",
       "      <td>{track=22, video=11, artist=12, album=13, play...</td>\n",
       "      <td>2020-10-14</td>\n",
       "      <td>152</td>\n",
       "      <td>[]</td>\n",
       "      <td>search_result</td>\n",
       "      <td>foster the people wpr</td>\n",
       "      <td>ebdd6ddc-0082-496b-979a-8872cad52b99</td>\n",
       "      <td>58c23d78-cc5f-451a-ae82-2881f5e22956</td>\n",
       "      <td>1.602639e+12</td>\n",
       "      <td>2020-10-14</td>\n",
       "      <td>152.0</td>\n",
       "    </tr>\n",
       "    <tr>\n",
       "      <th>21</th>\n",
       "      <td>search_query</td>\n",
       "      <td>get out and get something cylo</td>\n",
       "      <td>8cb8973d-c1dd-4904-b37e-8ab4b8c91703</td>\n",
       "      <td>[]</td>\n",
       "      <td>[]</td>\n",
       "      <td>[]</td>\n",
       "      <td>[]</td>\n",
       "      <td>[]</td>\n",
       "      <td>[]</td>\n",
       "      <td>{track=20, video=6, artist=15, album=20, playl...</td>\n",
       "      <td>2020-10-14</td>\n",
       "      <td>187</td>\n",
       "      <td>[]</td>\n",
       "      <td>search_result</td>\n",
       "      <td>get out and get something cylo</td>\n",
       "      <td>d728a42f-4b72-462f-a3a1-c4a190438237</td>\n",
       "      <td>8cb8973d-c1dd-4904-b37e-8ab4b8c91703</td>\n",
       "      <td>1.602641e+12</td>\n",
       "      <td>2020-10-14</td>\n",
       "      <td>187.0</td>\n",
       "    </tr>\n",
       "  </tbody>\n",
       "</table>\n",
       "</div>"
      ],
      "text/plain": [
       "    event_name_x                               query_x  \\\n",
       "0   search_query               art of story telling pt   \n",
       "1   search_query  get out and get something cylo green   \n",
       "2   search_query                        Newline cinema   \n",
       "3   search_query                             jay wsyee   \n",
       "4   search_query                           tp 100 2020   \n",
       "5   search_query                         Neline cinema   \n",
       "6   search_query                     so how's your gir   \n",
       "7   search_query        get out and get something cylo   \n",
       "8   search_query   get out and get something cylo gree   \n",
       "9   search_query   get out and get something goodie mo   \n",
       "10  search_query                           lick me dr7   \n",
       "11  search_query                         JIA the offee   \n",
       "12  search_query                               liz lov   \n",
       "13  search_query                          tip 100 2020   \n",
       "14  search_query    get out and get something cylo gre   \n",
       "15  search_query                      how was your fay   \n",
       "16  search_query                         ziploc tyler    \n",
       "17  search_query          get out and get something cy   \n",
       "18  search_query                          Nline cinema   \n",
       "19  search_query                         summerslam 88   \n",
       "20  search_query                 foster the people wpr   \n",
       "21  search_query       get out and get something cylo    \n",
       "\n",
       "                                 queryId topresults trackresults  \\\n",
       "0   00db2706-a334-41f1-aeb5-bac027618ff3         []           []   \n",
       "1   2a3ef482-d117-4a8e-9e94-88e575af932b         []           []   \n",
       "2   6f144bf3-676a-42ef-b70b-34332e001e23         []           []   \n",
       "3   7cc719ea-3750-4420-9421-c234b180d280         []           []   \n",
       "4   8a685fb3-d3a6-40ae-8760-90157d19b526         []           []   \n",
       "5   461f0391-eb37-4f31-afa7-415e868b60b6         []           []   \n",
       "6   c2eb84bd-a7df-4494-aaa5-553d1976b4fc         []           []   \n",
       "7   dbdcd722-c4f3-457e-aff9-3ab1cfd2b885         []           []   \n",
       "8   ebfeb23d-0f2d-48ba-a808-ebbf6a4d8322         []           []   \n",
       "9   897e4c55-4089-40cb-a23b-157809c7e892         []           []   \n",
       "10  6ee70e65-1f7c-4c95-a55d-47293a9c80a9         []           []   \n",
       "11  ef7e7d27-e655-4e0d-b329-a5f8ae4bc282         []           []   \n",
       "12  bc722112-93fc-403b-8645-8d25cf2419f0         []           []   \n",
       "13  5fd48457-a35f-454b-be01-582e518d2945         []           []   \n",
       "14  785e0e5a-4bcc-4094-a8f1-9b21a5da56f3         []           []   \n",
       "15  65f54b71-c53c-475a-a472-c83ca61b0fd0         []           []   \n",
       "16  311c7a7c-4b5d-4f5f-b0e6-5e1f1e1dbcdc         []           []   \n",
       "17  775b2c7e-a398-4de4-9ab4-00fd798a1a5c         []           []   \n",
       "18  5bc11ba3-1f72-4c08-b10d-b05387a777f9         []           []   \n",
       "19  94e37da3-6328-4376-8d13-ebeaaca7bae6         []           []   \n",
       "20  58c23d78-cc5f-451a-ae82-2881f5e22956         []           []   \n",
       "21  8cb8973d-c1dd-4904-b37e-8ab4b8c91703         []           []   \n",
       "\n",
       "   artistresults albumresults videoresults playlistresults  \\\n",
       "0             []           []           []              []   \n",
       "1             []           []           []              []   \n",
       "2             []           []           []              []   \n",
       "3             []           []           []              []   \n",
       "4             []           []           []              []   \n",
       "5             []           []           []              []   \n",
       "6             []           []           []              []   \n",
       "7             []           []           []              []   \n",
       "8             []           []           []              []   \n",
       "9             []           []           []              []   \n",
       "10            []           []           []              []   \n",
       "11            []           []           []              []   \n",
       "12            []           []           []              []   \n",
       "13            []           []           []              []   \n",
       "14            []           []           []              []   \n",
       "15            []           []           []              []   \n",
       "16            []           []           []              []   \n",
       "17            []           []           []              []   \n",
       "18            []           []           []              []   \n",
       "19            []           []           []              []   \n",
       "20            []           []           []              []   \n",
       "21            []           []           []              []   \n",
       "\n",
       "                                         responseTime        dt_x  user_id_x  \\\n",
       "0   {track=19, video=7, artist=17, album=19, playl...  2020-10-14        258   \n",
       "1   {track=20, video=6, artist=15, album=18, playl...  2020-10-14        187   \n",
       "2   {track=7, video=3, artist=9, album=5, playlist...  2020-10-14        351   \n",
       "3   {track=7, video=4, artist=8, album=7, playlist...  2020-10-14         55   \n",
       "4   {track=34, video=3, artist=32, album=32, playl...  2020-10-14        277   \n",
       "5   {track=42, video=5, artist=10, album=7, playli...  2020-10-14        351   \n",
       "6   {track=43, video=6, artist=15, album=12, playl...  2020-10-14         28   \n",
       "7   {track=18, video=5, artist=16, album=15, playl...  2020-10-14        187   \n",
       "8   {track=39, video=7, artist=29, album=42, playl...  2020-10-14        187   \n",
       "9   {track=48, video=21, artist=18, album=32, play...  2020-10-14        187   \n",
       "10  {track=8, video=4, artist=12, album=7, playlis...  2020-10-14        260   \n",
       "11  {track=12, video=8, artist=11, album=8, playli...  2020-10-14         21   \n",
       "12  {track=0, video=6, artist=0, album=0, playlist...  2020-10-14        137   \n",
       "13  {track=44, video=23, artist=18, album=21, play...  2020-10-14        277   \n",
       "14  {track=26, video=5, artist=24, album=19, playl...  2020-10-14        187   \n",
       "15  {track=51, video=9, artist=13, album=15, playl...  2020-10-14         96   \n",
       "16  {track=10, video=3, artist=9, album=7, playlis...  2020-10-14         15   \n",
       "17  {track=50, video=10, artist=33, album=45, play...  2020-10-14        187   \n",
       "18  {track=8, video=3, artist=7, album=7, playlist...  2020-10-14        351   \n",
       "19  {track=17, video=4, artist=8, album=13, playli...  2020-10-14        137   \n",
       "20  {track=22, video=11, artist=12, album=13, play...  2020-10-14        152   \n",
       "21  {track=20, video=6, artist=15, album=20, playl...  2020-10-14        187   \n",
       "\n",
       "   idtopresults   event_name_y                               query_y  \\\n",
       "0            []  search_result               art of story telling pt   \n",
       "1            []  search_result  get out and get something cylo green   \n",
       "2            []            NaN                                   NaN   \n",
       "3            []  search_result                             jay wsyee   \n",
       "4            []  search_result                           tp 100 2020   \n",
       "5            []            NaN                                   NaN   \n",
       "6            []  search_result                     so how's your gir   \n",
       "7            []  search_result        get out and get something cylo   \n",
       "8            []  search_result   get out and get something cylo gree   \n",
       "9            []  search_result   get out and get something goodie mo   \n",
       "10           []  search_result                           lick me dr7   \n",
       "11           []  search_result                         JIA the offee   \n",
       "12           []            NaN                                   NaN   \n",
       "13           []  search_result                          tip 100 2020   \n",
       "14           []  search_result    get out and get something cylo gre   \n",
       "15           []  search_result                      how was your fay   \n",
       "16           []  search_result                         ziploc tyler    \n",
       "17           []  search_result          get out and get something cy   \n",
       "18           []            NaN                                   NaN   \n",
       "19           []  search_result                         summerslam 88   \n",
       "20           []  search_result                 foster the people wpr   \n",
       "21           []  search_result       get out and get something cylo    \n",
       "\n",
       "                              searchUuid  \\\n",
       "0   d64e4ca9-6bac-4737-b399-469688775f49   \n",
       "1   d728a42f-4b72-462f-a3a1-c4a190438237   \n",
       "2                                    NaN   \n",
       "3   a7d55194-11c3-4df5-a2f0-11542e81a0f6   \n",
       "4   d18a8d2e-58d5-4384-a1b8-2dc8945d03af   \n",
       "5                                    NaN   \n",
       "6   38b41f4d-f0d3-4b79-ba3b-73f358a7738e   \n",
       "7   d728a42f-4b72-462f-a3a1-c4a190438237   \n",
       "8   d728a42f-4b72-462f-a3a1-c4a190438237   \n",
       "9   d728a42f-4b72-462f-a3a1-c4a190438237   \n",
       "10  3722c548-2e8e-4507-9668-587ed9322a32   \n",
       "11  0b4b7666-60d4-4f1d-bf3c-2c3198c73b81   \n",
       "12                                   NaN   \n",
       "13  d18a8d2e-58d5-4384-a1b8-2dc8945d03af   \n",
       "14  d728a42f-4b72-462f-a3a1-c4a190438237   \n",
       "15  b2c96bf5-9e7d-4f9d-8fca-98e245858c14   \n",
       "16  56b16db2-9141-49da-bb75-d7427452ed67   \n",
       "17  d728a42f-4b72-462f-a3a1-c4a190438237   \n",
       "18                                   NaN   \n",
       "19  c1dc675b-3e01-4948-86f9-5afe2df5c4da   \n",
       "20  ebdd6ddc-0082-496b-979a-8872cad52b99   \n",
       "21  d728a42f-4b72-462f-a3a1-c4a190438237   \n",
       "\n",
       "                               queryUuid      event_ts        dt_y  user_id_y  \n",
       "0   00db2706-a334-41f1-aeb5-bac027618ff3  1.602639e+12  2020-10-14      258.0  \n",
       "1   2a3ef482-d117-4a8e-9e94-88e575af932b  1.602641e+12  2020-10-14      187.0  \n",
       "2                                    NaN           NaN         NaN        NaN  \n",
       "3   7cc719ea-3750-4420-9421-c234b180d280  1.602639e+12  2020-10-14       55.0  \n",
       "4   8a685fb3-d3a6-40ae-8760-90157d19b526  1.602639e+12  2020-10-14      277.0  \n",
       "5                                    NaN           NaN         NaN        NaN  \n",
       "6   c2eb84bd-a7df-4494-aaa5-553d1976b4fc  1.602639e+12  2020-10-14       28.0  \n",
       "7   dbdcd722-c4f3-457e-aff9-3ab1cfd2b885  1.602641e+12  2020-10-14      187.0  \n",
       "8   ebfeb23d-0f2d-48ba-a808-ebbf6a4d8322  1.602641e+12  2020-10-14      187.0  \n",
       "9   897e4c55-4089-40cb-a23b-157809c7e892  1.602641e+12  2020-10-14      187.0  \n",
       "10  6ee70e65-1f7c-4c95-a55d-47293a9c80a9  1.602639e+12  2020-10-14      260.0  \n",
       "11  ef7e7d27-e655-4e0d-b329-a5f8ae4bc282  1.602641e+12  2020-10-14       21.0  \n",
       "12                                   NaN           NaN         NaN        NaN  \n",
       "13  5fd48457-a35f-454b-be01-582e518d2945  1.602639e+12  2020-10-14      277.0  \n",
       "14  785e0e5a-4bcc-4094-a8f1-9b21a5da56f3  1.602641e+12  2020-10-14      187.0  \n",
       "15  65f54b71-c53c-475a-a472-c83ca61b0fd0  1.602639e+12  2020-10-14       96.0  \n",
       "16  311c7a7c-4b5d-4f5f-b0e6-5e1f1e1dbcdc  1.602641e+12  2020-10-14       15.0  \n",
       "17  775b2c7e-a398-4de4-9ab4-00fd798a1a5c  1.602641e+12  2020-10-14      187.0  \n",
       "18                                   NaN           NaN         NaN        NaN  \n",
       "19  94e37da3-6328-4376-8d13-ebeaaca7bae6  1.602639e+12  2020-10-14      137.0  \n",
       "20  58c23d78-cc5f-451a-ae82-2881f5e22956  1.602639e+12  2020-10-14      152.0  \n",
       "21  8cb8973d-c1dd-4904-b37e-8ab4b8c91703  1.602641e+12  2020-10-14      187.0  "
      ]
     },
     "execution_count": 75,
     "metadata": {},
     "output_type": "execute_result"
    }
   ],
   "source": [
    "join = pd.merge(left=no_results, right=search_result, how='left', left_on='queryId',right_on='queryUuid')\n",
    "join"
   ]
  },
  {
   "cell_type": "markdown",
   "metadata": {},
   "source": [
    "Some of the queries don't have a corresponding search Id in search_result, so we don't know which search they correspond to. It could be outside of the time interval or there could be some other reason. \n",
    "\n",
    "We will just do an inner join instead and keep the ones we can find the search Id for."
   ]
  },
  {
   "cell_type": "code",
   "execution_count": 76,
   "metadata": {},
   "outputs": [
    {
     "data": {
      "text/html": [
       "<div>\n",
       "<style scoped>\n",
       "    .dataframe tbody tr th:only-of-type {\n",
       "        vertical-align: middle;\n",
       "    }\n",
       "\n",
       "    .dataframe tbody tr th {\n",
       "        vertical-align: top;\n",
       "    }\n",
       "\n",
       "    .dataframe thead th {\n",
       "        text-align: right;\n",
       "    }\n",
       "</style>\n",
       "<table border=\"1\" class=\"dataframe\">\n",
       "  <thead>\n",
       "    <tr style=\"text-align: right;\">\n",
       "      <th></th>\n",
       "      <th>event_name_x</th>\n",
       "      <th>query_x</th>\n",
       "      <th>queryId</th>\n",
       "      <th>topresults</th>\n",
       "      <th>trackresults</th>\n",
       "      <th>artistresults</th>\n",
       "      <th>albumresults</th>\n",
       "      <th>videoresults</th>\n",
       "      <th>playlistresults</th>\n",
       "      <th>responseTime</th>\n",
       "      <th>dt_x</th>\n",
       "      <th>user_id_x</th>\n",
       "      <th>idtopresults</th>\n",
       "      <th>event_name_y</th>\n",
       "      <th>query_y</th>\n",
       "      <th>searchUuid</th>\n",
       "      <th>queryUuid</th>\n",
       "      <th>event_ts</th>\n",
       "      <th>dt_y</th>\n",
       "      <th>user_id_y</th>\n",
       "    </tr>\n",
       "  </thead>\n",
       "  <tbody>\n",
       "    <tr>\n",
       "      <th>0</th>\n",
       "      <td>search_query</td>\n",
       "      <td>art of story telling pt</td>\n",
       "      <td>00db2706-a334-41f1-aeb5-bac027618ff3</td>\n",
       "      <td>[]</td>\n",
       "      <td>[]</td>\n",
       "      <td>[]</td>\n",
       "      <td>[]</td>\n",
       "      <td>[]</td>\n",
       "      <td>[]</td>\n",
       "      <td>{track=19, video=7, artist=17, album=19, playl...</td>\n",
       "      <td>2020-10-14</td>\n",
       "      <td>258</td>\n",
       "      <td>[]</td>\n",
       "      <td>search_result</td>\n",
       "      <td>art of story telling pt</td>\n",
       "      <td>d64e4ca9-6bac-4737-b399-469688775f49</td>\n",
       "      <td>00db2706-a334-41f1-aeb5-bac027618ff3</td>\n",
       "      <td>1602638590355</td>\n",
       "      <td>2020-10-14</td>\n",
       "      <td>258</td>\n",
       "    </tr>\n",
       "    <tr>\n",
       "      <th>1</th>\n",
       "      <td>search_query</td>\n",
       "      <td>get out and get something cylo green</td>\n",
       "      <td>2a3ef482-d117-4a8e-9e94-88e575af932b</td>\n",
       "      <td>[]</td>\n",
       "      <td>[]</td>\n",
       "      <td>[]</td>\n",
       "      <td>[]</td>\n",
       "      <td>[]</td>\n",
       "      <td>[]</td>\n",
       "      <td>{track=20, video=6, artist=15, album=18, playl...</td>\n",
       "      <td>2020-10-14</td>\n",
       "      <td>187</td>\n",
       "      <td>[]</td>\n",
       "      <td>search_result</td>\n",
       "      <td>get out and get something cylo green</td>\n",
       "      <td>d728a42f-4b72-462f-a3a1-c4a190438237</td>\n",
       "      <td>2a3ef482-d117-4a8e-9e94-88e575af932b</td>\n",
       "      <td>1602640548942</td>\n",
       "      <td>2020-10-14</td>\n",
       "      <td>187</td>\n",
       "    </tr>\n",
       "    <tr>\n",
       "      <th>2</th>\n",
       "      <td>search_query</td>\n",
       "      <td>jay wsyee</td>\n",
       "      <td>7cc719ea-3750-4420-9421-c234b180d280</td>\n",
       "      <td>[]</td>\n",
       "      <td>[]</td>\n",
       "      <td>[]</td>\n",
       "      <td>[]</td>\n",
       "      <td>[]</td>\n",
       "      <td>[]</td>\n",
       "      <td>{track=7, video=4, artist=8, album=7, playlist...</td>\n",
       "      <td>2020-10-14</td>\n",
       "      <td>55</td>\n",
       "      <td>[]</td>\n",
       "      <td>search_result</td>\n",
       "      <td>jay wsyee</td>\n",
       "      <td>a7d55194-11c3-4df5-a2f0-11542e81a0f6</td>\n",
       "      <td>7cc719ea-3750-4420-9421-c234b180d280</td>\n",
       "      <td>1602638789338</td>\n",
       "      <td>2020-10-14</td>\n",
       "      <td>55</td>\n",
       "    </tr>\n",
       "  </tbody>\n",
       "</table>\n",
       "</div>"
      ],
      "text/plain": [
       "   event_name_x                               query_x  \\\n",
       "0  search_query               art of story telling pt   \n",
       "1  search_query  get out and get something cylo green   \n",
       "2  search_query                             jay wsyee   \n",
       "\n",
       "                                queryId topresults trackresults artistresults  \\\n",
       "0  00db2706-a334-41f1-aeb5-bac027618ff3         []           []            []   \n",
       "1  2a3ef482-d117-4a8e-9e94-88e575af932b         []           []            []   \n",
       "2  7cc719ea-3750-4420-9421-c234b180d280         []           []            []   \n",
       "\n",
       "  albumresults videoresults playlistresults  \\\n",
       "0           []           []              []   \n",
       "1           []           []              []   \n",
       "2           []           []              []   \n",
       "\n",
       "                                        responseTime        dt_x  user_id_x  \\\n",
       "0  {track=19, video=7, artist=17, album=19, playl...  2020-10-14        258   \n",
       "1  {track=20, video=6, artist=15, album=18, playl...  2020-10-14        187   \n",
       "2  {track=7, video=4, artist=8, album=7, playlist...  2020-10-14         55   \n",
       "\n",
       "  idtopresults   event_name_y                               query_y  \\\n",
       "0           []  search_result               art of story telling pt   \n",
       "1           []  search_result  get out and get something cylo green   \n",
       "2           []  search_result                             jay wsyee   \n",
       "\n",
       "                             searchUuid                             queryUuid  \\\n",
       "0  d64e4ca9-6bac-4737-b399-469688775f49  00db2706-a334-41f1-aeb5-bac027618ff3   \n",
       "1  d728a42f-4b72-462f-a3a1-c4a190438237  2a3ef482-d117-4a8e-9e94-88e575af932b   \n",
       "2  a7d55194-11c3-4df5-a2f0-11542e81a0f6  7cc719ea-3750-4420-9421-c234b180d280   \n",
       "\n",
       "        event_ts        dt_y  user_id_y  \n",
       "0  1602638590355  2020-10-14        258  \n",
       "1  1602640548942  2020-10-14        187  \n",
       "2  1602638789338  2020-10-14         55  "
      ]
     },
     "execution_count": 76,
     "metadata": {},
     "output_type": "execute_result"
    }
   ],
   "source": [
    "join = pd.merge(left=no_results, right=search_result, how='inner', left_on='queryId',right_on='queryUuid')\n",
    "join.head(3)"
   ]
  },
  {
   "cell_type": "markdown",
   "metadata": {},
   "source": [
    "We will count the distinct search sessions in the result."
   ]
  },
  {
   "cell_type": "code",
   "execution_count": 77,
   "metadata": {},
   "outputs": [
    {
     "data": {
      "text/plain": [
       "array(['d64e4ca9-6bac-4737-b399-469688775f49',\n",
       "       'd728a42f-4b72-462f-a3a1-c4a190438237',\n",
       "       'a7d55194-11c3-4df5-a2f0-11542e81a0f6',\n",
       "       'd18a8d2e-58d5-4384-a1b8-2dc8945d03af',\n",
       "       '38b41f4d-f0d3-4b79-ba3b-73f358a7738e',\n",
       "       '3722c548-2e8e-4507-9668-587ed9322a32',\n",
       "       '0b4b7666-60d4-4f1d-bf3c-2c3198c73b81',\n",
       "       'b2c96bf5-9e7d-4f9d-8fca-98e245858c14',\n",
       "       '56b16db2-9141-49da-bb75-d7427452ed67',\n",
       "       'c1dc675b-3e01-4948-86f9-5afe2df5c4da',\n",
       "       'ebdd6ddc-0082-496b-979a-8872cad52b99'], dtype=object)"
      ]
     },
     "execution_count": 77,
     "metadata": {},
     "output_type": "execute_result"
    }
   ],
   "source": [
    "join['searchUuid'].unique()"
   ]
  },
  {
   "cell_type": "code",
   "execution_count": 78,
   "metadata": {},
   "outputs": [
    {
     "data": {
      "text/plain": [
       "11"
      ]
     },
     "execution_count": 78,
     "metadata": {},
     "output_type": "execute_result"
    }
   ],
   "source": [
    "no_searches_nores = join['searchUuid'].unique().size\n",
    "no_searches_nores"
   ]
  },
  {
   "cell_type": "code",
   "execution_count": 79,
   "metadata": {},
   "outputs": [
    {
     "data": {
      "text/plain": [
       "0.01800327332242226"
      ]
     },
     "execution_count": 79,
     "metadata": {},
     "output_type": "execute_result"
    }
   ],
   "source": [
    "frac_nores_init = no_searches_nores/len(initiate_search)\n",
    "frac_nores_init"
   ]
  },
  {
   "cell_type": "code",
   "execution_count": 80,
   "metadata": {},
   "outputs": [
    {
     "data": {
      "text/plain": [
       "0.02534562211981567"
      ]
     },
     "execution_count": 80,
     "metadata": {},
     "output_type": "execute_result"
    }
   ],
   "source": [
    "frac_nores_searched = no_searches_nores/search_result['searchUuid'].unique().size\n",
    "frac_nores_searched"
   ]
  },
  {
   "cell_type": "markdown",
   "metadata": {},
   "source": [
    "We get 11 search sessions with no results. \n",
    "\n",
    "Out of the total 611 initiated searches, that is 1.8%.\n",
    "\n",
    "Out of the 434 search sessions with actual queries performed, that is 2.53%.\n",
    "\n",
    "This is not too high, but it's still an area open to improvement."
   ]
  }
 ],
 "metadata": {
  "kernelspec": {
   "display_name": "Python 3",
   "language": "python",
   "name": "python3"
  },
  "language_info": {
   "codemirror_mode": {
    "name": "ipython",
    "version": 3
   },
   "file_extension": ".py",
   "mimetype": "text/x-python",
   "name": "python",
   "nbconvert_exporter": "python",
   "pygments_lexer": "ipython3",
   "version": "3.8.3"
  }
 },
 "nbformat": 4,
 "nbformat_minor": 2
}
